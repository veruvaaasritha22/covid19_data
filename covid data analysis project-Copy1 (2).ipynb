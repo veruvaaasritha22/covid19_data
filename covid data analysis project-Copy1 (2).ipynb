{
 "cells": [
  {
   "cell_type": "code",
   "execution_count": 1,
   "id": "bc90838b",
   "metadata": {},
   "outputs": [],
   "source": [
    "import pandas as pd \n",
    "import matplotlib.pyplot as plt\n",
    "from matplotlib import style\n",
    "#style.use('ggplot')\n",
    "%matplotlib inline\n",
    "\n",
    "import plotly\n",
    "import plotly.express as px\n",
    "import plotly.graph_objects as go\n",
    "plt.rcParams['figure.figsize']=17,15\n",
    "import cufflinks as cf\n",
    "import plotly.offline as pyo\n",
    "from plotly.offline import init_notebook_mode,plot,iplot\n",
    "\n",
    "import folium\n",
    "\n"
   ]
  },
  {
   "cell_type": "code",
   "execution_count": 7,
   "id": "beff19c8",
   "metadata": {},
   "outputs": [
    {
     "data": {
      "text/html": [
       "        <script type=\"text/javascript\">\n",
       "        window.PlotlyConfig = {MathJaxConfig: 'local'};\n",
       "        if (window.MathJax) {MathJax.Hub.Config({SVG: {font: \"STIX-Web\"}});}\n",
       "        if (typeof require !== 'undefined') {\n",
       "        require.undef(\"plotly\");\n",
       "        requirejs.config({\n",
       "            paths: {\n",
       "                'plotly': ['https://cdn.plot.ly/plotly-2.9.0.min']\n",
       "            }\n",
       "        });\n",
       "        require(['plotly'], function(Plotly) {\n",
       "            window._Plotly = Plotly;\n",
       "        });\n",
       "        }\n",
       "        </script>\n",
       "        "
      ]
     },
     "metadata": {},
     "output_type": "display_data"
    },
    {
     "data": {
      "text/html": [
       "        <script type=\"text/javascript\">\n",
       "        window.PlotlyConfig = {MathJaxConfig: 'local'};\n",
       "        if (window.MathJax) {MathJax.Hub.Config({SVG: {font: \"STIX-Web\"}});}\n",
       "        if (typeof require !== 'undefined') {\n",
       "        require.undef(\"plotly\");\n",
       "        requirejs.config({\n",
       "            paths: {\n",
       "                'plotly': ['https://cdn.plot.ly/plotly-2.9.0.min']\n",
       "            }\n",
       "        });\n",
       "        require(['plotly'], function(Plotly) {\n",
       "            window._Plotly = Plotly;\n",
       "        });\n",
       "        }\n",
       "        </script>\n",
       "        "
      ]
     },
     "metadata": {},
     "output_type": "display_data"
    }
   ],
   "source": [
    "pyo.init_notebook_mode(connected=True)\n",
    "cf.go_offline()"
   ]
  },
  {
   "cell_type": "code",
   "execution_count": 2,
   "id": "88d4909f",
   "metadata": {},
   "outputs": [],
   "source": [
    "df=pd.read_csv(r\"C:\\Users\\veruv\\OneDrive\\Desktop\\python folder\\Latest Covid-19 India Status.csv\")"
   ]
  },
  {
   "cell_type": "code",
   "execution_count": 31,
   "id": "4506a5ae",
   "metadata": {},
   "outputs": [
    {
     "data": {
      "text/html": [
       "<div>\n",
       "<style scoped>\n",
       "    .dataframe tbody tr th:only-of-type {\n",
       "        vertical-align: middle;\n",
       "    }\n",
       "\n",
       "    .dataframe tbody tr th {\n",
       "        vertical-align: top;\n",
       "    }\n",
       "\n",
       "    .dataframe thead th {\n",
       "        text-align: right;\n",
       "    }\n",
       "</style>\n",
       "<table border=\"1\" class=\"dataframe\">\n",
       "  <thead>\n",
       "    <tr style=\"text-align: right;\">\n",
       "      <th></th>\n",
       "      <th>State/UTs</th>\n",
       "      <th>Total Cases</th>\n",
       "      <th>Active</th>\n",
       "      <th>Discharged</th>\n",
       "      <th>Deaths</th>\n",
       "      <th>Active Ratio</th>\n",
       "      <th>Discharge Ratio</th>\n",
       "      <th>Death Ratio</th>\n",
       "      <th>Population</th>\n",
       "    </tr>\n",
       "  </thead>\n",
       "  <tbody>\n",
       "    <tr>\n",
       "      <th>0</th>\n",
       "      <td>Andaman and Nicobar</td>\n",
       "      <td>10502</td>\n",
       "      <td>40</td>\n",
       "      <td>10333</td>\n",
       "      <td>129</td>\n",
       "      <td>0.38</td>\n",
       "      <td>98.39</td>\n",
       "      <td>1.23</td>\n",
       "      <td>100896618</td>\n",
       "    </tr>\n",
       "    <tr>\n",
       "      <th>1</th>\n",
       "      <td>Andhra Pradesh</td>\n",
       "      <td>2333710</td>\n",
       "      <td>1453</td>\n",
       "      <td>2317524</td>\n",
       "      <td>14733</td>\n",
       "      <td>0.06</td>\n",
       "      <td>99.31</td>\n",
       "      <td>0.63</td>\n",
       "      <td>128500364</td>\n",
       "    </tr>\n",
       "    <tr>\n",
       "      <th>2</th>\n",
       "      <td>Arunachal Pradesh</td>\n",
       "      <td>66246</td>\n",
       "      <td>295</td>\n",
       "      <td>65655</td>\n",
       "      <td>296</td>\n",
       "      <td>0.45</td>\n",
       "      <td>99.11</td>\n",
       "      <td>0.45</td>\n",
       "      <td>658019</td>\n",
       "    </tr>\n",
       "    <tr>\n",
       "      <th>3</th>\n",
       "      <td>Assam</td>\n",
       "      <td>741541</td>\n",
       "      <td>4006</td>\n",
       "      <td>729513</td>\n",
       "      <td>8022</td>\n",
       "      <td>0.54</td>\n",
       "      <td>98.38</td>\n",
       "      <td>1.08</td>\n",
       "      <td>290492</td>\n",
       "    </tr>\n",
       "    <tr>\n",
       "      <th>4</th>\n",
       "      <td>Bihar</td>\n",
       "      <td>844997</td>\n",
       "      <td>1024</td>\n",
       "      <td>831688</td>\n",
       "      <td>12285</td>\n",
       "      <td>0.12</td>\n",
       "      <td>98.42</td>\n",
       "      <td>1.45</td>\n",
       "      <td>40100376</td>\n",
       "    </tr>\n",
       "    <tr>\n",
       "      <th>5</th>\n",
       "      <td>Chandigarh</td>\n",
       "      <td>97442</td>\n",
       "      <td>772</td>\n",
       "      <td>95499</td>\n",
       "      <td>1171</td>\n",
       "      <td>0.79</td>\n",
       "      <td>98.01</td>\n",
       "      <td>1.20</td>\n",
       "      <td>30501026</td>\n",
       "    </tr>\n",
       "    <tr>\n",
       "      <th>6</th>\n",
       "      <td>Chhattisgarh</td>\n",
       "      <td>1169532</td>\n",
       "      <td>3282</td>\n",
       "      <td>1152169</td>\n",
       "      <td>14081</td>\n",
       "      <td>0.28</td>\n",
       "      <td>98.52</td>\n",
       "      <td>1.20</td>\n",
       "      <td>28900667</td>\n",
       "    </tr>\n",
       "    <tr>\n",
       "      <th>7</th>\n",
       "      <td>Dadra and Nagar Haveli and Daman and Diu</td>\n",
       "      <td>11557</td>\n",
       "      <td>23</td>\n",
       "      <td>11530</td>\n",
       "      <td>4</td>\n",
       "      <td>0.20</td>\n",
       "      <td>99.77</td>\n",
       "      <td>0.03</td>\n",
       "      <td>231502578</td>\n",
       "    </tr>\n",
       "    <tr>\n",
       "      <th>8</th>\n",
       "      <td>Delhi</td>\n",
       "      <td>1970899</td>\n",
       "      <td>7484</td>\n",
       "      <td>1937079</td>\n",
       "      <td>26336</td>\n",
       "      <td>0.38</td>\n",
       "      <td>98.28</td>\n",
       "      <td>1.34</td>\n",
       "      <td>773997</td>\n",
       "    </tr>\n",
       "    <tr>\n",
       "      <th>9</th>\n",
       "      <td>Goa</td>\n",
       "      <td>253162</td>\n",
       "      <td>1046</td>\n",
       "      <td>248261</td>\n",
       "      <td>3855</td>\n",
       "      <td>0.41</td>\n",
       "      <td>98.06</td>\n",
       "      <td>1.52</td>\n",
       "      <td>3772103</td>\n",
       "    </tr>\n",
       "    <tr>\n",
       "      <th>10</th>\n",
       "      <td>Gujarat</td>\n",
       "      <td>1261922</td>\n",
       "      <td>5862</td>\n",
       "      <td>1245080</td>\n",
       "      <td>10980</td>\n",
       "      <td>0.46</td>\n",
       "      <td>98.67</td>\n",
       "      <td>0.87</td>\n",
       "      <td>70400153</td>\n",
       "    </tr>\n",
       "    <tr>\n",
       "      <th>11</th>\n",
       "      <td>Haryana</td>\n",
       "      <td>1036795</td>\n",
       "      <td>4598</td>\n",
       "      <td>1021547</td>\n",
       "      <td>10650</td>\n",
       "      <td>0.44</td>\n",
       "      <td>98.53</td>\n",
       "      <td>1.03</td>\n",
       "      <td>14999397</td>\n",
       "    </tr>\n",
       "    <tr>\n",
       "      <th>12</th>\n",
       "      <td>Himachal Pradesh</td>\n",
       "      <td>305383</td>\n",
       "      <td>4919</td>\n",
       "      <td>296287</td>\n",
       "      <td>4177</td>\n",
       "      <td>1.61</td>\n",
       "      <td>97.02</td>\n",
       "      <td>1.37</td>\n",
       "      <td>3436948</td>\n",
       "    </tr>\n",
       "    <tr>\n",
       "      <th>13</th>\n",
       "      <td>Jammu and Kashmir</td>\n",
       "      <td>470201</td>\n",
       "      <td>5045</td>\n",
       "      <td>460380</td>\n",
       "      <td>4776</td>\n",
       "      <td>1.07</td>\n",
       "      <td>97.91</td>\n",
       "      <td>1.02</td>\n",
       "      <td>66001</td>\n",
       "    </tr>\n",
       "    <tr>\n",
       "      <th>14</th>\n",
       "      <td>Jharkhand</td>\n",
       "      <td>441010</td>\n",
       "      <td>837</td>\n",
       "      <td>434845</td>\n",
       "      <td>5328</td>\n",
       "      <td>0.19</td>\n",
       "      <td>98.60</td>\n",
       "      <td>1.21</td>\n",
       "      <td>124904071</td>\n",
       "    </tr>\n",
       "    <tr>\n",
       "      <th>15</th>\n",
       "      <td>Karnataka</td>\n",
       "      <td>4021106</td>\n",
       "      <td>11252</td>\n",
       "      <td>3969691</td>\n",
       "      <td>40163</td>\n",
       "      <td>0.28</td>\n",
       "      <td>98.72</td>\n",
       "      <td>1.00</td>\n",
       "      <td>1711947</td>\n",
       "    </tr>\n",
       "    <tr>\n",
       "      <th>16</th>\n",
       "      <td>Kerala</td>\n",
       "      <td>6730762</td>\n",
       "      <td>10179</td>\n",
       "      <td>6650001</td>\n",
       "      <td>70582</td>\n",
       "      <td>0.15</td>\n",
       "      <td>98.80</td>\n",
       "      <td>1.05</td>\n",
       "      <td>91702478</td>\n",
       "    </tr>\n",
       "    <tr>\n",
       "      <th>17</th>\n",
       "      <td>Ladakh</td>\n",
       "      <td>29021</td>\n",
       "      <td>118</td>\n",
       "      <td>28675</td>\n",
       "      <td>228</td>\n",
       "      <td>0.41</td>\n",
       "      <td>98.81</td>\n",
       "      <td>0.79</td>\n",
       "      <td>4184959</td>\n",
       "    </tr>\n",
       "    <tr>\n",
       "      <th>18</th>\n",
       "      <td>Lakshadweep</td>\n",
       "      <td>11415</td>\n",
       "      <td>0</td>\n",
       "      <td>11363</td>\n",
       "      <td>52</td>\n",
       "      <td>0.00</td>\n",
       "      <td>99.54</td>\n",
       "      <td>0.46</td>\n",
       "      <td>11700099</td>\n",
       "    </tr>\n",
       "    <tr>\n",
       "      <th>19</th>\n",
       "      <td>Madhya Pradesh</td>\n",
       "      <td>1051447</td>\n",
       "      <td>1349</td>\n",
       "      <td>1039336</td>\n",
       "      <td>10762</td>\n",
       "      <td>0.13</td>\n",
       "      <td>98.85</td>\n",
       "      <td>1.02</td>\n",
       "      <td>7503010</td>\n",
       "    </tr>\n",
       "    <tr>\n",
       "      <th>20</th>\n",
       "      <td>Maharashtra</td>\n",
       "      <td>8060737</td>\n",
       "      <td>11968</td>\n",
       "      <td>7900626</td>\n",
       "      <td>148143</td>\n",
       "      <td>0.15</td>\n",
       "      <td>98.01</td>\n",
       "      <td>1.84</td>\n",
       "      <td>399001</td>\n",
       "    </tr>\n",
       "    <tr>\n",
       "      <th>21</th>\n",
       "      <td>Manipur</td>\n",
       "      <td>139377</td>\n",
       "      <td>244</td>\n",
       "      <td>136995</td>\n",
       "      <td>2138</td>\n",
       "      <td>0.18</td>\n",
       "      <td>98.29</td>\n",
       "      <td>1.53</td>\n",
       "      <td>47099270</td>\n",
       "    </tr>\n",
       "    <tr>\n",
       "      <th>22</th>\n",
       "      <td>Meghalaya</td>\n",
       "      <td>95925</td>\n",
       "      <td>686</td>\n",
       "      <td>93628</td>\n",
       "      <td>1611</td>\n",
       "      <td>0.72</td>\n",
       "      <td>97.61</td>\n",
       "      <td>1.68</td>\n",
       "      <td>79502477</td>\n",
       "    </tr>\n",
       "    <tr>\n",
       "      <th>23</th>\n",
       "      <td>Mizoram</td>\n",
       "      <td>234387</td>\n",
       "      <td>1214</td>\n",
       "      <td>232461</td>\n",
       "      <td>712</td>\n",
       "      <td>0.52</td>\n",
       "      <td>99.18</td>\n",
       "      <td>0.30</td>\n",
       "      <td>1308967</td>\n",
       "    </tr>\n",
       "    <tr>\n",
       "      <th>24</th>\n",
       "      <td>Nagaland</td>\n",
       "      <td>35838</td>\n",
       "      <td>54</td>\n",
       "      <td>35012</td>\n",
       "      <td>772</td>\n",
       "      <td>0.15</td>\n",
       "      <td>97.70</td>\n",
       "      <td>2.15</td>\n",
       "      <td>38157311</td>\n",
       "    </tr>\n",
       "    <tr>\n",
       "      <th>25</th>\n",
       "      <td>Odisha</td>\n",
       "      <td>1319527</td>\n",
       "      <td>5851</td>\n",
       "      <td>1304527</td>\n",
       "      <td>9149</td>\n",
       "      <td>0.44</td>\n",
       "      <td>98.86</td>\n",
       "      <td>0.69</td>\n",
       "      <td>19301096</td>\n",
       "    </tr>\n",
       "    <tr>\n",
       "      <th>26</th>\n",
       "      <td>Puducherry</td>\n",
       "      <td>171651</td>\n",
       "      <td>640</td>\n",
       "      <td>169044</td>\n",
       "      <td>1967</td>\n",
       "      <td>0.37</td>\n",
       "      <td>98.48</td>\n",
       "      <td>1.15</td>\n",
       "      <td>2073074</td>\n",
       "    </tr>\n",
       "    <tr>\n",
       "      <th>27</th>\n",
       "      <td>Punjab</td>\n",
       "      <td>777362</td>\n",
       "      <td>12429</td>\n",
       "      <td>747101</td>\n",
       "      <td>17832</td>\n",
       "      <td>1.60</td>\n",
       "      <td>96.11</td>\n",
       "      <td>2.29</td>\n",
       "      <td>34698876</td>\n",
       "    </tr>\n",
       "    <tr>\n",
       "      <th>28</th>\n",
       "      <td>Rajasthan</td>\n",
       "      <td>1297814</td>\n",
       "      <td>3813</td>\n",
       "      <td>1284411</td>\n",
       "      <td>9590</td>\n",
       "      <td>0.29</td>\n",
       "      <td>98.97</td>\n",
       "      <td>0.74</td>\n",
       "      <td>1521992</td>\n",
       "    </tr>\n",
       "    <tr>\n",
       "      <th>29</th>\n",
       "      <td>Sikkim</td>\n",
       "      <td>42784</td>\n",
       "      <td>476</td>\n",
       "      <td>41834</td>\n",
       "      <td>474</td>\n",
       "      <td>1.11</td>\n",
       "      <td>97.78</td>\n",
       "      <td>1.11</td>\n",
       "      <td>83697770</td>\n",
       "    </tr>\n",
       "    <tr>\n",
       "      <th>30</th>\n",
       "      <td>Tamil Nadu</td>\n",
       "      <td>3553670</td>\n",
       "      <td>9408</td>\n",
       "      <td>3506229</td>\n",
       "      <td>38033</td>\n",
       "      <td>0.26</td>\n",
       "      <td>98.67</td>\n",
       "      <td>1.07</td>\n",
       "      <td>35998752</td>\n",
       "    </tr>\n",
       "    <tr>\n",
       "      <th>31</th>\n",
       "      <td>Telengana</td>\n",
       "      <td>826284</td>\n",
       "      <td>5667</td>\n",
       "      <td>816506</td>\n",
       "      <td>4111</td>\n",
       "      <td>0.69</td>\n",
       "      <td>98.82</td>\n",
       "      <td>0.50</td>\n",
       "      <td>69599762</td>\n",
       "    </tr>\n",
       "    <tr>\n",
       "      <th>32</th>\n",
       "      <td>Tripura</td>\n",
       "      <td>107419</td>\n",
       "      <td>653</td>\n",
       "      <td>105831</td>\n",
       "      <td>935</td>\n",
       "      <td>0.61</td>\n",
       "      <td>98.52</td>\n",
       "      <td>0.87</td>\n",
       "      <td>1646050</td>\n",
       "    </tr>\n",
       "    <tr>\n",
       "      <th>33</th>\n",
       "      <td>Uttar Pradesh</td>\n",
       "      <td>2108686</td>\n",
       "      <td>5440</td>\n",
       "      <td>2079670</td>\n",
       "      <td>23576</td>\n",
       "      <td>0.26</td>\n",
       "      <td>98.62</td>\n",
       "      <td>1.12</td>\n",
       "      <td>1158040</td>\n",
       "    </tr>\n",
       "    <tr>\n",
       "      <th>34</th>\n",
       "      <td>Uttarakhand</td>\n",
       "      <td>445106</td>\n",
       "      <td>2378</td>\n",
       "      <td>435009</td>\n",
       "      <td>7719</td>\n",
       "      <td>0.53</td>\n",
       "      <td>97.73</td>\n",
       "      <td>1.73</td>\n",
       "      <td>85002417</td>\n",
       "    </tr>\n",
       "    <tr>\n",
       "      <th>35</th>\n",
       "      <td>West Bengal</td>\n",
       "      <td>2099433</td>\n",
       "      <td>7302</td>\n",
       "      <td>2070731</td>\n",
       "      <td>21400</td>\n",
       "      <td>0.35</td>\n",
       "      <td>98.63</td>\n",
       "      <td>1.02</td>\n",
       "      <td>32199722</td>\n",
       "    </tr>\n",
       "  </tbody>\n",
       "</table>\n",
       "</div>"
      ],
      "text/plain": [
       "                                   State/UTs  Total Cases  Active  Discharged  \\\n",
       "0                        Andaman and Nicobar        10502      40       10333   \n",
       "1                             Andhra Pradesh      2333710    1453     2317524   \n",
       "2                          Arunachal Pradesh        66246     295       65655   \n",
       "3                                      Assam       741541    4006      729513   \n",
       "4                                      Bihar       844997    1024      831688   \n",
       "5                                 Chandigarh        97442     772       95499   \n",
       "6                               Chhattisgarh      1169532    3282     1152169   \n",
       "7   Dadra and Nagar Haveli and Daman and Diu        11557      23       11530   \n",
       "8                                      Delhi      1970899    7484     1937079   \n",
       "9                                        Goa       253162    1046      248261   \n",
       "10                                   Gujarat      1261922    5862     1245080   \n",
       "11                                   Haryana      1036795    4598     1021547   \n",
       "12                          Himachal Pradesh       305383    4919      296287   \n",
       "13                         Jammu and Kashmir       470201    5045      460380   \n",
       "14                                 Jharkhand       441010     837      434845   \n",
       "15                                 Karnataka      4021106   11252     3969691   \n",
       "16                                    Kerala      6730762   10179     6650001   \n",
       "17                                    Ladakh        29021     118       28675   \n",
       "18                               Lakshadweep        11415       0       11363   \n",
       "19                            Madhya Pradesh      1051447    1349     1039336   \n",
       "20                               Maharashtra      8060737   11968     7900626   \n",
       "21                                   Manipur       139377     244      136995   \n",
       "22                                 Meghalaya        95925     686       93628   \n",
       "23                                   Mizoram       234387    1214      232461   \n",
       "24                                  Nagaland        35838      54       35012   \n",
       "25                                    Odisha      1319527    5851     1304527   \n",
       "26                                Puducherry       171651     640      169044   \n",
       "27                                    Punjab       777362   12429      747101   \n",
       "28                                 Rajasthan      1297814    3813     1284411   \n",
       "29                                    Sikkim        42784     476       41834   \n",
       "30                                Tamil Nadu      3553670    9408     3506229   \n",
       "31                                 Telengana       826284    5667      816506   \n",
       "32                                   Tripura       107419     653      105831   \n",
       "33                             Uttar Pradesh      2108686    5440     2079670   \n",
       "34                               Uttarakhand       445106    2378      435009   \n",
       "35                               West Bengal      2099433    7302     2070731   \n",
       "\n",
       "    Deaths  Active Ratio  Discharge Ratio  Death Ratio  Population  \n",
       "0      129          0.38            98.39         1.23   100896618  \n",
       "1    14733          0.06            99.31         0.63   128500364  \n",
       "2      296          0.45            99.11         0.45      658019  \n",
       "3     8022          0.54            98.38         1.08      290492  \n",
       "4    12285          0.12            98.42         1.45    40100376  \n",
       "5     1171          0.79            98.01         1.20    30501026  \n",
       "6    14081          0.28            98.52         1.20    28900667  \n",
       "7        4          0.20            99.77         0.03   231502578  \n",
       "8    26336          0.38            98.28         1.34      773997  \n",
       "9     3855          0.41            98.06         1.52     3772103  \n",
       "10   10980          0.46            98.67         0.87    70400153  \n",
       "11   10650          0.44            98.53         1.03    14999397  \n",
       "12    4177          1.61            97.02         1.37     3436948  \n",
       "13    4776          1.07            97.91         1.02       66001  \n",
       "14    5328          0.19            98.60         1.21   124904071  \n",
       "15   40163          0.28            98.72         1.00     1711947  \n",
       "16   70582          0.15            98.80         1.05    91702478  \n",
       "17     228          0.41            98.81         0.79     4184959  \n",
       "18      52          0.00            99.54         0.46    11700099  \n",
       "19   10762          0.13            98.85         1.02     7503010  \n",
       "20  148143          0.15            98.01         1.84      399001  \n",
       "21    2138          0.18            98.29         1.53    47099270  \n",
       "22    1611          0.72            97.61         1.68    79502477  \n",
       "23     712          0.52            99.18         0.30     1308967  \n",
       "24     772          0.15            97.70         2.15    38157311  \n",
       "25    9149          0.44            98.86         0.69    19301096  \n",
       "26    1967          0.37            98.48         1.15     2073074  \n",
       "27   17832          1.60            96.11         2.29    34698876  \n",
       "28    9590          0.29            98.97         0.74     1521992  \n",
       "29     474          1.11            97.78         1.11    83697770  \n",
       "30   38033          0.26            98.67         1.07    35998752  \n",
       "31    4111          0.69            98.82         0.50    69599762  \n",
       "32     935          0.61            98.52         0.87     1646050  \n",
       "33   23576          0.26            98.62         1.12     1158040  \n",
       "34    7719          0.53            97.73         1.73    85002417  \n",
       "35   21400          0.35            98.63         1.02    32199722  "
      ]
     },
     "execution_count": 31,
     "metadata": {},
     "output_type": "execute_result"
    }
   ],
   "source": [
    "df"
   ]
  },
  {
   "cell_type": "code",
   "execution_count": 9,
   "id": "b28dc3c0",
   "metadata": {},
   "outputs": [],
   "source": [
    "df['Total cases']=df['Discharged']+df['Deaths']"
   ]
  },
  {
   "cell_type": "code",
   "execution_count": 10,
   "id": "a17b2d15",
   "metadata": {},
   "outputs": [
    {
     "data": {
      "text/html": [
       "<div>\n",
       "<style scoped>\n",
       "    .dataframe tbody tr th:only-of-type {\n",
       "        vertical-align: middle;\n",
       "    }\n",
       "\n",
       "    .dataframe tbody tr th {\n",
       "        vertical-align: top;\n",
       "    }\n",
       "\n",
       "    .dataframe thead th {\n",
       "        text-align: right;\n",
       "    }\n",
       "</style>\n",
       "<table border=\"1\" class=\"dataframe\">\n",
       "  <thead>\n",
       "    <tr style=\"text-align: right;\">\n",
       "      <th></th>\n",
       "      <th>State/UTs</th>\n",
       "      <th>Total Cases</th>\n",
       "      <th>Active</th>\n",
       "      <th>Discharged</th>\n",
       "      <th>Deaths</th>\n",
       "      <th>Active Ratio</th>\n",
       "      <th>Discharge Ratio</th>\n",
       "      <th>Death Ratio</th>\n",
       "      <th>Population</th>\n",
       "      <th>Total cases</th>\n",
       "    </tr>\n",
       "  </thead>\n",
       "  <tbody>\n",
       "    <tr>\n",
       "      <th>0</th>\n",
       "      <td>Andaman and Nicobar</td>\n",
       "      <td>10502</td>\n",
       "      <td>40</td>\n",
       "      <td>10333</td>\n",
       "      <td>129</td>\n",
       "      <td>0.38</td>\n",
       "      <td>98.39</td>\n",
       "      <td>1.23</td>\n",
       "      <td>100896618</td>\n",
       "      <td>10462</td>\n",
       "    </tr>\n",
       "    <tr>\n",
       "      <th>1</th>\n",
       "      <td>Andhra Pradesh</td>\n",
       "      <td>2333710</td>\n",
       "      <td>1453</td>\n",
       "      <td>2317524</td>\n",
       "      <td>14733</td>\n",
       "      <td>0.06</td>\n",
       "      <td>99.31</td>\n",
       "      <td>0.63</td>\n",
       "      <td>128500364</td>\n",
       "      <td>2332257</td>\n",
       "    </tr>\n",
       "    <tr>\n",
       "      <th>2</th>\n",
       "      <td>Arunachal Pradesh</td>\n",
       "      <td>66246</td>\n",
       "      <td>295</td>\n",
       "      <td>65655</td>\n",
       "      <td>296</td>\n",
       "      <td>0.45</td>\n",
       "      <td>99.11</td>\n",
       "      <td>0.45</td>\n",
       "      <td>658019</td>\n",
       "      <td>65951</td>\n",
       "    </tr>\n",
       "    <tr>\n",
       "      <th>3</th>\n",
       "      <td>Assam</td>\n",
       "      <td>741541</td>\n",
       "      <td>4006</td>\n",
       "      <td>729513</td>\n",
       "      <td>8022</td>\n",
       "      <td>0.54</td>\n",
       "      <td>98.38</td>\n",
       "      <td>1.08</td>\n",
       "      <td>290492</td>\n",
       "      <td>737535</td>\n",
       "    </tr>\n",
       "    <tr>\n",
       "      <th>4</th>\n",
       "      <td>Bihar</td>\n",
       "      <td>844997</td>\n",
       "      <td>1024</td>\n",
       "      <td>831688</td>\n",
       "      <td>12285</td>\n",
       "      <td>0.12</td>\n",
       "      <td>98.42</td>\n",
       "      <td>1.45</td>\n",
       "      <td>40100376</td>\n",
       "      <td>843973</td>\n",
       "    </tr>\n",
       "    <tr>\n",
       "      <th>5</th>\n",
       "      <td>Chandigarh</td>\n",
       "      <td>97442</td>\n",
       "      <td>772</td>\n",
       "      <td>95499</td>\n",
       "      <td>1171</td>\n",
       "      <td>0.79</td>\n",
       "      <td>98.01</td>\n",
       "      <td>1.20</td>\n",
       "      <td>30501026</td>\n",
       "      <td>96670</td>\n",
       "    </tr>\n",
       "    <tr>\n",
       "      <th>6</th>\n",
       "      <td>Chhattisgarh</td>\n",
       "      <td>1169532</td>\n",
       "      <td>3282</td>\n",
       "      <td>1152169</td>\n",
       "      <td>14081</td>\n",
       "      <td>0.28</td>\n",
       "      <td>98.52</td>\n",
       "      <td>1.20</td>\n",
       "      <td>28900667</td>\n",
       "      <td>1166250</td>\n",
       "    </tr>\n",
       "    <tr>\n",
       "      <th>7</th>\n",
       "      <td>Dadra and Nagar Haveli and Daman and Diu</td>\n",
       "      <td>11557</td>\n",
       "      <td>23</td>\n",
       "      <td>11530</td>\n",
       "      <td>4</td>\n",
       "      <td>0.20</td>\n",
       "      <td>99.77</td>\n",
       "      <td>0.03</td>\n",
       "      <td>231502578</td>\n",
       "      <td>11534</td>\n",
       "    </tr>\n",
       "    <tr>\n",
       "      <th>8</th>\n",
       "      <td>Delhi</td>\n",
       "      <td>1970899</td>\n",
       "      <td>7484</td>\n",
       "      <td>1937079</td>\n",
       "      <td>26336</td>\n",
       "      <td>0.38</td>\n",
       "      <td>98.28</td>\n",
       "      <td>1.34</td>\n",
       "      <td>773997</td>\n",
       "      <td>1963415</td>\n",
       "    </tr>\n",
       "    <tr>\n",
       "      <th>9</th>\n",
       "      <td>Goa</td>\n",
       "      <td>253162</td>\n",
       "      <td>1046</td>\n",
       "      <td>248261</td>\n",
       "      <td>3855</td>\n",
       "      <td>0.41</td>\n",
       "      <td>98.06</td>\n",
       "      <td>1.52</td>\n",
       "      <td>3772103</td>\n",
       "      <td>252116</td>\n",
       "    </tr>\n",
       "    <tr>\n",
       "      <th>10</th>\n",
       "      <td>Gujarat</td>\n",
       "      <td>1261922</td>\n",
       "      <td>5862</td>\n",
       "      <td>1245080</td>\n",
       "      <td>10980</td>\n",
       "      <td>0.46</td>\n",
       "      <td>98.67</td>\n",
       "      <td>0.87</td>\n",
       "      <td>70400153</td>\n",
       "      <td>1256060</td>\n",
       "    </tr>\n",
       "    <tr>\n",
       "      <th>11</th>\n",
       "      <td>Haryana</td>\n",
       "      <td>1036795</td>\n",
       "      <td>4598</td>\n",
       "      <td>1021547</td>\n",
       "      <td>10650</td>\n",
       "      <td>0.44</td>\n",
       "      <td>98.53</td>\n",
       "      <td>1.03</td>\n",
       "      <td>14999397</td>\n",
       "      <td>1032197</td>\n",
       "    </tr>\n",
       "    <tr>\n",
       "      <th>12</th>\n",
       "      <td>Himachal Pradesh</td>\n",
       "      <td>305383</td>\n",
       "      <td>4919</td>\n",
       "      <td>296287</td>\n",
       "      <td>4177</td>\n",
       "      <td>1.61</td>\n",
       "      <td>97.02</td>\n",
       "      <td>1.37</td>\n",
       "      <td>3436948</td>\n",
       "      <td>300464</td>\n",
       "    </tr>\n",
       "    <tr>\n",
       "      <th>13</th>\n",
       "      <td>Jammu and Kashmir</td>\n",
       "      <td>470201</td>\n",
       "      <td>5045</td>\n",
       "      <td>460380</td>\n",
       "      <td>4776</td>\n",
       "      <td>1.07</td>\n",
       "      <td>97.91</td>\n",
       "      <td>1.02</td>\n",
       "      <td>66001</td>\n",
       "      <td>465156</td>\n",
       "    </tr>\n",
       "    <tr>\n",
       "      <th>14</th>\n",
       "      <td>Jharkhand</td>\n",
       "      <td>441010</td>\n",
       "      <td>837</td>\n",
       "      <td>434845</td>\n",
       "      <td>5328</td>\n",
       "      <td>0.19</td>\n",
       "      <td>98.60</td>\n",
       "      <td>1.21</td>\n",
       "      <td>124904071</td>\n",
       "      <td>440173</td>\n",
       "    </tr>\n",
       "    <tr>\n",
       "      <th>15</th>\n",
       "      <td>Karnataka</td>\n",
       "      <td>4021106</td>\n",
       "      <td>11252</td>\n",
       "      <td>3969691</td>\n",
       "      <td>40163</td>\n",
       "      <td>0.28</td>\n",
       "      <td>98.72</td>\n",
       "      <td>1.00</td>\n",
       "      <td>1711947</td>\n",
       "      <td>4009854</td>\n",
       "    </tr>\n",
       "    <tr>\n",
       "      <th>16</th>\n",
       "      <td>Kerala</td>\n",
       "      <td>6730762</td>\n",
       "      <td>10179</td>\n",
       "      <td>6650001</td>\n",
       "      <td>70582</td>\n",
       "      <td>0.15</td>\n",
       "      <td>98.80</td>\n",
       "      <td>1.05</td>\n",
       "      <td>91702478</td>\n",
       "      <td>6720583</td>\n",
       "    </tr>\n",
       "    <tr>\n",
       "      <th>17</th>\n",
       "      <td>Ladakh</td>\n",
       "      <td>29021</td>\n",
       "      <td>118</td>\n",
       "      <td>28675</td>\n",
       "      <td>228</td>\n",
       "      <td>0.41</td>\n",
       "      <td>98.81</td>\n",
       "      <td>0.79</td>\n",
       "      <td>4184959</td>\n",
       "      <td>28903</td>\n",
       "    </tr>\n",
       "    <tr>\n",
       "      <th>18</th>\n",
       "      <td>Lakshadweep</td>\n",
       "      <td>11415</td>\n",
       "      <td>0</td>\n",
       "      <td>11363</td>\n",
       "      <td>52</td>\n",
       "      <td>0.00</td>\n",
       "      <td>99.54</td>\n",
       "      <td>0.46</td>\n",
       "      <td>11700099</td>\n",
       "      <td>11415</td>\n",
       "    </tr>\n",
       "    <tr>\n",
       "      <th>19</th>\n",
       "      <td>Madhya Pradesh</td>\n",
       "      <td>1051447</td>\n",
       "      <td>1349</td>\n",
       "      <td>1039336</td>\n",
       "      <td>10762</td>\n",
       "      <td>0.13</td>\n",
       "      <td>98.85</td>\n",
       "      <td>1.02</td>\n",
       "      <td>7503010</td>\n",
       "      <td>1050098</td>\n",
       "    </tr>\n",
       "    <tr>\n",
       "      <th>20</th>\n",
       "      <td>Maharashtra</td>\n",
       "      <td>8060737</td>\n",
       "      <td>11968</td>\n",
       "      <td>7900626</td>\n",
       "      <td>148143</td>\n",
       "      <td>0.15</td>\n",
       "      <td>98.01</td>\n",
       "      <td>1.84</td>\n",
       "      <td>399001</td>\n",
       "      <td>8048769</td>\n",
       "    </tr>\n",
       "    <tr>\n",
       "      <th>21</th>\n",
       "      <td>Manipur</td>\n",
       "      <td>139377</td>\n",
       "      <td>244</td>\n",
       "      <td>136995</td>\n",
       "      <td>2138</td>\n",
       "      <td>0.18</td>\n",
       "      <td>98.29</td>\n",
       "      <td>1.53</td>\n",
       "      <td>47099270</td>\n",
       "      <td>139133</td>\n",
       "    </tr>\n",
       "    <tr>\n",
       "      <th>22</th>\n",
       "      <td>Meghalaya</td>\n",
       "      <td>95925</td>\n",
       "      <td>686</td>\n",
       "      <td>93628</td>\n",
       "      <td>1611</td>\n",
       "      <td>0.72</td>\n",
       "      <td>97.61</td>\n",
       "      <td>1.68</td>\n",
       "      <td>79502477</td>\n",
       "      <td>95239</td>\n",
       "    </tr>\n",
       "    <tr>\n",
       "      <th>23</th>\n",
       "      <td>Mizoram</td>\n",
       "      <td>234387</td>\n",
       "      <td>1214</td>\n",
       "      <td>232461</td>\n",
       "      <td>712</td>\n",
       "      <td>0.52</td>\n",
       "      <td>99.18</td>\n",
       "      <td>0.30</td>\n",
       "      <td>1308967</td>\n",
       "      <td>233173</td>\n",
       "    </tr>\n",
       "    <tr>\n",
       "      <th>24</th>\n",
       "      <td>Nagaland</td>\n",
       "      <td>35838</td>\n",
       "      <td>54</td>\n",
       "      <td>35012</td>\n",
       "      <td>772</td>\n",
       "      <td>0.15</td>\n",
       "      <td>97.70</td>\n",
       "      <td>2.15</td>\n",
       "      <td>38157311</td>\n",
       "      <td>35784</td>\n",
       "    </tr>\n",
       "    <tr>\n",
       "      <th>25</th>\n",
       "      <td>Odisha</td>\n",
       "      <td>1319527</td>\n",
       "      <td>5851</td>\n",
       "      <td>1304527</td>\n",
       "      <td>9149</td>\n",
       "      <td>0.44</td>\n",
       "      <td>98.86</td>\n",
       "      <td>0.69</td>\n",
       "      <td>19301096</td>\n",
       "      <td>1313676</td>\n",
       "    </tr>\n",
       "    <tr>\n",
       "      <th>26</th>\n",
       "      <td>Puducherry</td>\n",
       "      <td>171651</td>\n",
       "      <td>640</td>\n",
       "      <td>169044</td>\n",
       "      <td>1967</td>\n",
       "      <td>0.37</td>\n",
       "      <td>98.48</td>\n",
       "      <td>1.15</td>\n",
       "      <td>2073074</td>\n",
       "      <td>171011</td>\n",
       "    </tr>\n",
       "    <tr>\n",
       "      <th>27</th>\n",
       "      <td>Punjab</td>\n",
       "      <td>777362</td>\n",
       "      <td>12429</td>\n",
       "      <td>747101</td>\n",
       "      <td>17832</td>\n",
       "      <td>1.60</td>\n",
       "      <td>96.11</td>\n",
       "      <td>2.29</td>\n",
       "      <td>34698876</td>\n",
       "      <td>764933</td>\n",
       "    </tr>\n",
       "    <tr>\n",
       "      <th>28</th>\n",
       "      <td>Rajasthan</td>\n",
       "      <td>1297814</td>\n",
       "      <td>3813</td>\n",
       "      <td>1284411</td>\n",
       "      <td>9590</td>\n",
       "      <td>0.29</td>\n",
       "      <td>98.97</td>\n",
       "      <td>0.74</td>\n",
       "      <td>1521992</td>\n",
       "      <td>1294001</td>\n",
       "    </tr>\n",
       "    <tr>\n",
       "      <th>29</th>\n",
       "      <td>Sikkim</td>\n",
       "      <td>42784</td>\n",
       "      <td>476</td>\n",
       "      <td>41834</td>\n",
       "      <td>474</td>\n",
       "      <td>1.11</td>\n",
       "      <td>97.78</td>\n",
       "      <td>1.11</td>\n",
       "      <td>83697770</td>\n",
       "      <td>42308</td>\n",
       "    </tr>\n",
       "    <tr>\n",
       "      <th>30</th>\n",
       "      <td>Tamil Nadu</td>\n",
       "      <td>3553670</td>\n",
       "      <td>9408</td>\n",
       "      <td>3506229</td>\n",
       "      <td>38033</td>\n",
       "      <td>0.26</td>\n",
       "      <td>98.67</td>\n",
       "      <td>1.07</td>\n",
       "      <td>35998752</td>\n",
       "      <td>3544262</td>\n",
       "    </tr>\n",
       "    <tr>\n",
       "      <th>31</th>\n",
       "      <td>Telengana</td>\n",
       "      <td>826284</td>\n",
       "      <td>5667</td>\n",
       "      <td>816506</td>\n",
       "      <td>4111</td>\n",
       "      <td>0.69</td>\n",
       "      <td>98.82</td>\n",
       "      <td>0.50</td>\n",
       "      <td>69599762</td>\n",
       "      <td>820617</td>\n",
       "    </tr>\n",
       "    <tr>\n",
       "      <th>32</th>\n",
       "      <td>Tripura</td>\n",
       "      <td>107419</td>\n",
       "      <td>653</td>\n",
       "      <td>105831</td>\n",
       "      <td>935</td>\n",
       "      <td>0.61</td>\n",
       "      <td>98.52</td>\n",
       "      <td>0.87</td>\n",
       "      <td>1646050</td>\n",
       "      <td>106766</td>\n",
       "    </tr>\n",
       "    <tr>\n",
       "      <th>33</th>\n",
       "      <td>Uttar Pradesh</td>\n",
       "      <td>2108686</td>\n",
       "      <td>5440</td>\n",
       "      <td>2079670</td>\n",
       "      <td>23576</td>\n",
       "      <td>0.26</td>\n",
       "      <td>98.62</td>\n",
       "      <td>1.12</td>\n",
       "      <td>1158040</td>\n",
       "      <td>2103246</td>\n",
       "    </tr>\n",
       "    <tr>\n",
       "      <th>34</th>\n",
       "      <td>Uttarakhand</td>\n",
       "      <td>445106</td>\n",
       "      <td>2378</td>\n",
       "      <td>435009</td>\n",
       "      <td>7719</td>\n",
       "      <td>0.53</td>\n",
       "      <td>97.73</td>\n",
       "      <td>1.73</td>\n",
       "      <td>85002417</td>\n",
       "      <td>442728</td>\n",
       "    </tr>\n",
       "    <tr>\n",
       "      <th>35</th>\n",
       "      <td>West Bengal</td>\n",
       "      <td>2099433</td>\n",
       "      <td>7302</td>\n",
       "      <td>2070731</td>\n",
       "      <td>21400</td>\n",
       "      <td>0.35</td>\n",
       "      <td>98.63</td>\n",
       "      <td>1.02</td>\n",
       "      <td>32199722</td>\n",
       "      <td>2092131</td>\n",
       "    </tr>\n",
       "  </tbody>\n",
       "</table>\n",
       "</div>"
      ],
      "text/plain": [
       "                                   State/UTs  Total Cases  Active  Discharged  \\\n",
       "0                        Andaman and Nicobar        10502      40       10333   \n",
       "1                             Andhra Pradesh      2333710    1453     2317524   \n",
       "2                          Arunachal Pradesh        66246     295       65655   \n",
       "3                                      Assam       741541    4006      729513   \n",
       "4                                      Bihar       844997    1024      831688   \n",
       "5                                 Chandigarh        97442     772       95499   \n",
       "6                               Chhattisgarh      1169532    3282     1152169   \n",
       "7   Dadra and Nagar Haveli and Daman and Diu        11557      23       11530   \n",
       "8                                      Delhi      1970899    7484     1937079   \n",
       "9                                        Goa       253162    1046      248261   \n",
       "10                                   Gujarat      1261922    5862     1245080   \n",
       "11                                   Haryana      1036795    4598     1021547   \n",
       "12                          Himachal Pradesh       305383    4919      296287   \n",
       "13                         Jammu and Kashmir       470201    5045      460380   \n",
       "14                                 Jharkhand       441010     837      434845   \n",
       "15                                 Karnataka      4021106   11252     3969691   \n",
       "16                                    Kerala      6730762   10179     6650001   \n",
       "17                                    Ladakh        29021     118       28675   \n",
       "18                               Lakshadweep        11415       0       11363   \n",
       "19                            Madhya Pradesh      1051447    1349     1039336   \n",
       "20                               Maharashtra      8060737   11968     7900626   \n",
       "21                                   Manipur       139377     244      136995   \n",
       "22                                 Meghalaya        95925     686       93628   \n",
       "23                                   Mizoram       234387    1214      232461   \n",
       "24                                  Nagaland        35838      54       35012   \n",
       "25                                    Odisha      1319527    5851     1304527   \n",
       "26                                Puducherry       171651     640      169044   \n",
       "27                                    Punjab       777362   12429      747101   \n",
       "28                                 Rajasthan      1297814    3813     1284411   \n",
       "29                                    Sikkim        42784     476       41834   \n",
       "30                                Tamil Nadu      3553670    9408     3506229   \n",
       "31                                 Telengana       826284    5667      816506   \n",
       "32                                   Tripura       107419     653      105831   \n",
       "33                             Uttar Pradesh      2108686    5440     2079670   \n",
       "34                               Uttarakhand       445106    2378      435009   \n",
       "35                               West Bengal      2099433    7302     2070731   \n",
       "\n",
       "    Deaths  Active Ratio  Discharge Ratio  Death Ratio  Population  \\\n",
       "0      129          0.38            98.39         1.23   100896618   \n",
       "1    14733          0.06            99.31         0.63   128500364   \n",
       "2      296          0.45            99.11         0.45      658019   \n",
       "3     8022          0.54            98.38         1.08      290492   \n",
       "4    12285          0.12            98.42         1.45    40100376   \n",
       "5     1171          0.79            98.01         1.20    30501026   \n",
       "6    14081          0.28            98.52         1.20    28900667   \n",
       "7        4          0.20            99.77         0.03   231502578   \n",
       "8    26336          0.38            98.28         1.34      773997   \n",
       "9     3855          0.41            98.06         1.52     3772103   \n",
       "10   10980          0.46            98.67         0.87    70400153   \n",
       "11   10650          0.44            98.53         1.03    14999397   \n",
       "12    4177          1.61            97.02         1.37     3436948   \n",
       "13    4776          1.07            97.91         1.02       66001   \n",
       "14    5328          0.19            98.60         1.21   124904071   \n",
       "15   40163          0.28            98.72         1.00     1711947   \n",
       "16   70582          0.15            98.80         1.05    91702478   \n",
       "17     228          0.41            98.81         0.79     4184959   \n",
       "18      52          0.00            99.54         0.46    11700099   \n",
       "19   10762          0.13            98.85         1.02     7503010   \n",
       "20  148143          0.15            98.01         1.84      399001   \n",
       "21    2138          0.18            98.29         1.53    47099270   \n",
       "22    1611          0.72            97.61         1.68    79502477   \n",
       "23     712          0.52            99.18         0.30     1308967   \n",
       "24     772          0.15            97.70         2.15    38157311   \n",
       "25    9149          0.44            98.86         0.69    19301096   \n",
       "26    1967          0.37            98.48         1.15     2073074   \n",
       "27   17832          1.60            96.11         2.29    34698876   \n",
       "28    9590          0.29            98.97         0.74     1521992   \n",
       "29     474          1.11            97.78         1.11    83697770   \n",
       "30   38033          0.26            98.67         1.07    35998752   \n",
       "31    4111          0.69            98.82         0.50    69599762   \n",
       "32     935          0.61            98.52         0.87     1646050   \n",
       "33   23576          0.26            98.62         1.12     1158040   \n",
       "34    7719          0.53            97.73         1.73    85002417   \n",
       "35   21400          0.35            98.63         1.02    32199722   \n",
       "\n",
       "    Total cases  \n",
       "0         10462  \n",
       "1       2332257  \n",
       "2         65951  \n",
       "3        737535  \n",
       "4        843973  \n",
       "5         96670  \n",
       "6       1166250  \n",
       "7         11534  \n",
       "8       1963415  \n",
       "9        252116  \n",
       "10      1256060  \n",
       "11      1032197  \n",
       "12       300464  \n",
       "13       465156  \n",
       "14       440173  \n",
       "15      4009854  \n",
       "16      6720583  \n",
       "17        28903  \n",
       "18        11415  \n",
       "19      1050098  \n",
       "20      8048769  \n",
       "21       139133  \n",
       "22        95239  \n",
       "23       233173  \n",
       "24        35784  \n",
       "25      1313676  \n",
       "26       171011  \n",
       "27       764933  \n",
       "28      1294001  \n",
       "29        42308  \n",
       "30      3544262  \n",
       "31       820617  \n",
       "32       106766  \n",
       "33      2103246  \n",
       "34       442728  \n",
       "35      2092131  "
      ]
     },
     "execution_count": 10,
     "metadata": {},
     "output_type": "execute_result"
    }
   ],
   "source": [
    "df"
   ]
  },
  {
   "cell_type": "code",
   "execution_count": 11,
   "id": "61b3ed3d",
   "metadata": {},
   "outputs": [
    {
     "name": "stdout",
     "output_type": "stream",
     "text": [
      "The total number of cases till now in india is 44174650\n"
     ]
    }
   ],
   "source": [
    "total_cases_overall=df['Total Cases'].sum()\n",
    "print('The total number of cases till now in india is',total_cases_overall)"
   ]
  },
  {
   "cell_type": "code",
   "execution_count": 12,
   "id": "7724f82a",
   "metadata": {},
   "outputs": [],
   "source": [
    "df['Active']=df['Total Cases']-(df['Deaths']+df['Discharged'])"
   ]
  },
  {
   "cell_type": "code",
   "execution_count": 13,
   "id": "c118a508",
   "metadata": {},
   "outputs": [
    {
     "data": {
      "text/html": [
       "<div>\n",
       "<style scoped>\n",
       "    .dataframe tbody tr th:only-of-type {\n",
       "        vertical-align: middle;\n",
       "    }\n",
       "\n",
       "    .dataframe tbody tr th {\n",
       "        vertical-align: top;\n",
       "    }\n",
       "\n",
       "    .dataframe thead th {\n",
       "        text-align: right;\n",
       "    }\n",
       "</style>\n",
       "<table border=\"1\" class=\"dataframe\">\n",
       "  <thead>\n",
       "    <tr style=\"text-align: right;\">\n",
       "      <th></th>\n",
       "      <th>State/UTs</th>\n",
       "      <th>Total Cases</th>\n",
       "      <th>Active</th>\n",
       "      <th>Discharged</th>\n",
       "      <th>Deaths</th>\n",
       "      <th>Active Ratio</th>\n",
       "      <th>Discharge Ratio</th>\n",
       "      <th>Death Ratio</th>\n",
       "      <th>Population</th>\n",
       "      <th>Total cases</th>\n",
       "    </tr>\n",
       "  </thead>\n",
       "  <tbody>\n",
       "    <tr>\n",
       "      <th>0</th>\n",
       "      <td>Andaman and Nicobar</td>\n",
       "      <td>10502</td>\n",
       "      <td>40</td>\n",
       "      <td>10333</td>\n",
       "      <td>129</td>\n",
       "      <td>0.38</td>\n",
       "      <td>98.39</td>\n",
       "      <td>1.23</td>\n",
       "      <td>100896618</td>\n",
       "      <td>10462</td>\n",
       "    </tr>\n",
       "    <tr>\n",
       "      <th>1</th>\n",
       "      <td>Andhra Pradesh</td>\n",
       "      <td>2333710</td>\n",
       "      <td>1453</td>\n",
       "      <td>2317524</td>\n",
       "      <td>14733</td>\n",
       "      <td>0.06</td>\n",
       "      <td>99.31</td>\n",
       "      <td>0.63</td>\n",
       "      <td>128500364</td>\n",
       "      <td>2332257</td>\n",
       "    </tr>\n",
       "    <tr>\n",
       "      <th>2</th>\n",
       "      <td>Arunachal Pradesh</td>\n",
       "      <td>66246</td>\n",
       "      <td>295</td>\n",
       "      <td>65655</td>\n",
       "      <td>296</td>\n",
       "      <td>0.45</td>\n",
       "      <td>99.11</td>\n",
       "      <td>0.45</td>\n",
       "      <td>658019</td>\n",
       "      <td>65951</td>\n",
       "    </tr>\n",
       "    <tr>\n",
       "      <th>3</th>\n",
       "      <td>Assam</td>\n",
       "      <td>741541</td>\n",
       "      <td>4006</td>\n",
       "      <td>729513</td>\n",
       "      <td>8022</td>\n",
       "      <td>0.54</td>\n",
       "      <td>98.38</td>\n",
       "      <td>1.08</td>\n",
       "      <td>290492</td>\n",
       "      <td>737535</td>\n",
       "    </tr>\n",
       "    <tr>\n",
       "      <th>4</th>\n",
       "      <td>Bihar</td>\n",
       "      <td>844997</td>\n",
       "      <td>1024</td>\n",
       "      <td>831688</td>\n",
       "      <td>12285</td>\n",
       "      <td>0.12</td>\n",
       "      <td>98.42</td>\n",
       "      <td>1.45</td>\n",
       "      <td>40100376</td>\n",
       "      <td>843973</td>\n",
       "    </tr>\n",
       "    <tr>\n",
       "      <th>5</th>\n",
       "      <td>Chandigarh</td>\n",
       "      <td>97442</td>\n",
       "      <td>772</td>\n",
       "      <td>95499</td>\n",
       "      <td>1171</td>\n",
       "      <td>0.79</td>\n",
       "      <td>98.01</td>\n",
       "      <td>1.20</td>\n",
       "      <td>30501026</td>\n",
       "      <td>96670</td>\n",
       "    </tr>\n",
       "    <tr>\n",
       "      <th>6</th>\n",
       "      <td>Chhattisgarh</td>\n",
       "      <td>1169532</td>\n",
       "      <td>3282</td>\n",
       "      <td>1152169</td>\n",
       "      <td>14081</td>\n",
       "      <td>0.28</td>\n",
       "      <td>98.52</td>\n",
       "      <td>1.20</td>\n",
       "      <td>28900667</td>\n",
       "      <td>1166250</td>\n",
       "    </tr>\n",
       "    <tr>\n",
       "      <th>7</th>\n",
       "      <td>Dadra and Nagar Haveli and Daman and Diu</td>\n",
       "      <td>11557</td>\n",
       "      <td>23</td>\n",
       "      <td>11530</td>\n",
       "      <td>4</td>\n",
       "      <td>0.20</td>\n",
       "      <td>99.77</td>\n",
       "      <td>0.03</td>\n",
       "      <td>231502578</td>\n",
       "      <td>11534</td>\n",
       "    </tr>\n",
       "    <tr>\n",
       "      <th>8</th>\n",
       "      <td>Delhi</td>\n",
       "      <td>1970899</td>\n",
       "      <td>7484</td>\n",
       "      <td>1937079</td>\n",
       "      <td>26336</td>\n",
       "      <td>0.38</td>\n",
       "      <td>98.28</td>\n",
       "      <td>1.34</td>\n",
       "      <td>773997</td>\n",
       "      <td>1963415</td>\n",
       "    </tr>\n",
       "    <tr>\n",
       "      <th>9</th>\n",
       "      <td>Goa</td>\n",
       "      <td>253162</td>\n",
       "      <td>1046</td>\n",
       "      <td>248261</td>\n",
       "      <td>3855</td>\n",
       "      <td>0.41</td>\n",
       "      <td>98.06</td>\n",
       "      <td>1.52</td>\n",
       "      <td>3772103</td>\n",
       "      <td>252116</td>\n",
       "    </tr>\n",
       "    <tr>\n",
       "      <th>10</th>\n",
       "      <td>Gujarat</td>\n",
       "      <td>1261922</td>\n",
       "      <td>5862</td>\n",
       "      <td>1245080</td>\n",
       "      <td>10980</td>\n",
       "      <td>0.46</td>\n",
       "      <td>98.67</td>\n",
       "      <td>0.87</td>\n",
       "      <td>70400153</td>\n",
       "      <td>1256060</td>\n",
       "    </tr>\n",
       "    <tr>\n",
       "      <th>11</th>\n",
       "      <td>Haryana</td>\n",
       "      <td>1036795</td>\n",
       "      <td>4598</td>\n",
       "      <td>1021547</td>\n",
       "      <td>10650</td>\n",
       "      <td>0.44</td>\n",
       "      <td>98.53</td>\n",
       "      <td>1.03</td>\n",
       "      <td>14999397</td>\n",
       "      <td>1032197</td>\n",
       "    </tr>\n",
       "    <tr>\n",
       "      <th>12</th>\n",
       "      <td>Himachal Pradesh</td>\n",
       "      <td>305383</td>\n",
       "      <td>4919</td>\n",
       "      <td>296287</td>\n",
       "      <td>4177</td>\n",
       "      <td>1.61</td>\n",
       "      <td>97.02</td>\n",
       "      <td>1.37</td>\n",
       "      <td>3436948</td>\n",
       "      <td>300464</td>\n",
       "    </tr>\n",
       "    <tr>\n",
       "      <th>13</th>\n",
       "      <td>Jammu and Kashmir</td>\n",
       "      <td>470201</td>\n",
       "      <td>5045</td>\n",
       "      <td>460380</td>\n",
       "      <td>4776</td>\n",
       "      <td>1.07</td>\n",
       "      <td>97.91</td>\n",
       "      <td>1.02</td>\n",
       "      <td>66001</td>\n",
       "      <td>465156</td>\n",
       "    </tr>\n",
       "    <tr>\n",
       "      <th>14</th>\n",
       "      <td>Jharkhand</td>\n",
       "      <td>441010</td>\n",
       "      <td>837</td>\n",
       "      <td>434845</td>\n",
       "      <td>5328</td>\n",
       "      <td>0.19</td>\n",
       "      <td>98.60</td>\n",
       "      <td>1.21</td>\n",
       "      <td>124904071</td>\n",
       "      <td>440173</td>\n",
       "    </tr>\n",
       "    <tr>\n",
       "      <th>15</th>\n",
       "      <td>Karnataka</td>\n",
       "      <td>4021106</td>\n",
       "      <td>11252</td>\n",
       "      <td>3969691</td>\n",
       "      <td>40163</td>\n",
       "      <td>0.28</td>\n",
       "      <td>98.72</td>\n",
       "      <td>1.00</td>\n",
       "      <td>1711947</td>\n",
       "      <td>4009854</td>\n",
       "    </tr>\n",
       "    <tr>\n",
       "      <th>16</th>\n",
       "      <td>Kerala</td>\n",
       "      <td>6730762</td>\n",
       "      <td>10179</td>\n",
       "      <td>6650001</td>\n",
       "      <td>70582</td>\n",
       "      <td>0.15</td>\n",
       "      <td>98.80</td>\n",
       "      <td>1.05</td>\n",
       "      <td>91702478</td>\n",
       "      <td>6720583</td>\n",
       "    </tr>\n",
       "    <tr>\n",
       "      <th>17</th>\n",
       "      <td>Ladakh</td>\n",
       "      <td>29021</td>\n",
       "      <td>118</td>\n",
       "      <td>28675</td>\n",
       "      <td>228</td>\n",
       "      <td>0.41</td>\n",
       "      <td>98.81</td>\n",
       "      <td>0.79</td>\n",
       "      <td>4184959</td>\n",
       "      <td>28903</td>\n",
       "    </tr>\n",
       "    <tr>\n",
       "      <th>18</th>\n",
       "      <td>Lakshadweep</td>\n",
       "      <td>11415</td>\n",
       "      <td>0</td>\n",
       "      <td>11363</td>\n",
       "      <td>52</td>\n",
       "      <td>0.00</td>\n",
       "      <td>99.54</td>\n",
       "      <td>0.46</td>\n",
       "      <td>11700099</td>\n",
       "      <td>11415</td>\n",
       "    </tr>\n",
       "    <tr>\n",
       "      <th>19</th>\n",
       "      <td>Madhya Pradesh</td>\n",
       "      <td>1051447</td>\n",
       "      <td>1349</td>\n",
       "      <td>1039336</td>\n",
       "      <td>10762</td>\n",
       "      <td>0.13</td>\n",
       "      <td>98.85</td>\n",
       "      <td>1.02</td>\n",
       "      <td>7503010</td>\n",
       "      <td>1050098</td>\n",
       "    </tr>\n",
       "    <tr>\n",
       "      <th>20</th>\n",
       "      <td>Maharashtra</td>\n",
       "      <td>8060737</td>\n",
       "      <td>11968</td>\n",
       "      <td>7900626</td>\n",
       "      <td>148143</td>\n",
       "      <td>0.15</td>\n",
       "      <td>98.01</td>\n",
       "      <td>1.84</td>\n",
       "      <td>399001</td>\n",
       "      <td>8048769</td>\n",
       "    </tr>\n",
       "    <tr>\n",
       "      <th>21</th>\n",
       "      <td>Manipur</td>\n",
       "      <td>139377</td>\n",
       "      <td>244</td>\n",
       "      <td>136995</td>\n",
       "      <td>2138</td>\n",
       "      <td>0.18</td>\n",
       "      <td>98.29</td>\n",
       "      <td>1.53</td>\n",
       "      <td>47099270</td>\n",
       "      <td>139133</td>\n",
       "    </tr>\n",
       "    <tr>\n",
       "      <th>22</th>\n",
       "      <td>Meghalaya</td>\n",
       "      <td>95925</td>\n",
       "      <td>686</td>\n",
       "      <td>93628</td>\n",
       "      <td>1611</td>\n",
       "      <td>0.72</td>\n",
       "      <td>97.61</td>\n",
       "      <td>1.68</td>\n",
       "      <td>79502477</td>\n",
       "      <td>95239</td>\n",
       "    </tr>\n",
       "    <tr>\n",
       "      <th>23</th>\n",
       "      <td>Mizoram</td>\n",
       "      <td>234387</td>\n",
       "      <td>1214</td>\n",
       "      <td>232461</td>\n",
       "      <td>712</td>\n",
       "      <td>0.52</td>\n",
       "      <td>99.18</td>\n",
       "      <td>0.30</td>\n",
       "      <td>1308967</td>\n",
       "      <td>233173</td>\n",
       "    </tr>\n",
       "    <tr>\n",
       "      <th>24</th>\n",
       "      <td>Nagaland</td>\n",
       "      <td>35838</td>\n",
       "      <td>54</td>\n",
       "      <td>35012</td>\n",
       "      <td>772</td>\n",
       "      <td>0.15</td>\n",
       "      <td>97.70</td>\n",
       "      <td>2.15</td>\n",
       "      <td>38157311</td>\n",
       "      <td>35784</td>\n",
       "    </tr>\n",
       "    <tr>\n",
       "      <th>25</th>\n",
       "      <td>Odisha</td>\n",
       "      <td>1319527</td>\n",
       "      <td>5851</td>\n",
       "      <td>1304527</td>\n",
       "      <td>9149</td>\n",
       "      <td>0.44</td>\n",
       "      <td>98.86</td>\n",
       "      <td>0.69</td>\n",
       "      <td>19301096</td>\n",
       "      <td>1313676</td>\n",
       "    </tr>\n",
       "    <tr>\n",
       "      <th>26</th>\n",
       "      <td>Puducherry</td>\n",
       "      <td>171651</td>\n",
       "      <td>640</td>\n",
       "      <td>169044</td>\n",
       "      <td>1967</td>\n",
       "      <td>0.37</td>\n",
       "      <td>98.48</td>\n",
       "      <td>1.15</td>\n",
       "      <td>2073074</td>\n",
       "      <td>171011</td>\n",
       "    </tr>\n",
       "    <tr>\n",
       "      <th>27</th>\n",
       "      <td>Punjab</td>\n",
       "      <td>777362</td>\n",
       "      <td>12429</td>\n",
       "      <td>747101</td>\n",
       "      <td>17832</td>\n",
       "      <td>1.60</td>\n",
       "      <td>96.11</td>\n",
       "      <td>2.29</td>\n",
       "      <td>34698876</td>\n",
       "      <td>764933</td>\n",
       "    </tr>\n",
       "    <tr>\n",
       "      <th>28</th>\n",
       "      <td>Rajasthan</td>\n",
       "      <td>1297814</td>\n",
       "      <td>3813</td>\n",
       "      <td>1284411</td>\n",
       "      <td>9590</td>\n",
       "      <td>0.29</td>\n",
       "      <td>98.97</td>\n",
       "      <td>0.74</td>\n",
       "      <td>1521992</td>\n",
       "      <td>1294001</td>\n",
       "    </tr>\n",
       "    <tr>\n",
       "      <th>29</th>\n",
       "      <td>Sikkim</td>\n",
       "      <td>42784</td>\n",
       "      <td>476</td>\n",
       "      <td>41834</td>\n",
       "      <td>474</td>\n",
       "      <td>1.11</td>\n",
       "      <td>97.78</td>\n",
       "      <td>1.11</td>\n",
       "      <td>83697770</td>\n",
       "      <td>42308</td>\n",
       "    </tr>\n",
       "    <tr>\n",
       "      <th>30</th>\n",
       "      <td>Tamil Nadu</td>\n",
       "      <td>3553670</td>\n",
       "      <td>9408</td>\n",
       "      <td>3506229</td>\n",
       "      <td>38033</td>\n",
       "      <td>0.26</td>\n",
       "      <td>98.67</td>\n",
       "      <td>1.07</td>\n",
       "      <td>35998752</td>\n",
       "      <td>3544262</td>\n",
       "    </tr>\n",
       "    <tr>\n",
       "      <th>31</th>\n",
       "      <td>Telengana</td>\n",
       "      <td>826284</td>\n",
       "      <td>5667</td>\n",
       "      <td>816506</td>\n",
       "      <td>4111</td>\n",
       "      <td>0.69</td>\n",
       "      <td>98.82</td>\n",
       "      <td>0.50</td>\n",
       "      <td>69599762</td>\n",
       "      <td>820617</td>\n",
       "    </tr>\n",
       "    <tr>\n",
       "      <th>32</th>\n",
       "      <td>Tripura</td>\n",
       "      <td>107419</td>\n",
       "      <td>653</td>\n",
       "      <td>105831</td>\n",
       "      <td>935</td>\n",
       "      <td>0.61</td>\n",
       "      <td>98.52</td>\n",
       "      <td>0.87</td>\n",
       "      <td>1646050</td>\n",
       "      <td>106766</td>\n",
       "    </tr>\n",
       "    <tr>\n",
       "      <th>33</th>\n",
       "      <td>Uttar Pradesh</td>\n",
       "      <td>2108686</td>\n",
       "      <td>5440</td>\n",
       "      <td>2079670</td>\n",
       "      <td>23576</td>\n",
       "      <td>0.26</td>\n",
       "      <td>98.62</td>\n",
       "      <td>1.12</td>\n",
       "      <td>1158040</td>\n",
       "      <td>2103246</td>\n",
       "    </tr>\n",
       "    <tr>\n",
       "      <th>34</th>\n",
       "      <td>Uttarakhand</td>\n",
       "      <td>445106</td>\n",
       "      <td>2378</td>\n",
       "      <td>435009</td>\n",
       "      <td>7719</td>\n",
       "      <td>0.53</td>\n",
       "      <td>97.73</td>\n",
       "      <td>1.73</td>\n",
       "      <td>85002417</td>\n",
       "      <td>442728</td>\n",
       "    </tr>\n",
       "    <tr>\n",
       "      <th>35</th>\n",
       "      <td>West Bengal</td>\n",
       "      <td>2099433</td>\n",
       "      <td>7302</td>\n",
       "      <td>2070731</td>\n",
       "      <td>21400</td>\n",
       "      <td>0.35</td>\n",
       "      <td>98.63</td>\n",
       "      <td>1.02</td>\n",
       "      <td>32199722</td>\n",
       "      <td>2092131</td>\n",
       "    </tr>\n",
       "  </tbody>\n",
       "</table>\n",
       "</div>"
      ],
      "text/plain": [
       "                                   State/UTs  Total Cases  Active  Discharged  \\\n",
       "0                        Andaman and Nicobar        10502      40       10333   \n",
       "1                             Andhra Pradesh      2333710    1453     2317524   \n",
       "2                          Arunachal Pradesh        66246     295       65655   \n",
       "3                                      Assam       741541    4006      729513   \n",
       "4                                      Bihar       844997    1024      831688   \n",
       "5                                 Chandigarh        97442     772       95499   \n",
       "6                               Chhattisgarh      1169532    3282     1152169   \n",
       "7   Dadra and Nagar Haveli and Daman and Diu        11557      23       11530   \n",
       "8                                      Delhi      1970899    7484     1937079   \n",
       "9                                        Goa       253162    1046      248261   \n",
       "10                                   Gujarat      1261922    5862     1245080   \n",
       "11                                   Haryana      1036795    4598     1021547   \n",
       "12                          Himachal Pradesh       305383    4919      296287   \n",
       "13                         Jammu and Kashmir       470201    5045      460380   \n",
       "14                                 Jharkhand       441010     837      434845   \n",
       "15                                 Karnataka      4021106   11252     3969691   \n",
       "16                                    Kerala      6730762   10179     6650001   \n",
       "17                                    Ladakh        29021     118       28675   \n",
       "18                               Lakshadweep        11415       0       11363   \n",
       "19                            Madhya Pradesh      1051447    1349     1039336   \n",
       "20                               Maharashtra      8060737   11968     7900626   \n",
       "21                                   Manipur       139377     244      136995   \n",
       "22                                 Meghalaya        95925     686       93628   \n",
       "23                                   Mizoram       234387    1214      232461   \n",
       "24                                  Nagaland        35838      54       35012   \n",
       "25                                    Odisha      1319527    5851     1304527   \n",
       "26                                Puducherry       171651     640      169044   \n",
       "27                                    Punjab       777362   12429      747101   \n",
       "28                                 Rajasthan      1297814    3813     1284411   \n",
       "29                                    Sikkim        42784     476       41834   \n",
       "30                                Tamil Nadu      3553670    9408     3506229   \n",
       "31                                 Telengana       826284    5667      816506   \n",
       "32                                   Tripura       107419     653      105831   \n",
       "33                             Uttar Pradesh      2108686    5440     2079670   \n",
       "34                               Uttarakhand       445106    2378      435009   \n",
       "35                               West Bengal      2099433    7302     2070731   \n",
       "\n",
       "    Deaths  Active Ratio  Discharge Ratio  Death Ratio  Population  \\\n",
       "0      129          0.38            98.39         1.23   100896618   \n",
       "1    14733          0.06            99.31         0.63   128500364   \n",
       "2      296          0.45            99.11         0.45      658019   \n",
       "3     8022          0.54            98.38         1.08      290492   \n",
       "4    12285          0.12            98.42         1.45    40100376   \n",
       "5     1171          0.79            98.01         1.20    30501026   \n",
       "6    14081          0.28            98.52         1.20    28900667   \n",
       "7        4          0.20            99.77         0.03   231502578   \n",
       "8    26336          0.38            98.28         1.34      773997   \n",
       "9     3855          0.41            98.06         1.52     3772103   \n",
       "10   10980          0.46            98.67         0.87    70400153   \n",
       "11   10650          0.44            98.53         1.03    14999397   \n",
       "12    4177          1.61            97.02         1.37     3436948   \n",
       "13    4776          1.07            97.91         1.02       66001   \n",
       "14    5328          0.19            98.60         1.21   124904071   \n",
       "15   40163          0.28            98.72         1.00     1711947   \n",
       "16   70582          0.15            98.80         1.05    91702478   \n",
       "17     228          0.41            98.81         0.79     4184959   \n",
       "18      52          0.00            99.54         0.46    11700099   \n",
       "19   10762          0.13            98.85         1.02     7503010   \n",
       "20  148143          0.15            98.01         1.84      399001   \n",
       "21    2138          0.18            98.29         1.53    47099270   \n",
       "22    1611          0.72            97.61         1.68    79502477   \n",
       "23     712          0.52            99.18         0.30     1308967   \n",
       "24     772          0.15            97.70         2.15    38157311   \n",
       "25    9149          0.44            98.86         0.69    19301096   \n",
       "26    1967          0.37            98.48         1.15     2073074   \n",
       "27   17832          1.60            96.11         2.29    34698876   \n",
       "28    9590          0.29            98.97         0.74     1521992   \n",
       "29     474          1.11            97.78         1.11    83697770   \n",
       "30   38033          0.26            98.67         1.07    35998752   \n",
       "31    4111          0.69            98.82         0.50    69599762   \n",
       "32     935          0.61            98.52         0.87     1646050   \n",
       "33   23576          0.26            98.62         1.12     1158040   \n",
       "34    7719          0.53            97.73         1.73    85002417   \n",
       "35   21400          0.35            98.63         1.02    32199722   \n",
       "\n",
       "    Total cases  \n",
       "0         10462  \n",
       "1       2332257  \n",
       "2         65951  \n",
       "3        737535  \n",
       "4        843973  \n",
       "5         96670  \n",
       "6       1166250  \n",
       "7         11534  \n",
       "8       1963415  \n",
       "9        252116  \n",
       "10      1256060  \n",
       "11      1032197  \n",
       "12       300464  \n",
       "13       465156  \n",
       "14       440173  \n",
       "15      4009854  \n",
       "16      6720583  \n",
       "17        28903  \n",
       "18        11415  \n",
       "19      1050098  \n",
       "20      8048769  \n",
       "21       139133  \n",
       "22        95239  \n",
       "23       233173  \n",
       "24        35784  \n",
       "25      1313676  \n",
       "26       171011  \n",
       "27       764933  \n",
       "28      1294001  \n",
       "29        42308  \n",
       "30      3544262  \n",
       "31       820617  \n",
       "32       106766  \n",
       "33      2103246  \n",
       "34       442728  \n",
       "35      2092131  "
      ]
     },
     "execution_count": 13,
     "metadata": {},
     "output_type": "execute_result"
    }
   ],
   "source": [
    "df"
   ]
  },
  {
   "cell_type": "code",
   "execution_count": 14,
   "id": "039d9dc9",
   "metadata": {},
   "outputs": [
    {
     "data": {
      "text/html": [
       "<style type=\"text/css\">\n",
       "#T_9973e_row0_col1, #T_9973e_row0_col2, #T_9973e_row0_col3, #T_9973e_row0_col4, #T_9973e_row0_col9, #T_9973e_row2_col4, #T_9973e_row2_col8, #T_9973e_row3_col8, #T_9973e_row7_col1, #T_9973e_row7_col2, #T_9973e_row7_col3, #T_9973e_row7_col4, #T_9973e_row7_col7, #T_9973e_row7_col9, #T_9973e_row8_col8, #T_9973e_row13_col8, #T_9973e_row17_col1, #T_9973e_row17_col3, #T_9973e_row17_col4, #T_9973e_row17_col9, #T_9973e_row18_col1, #T_9973e_row18_col2, #T_9973e_row18_col3, #T_9973e_row18_col4, #T_9973e_row18_col5, #T_9973e_row18_col9, #T_9973e_row20_col8, #T_9973e_row24_col1, #T_9973e_row24_col3, #T_9973e_row24_col9, #T_9973e_row27_col6, #T_9973e_row29_col4 {\n",
       "  background-color: #fff5f0;\n",
       "  color: #000000;\n",
       "}\n",
       "#T_9973e_row0_col5, #T_9973e_row8_col5 {\n",
       "  background-color: #fcbfa7;\n",
       "  color: #000000;\n",
       "}\n",
       "#T_9973e_row0_col6 {\n",
       "  background-color: #ef3c2c;\n",
       "  color: #f1f1f1;\n",
       "}\n",
       "#T_9973e_row0_col7 {\n",
       "  background-color: #f85f43;\n",
       "  color: #f1f1f1;\n",
       "}\n",
       "#T_9973e_row0_col8, #T_9973e_row24_col6 {\n",
       "  background-color: #fc7f5f;\n",
       "  color: #f1f1f1;\n",
       "}\n",
       "#T_9973e_row1_col1, #T_9973e_row1_col9, #T_9973e_row10_col5 {\n",
       "  background-color: #fcaf93;\n",
       "  color: #000000;\n",
       "}\n",
       "#T_9973e_row1_col2 {\n",
       "  background-color: #fee2d5;\n",
       "  color: #000000;\n",
       "}\n",
       "#T_9973e_row1_col3, #T_9973e_row25_col7 {\n",
       "  background-color: #fcae92;\n",
       "  color: #000000;\n",
       "}\n",
       "#T_9973e_row1_col4, #T_9973e_row23_col2, #T_9973e_row31_col1, #T_9973e_row31_col9 {\n",
       "  background-color: #fee5d8;\n",
       "  color: #000000;\n",
       "}\n",
       "#T_9973e_row1_col5, #T_9973e_row12_col1, #T_9973e_row12_col3, #T_9973e_row12_col9, #T_9973e_row14_col4, #T_9973e_row29_col2 {\n",
       "  background-color: #ffefe8;\n",
       "  color: #000000;\n",
       "}\n",
       "#T_9973e_row1_col6 {\n",
       "  background-color: #a50f15;\n",
       "  color: #f1f1f1;\n",
       "}\n",
       "#T_9973e_row1_col7, #T_9973e_row6_col2, #T_9973e_row33_col3 {\n",
       "  background-color: #fcb79c;\n",
       "  color: #000000;\n",
       "}\n",
       "#T_9973e_row1_col8 {\n",
       "  background-color: #f6553c;\n",
       "  color: #f1f1f1;\n",
       "}\n",
       "#T_9973e_row2_col1, #T_9973e_row2_col3, #T_9973e_row2_col9, #T_9973e_row15_col8, #T_9973e_row23_col4, #T_9973e_row23_col8, #T_9973e_row24_col2, #T_9973e_row24_col4, #T_9973e_row28_col8, #T_9973e_row29_col1, #T_9973e_row29_col3, #T_9973e_row29_col9, #T_9973e_row32_col4, #T_9973e_row32_col8, #T_9973e_row33_col8 {\n",
       "  background-color: #fff4ef;\n",
       "  color: #000000;\n",
       "}\n",
       "#T_9973e_row2_col2, #T_9973e_row9_col4 {\n",
       "  background-color: #fff1ea;\n",
       "  color: #000000;\n",
       "}\n",
       "#T_9973e_row2_col5 {\n",
       "  background-color: #fcb296;\n",
       "  color: #000000;\n",
       "}\n",
       "#T_9973e_row2_col6, #T_9973e_row16_col2 {\n",
       "  background-color: #b61319;\n",
       "  color: #f1f1f1;\n",
       "}\n",
       "#T_9973e_row2_col7 {\n",
       "  background-color: #fdcebb;\n",
       "  color: #000000;\n",
       "}\n",
       "#T_9973e_row3_col1, #T_9973e_row3_col3, #T_9973e_row3_col9, #T_9973e_row16_col5, #T_9973e_row20_col5, #T_9973e_row24_col5, #T_9973e_row27_col3 {\n",
       "  background-color: #fee6da;\n",
       "  color: #000000;\n",
       "}\n",
       "#T_9973e_row3_col2, #T_9973e_row23_col5 {\n",
       "  background-color: #fca486;\n",
       "  color: #000000;\n",
       "}\n",
       "#T_9973e_row3_col4, #T_9973e_row14_col1, #T_9973e_row14_col3, #T_9973e_row14_col9, #T_9973e_row26_col2, #T_9973e_row32_col2, #T_9973e_row34_col1, #T_9973e_row34_col3, #T_9973e_row34_col4, #T_9973e_row34_col9 {\n",
       "  background-color: #ffece4;\n",
       "  color: #000000;\n",
       "}\n",
       "#T_9973e_row3_col5 {\n",
       "  background-color: #fca082;\n",
       "  color: #000000;\n",
       "}\n",
       "#T_9973e_row3_col6 {\n",
       "  background-color: #f03d2d;\n",
       "  color: #f1f1f1;\n",
       "}\n",
       "#T_9973e_row3_col7 {\n",
       "  background-color: #fb7656;\n",
       "  color: #f1f1f1;\n",
       "}\n",
       "#T_9973e_row4_col1, #T_9973e_row4_col3, #T_9973e_row4_col9, #T_9973e_row31_col3 {\n",
       "  background-color: #fee4d8;\n",
       "  color: #000000;\n",
       "}\n",
       "#T_9973e_row4_col2, #T_9973e_row4_col4, #T_9973e_row9_col2, #T_9973e_row25_col8 {\n",
       "  background-color: #fee7dc;\n",
       "  color: #000000;\n",
       "}\n",
       "#T_9973e_row4_col5 {\n",
       "  background-color: #fee8de;\n",
       "  color: #000000;\n",
       "}\n",
       "#T_9973e_row4_col6 {\n",
       "  background-color: #ed392b;\n",
       "  color: #f1f1f1;\n",
       "}\n",
       "#T_9973e_row4_col7 {\n",
       "  background-color: #ee3a2c;\n",
       "  color: #f1f1f1;\n",
       "}\n",
       "#T_9973e_row4_col8, #T_9973e_row6_col5, #T_9973e_row15_col5 {\n",
       "  background-color: #fdd2bf;\n",
       "  color: #000000;\n",
       "}\n",
       "#T_9973e_row5_col1, #T_9973e_row5_col3, #T_9973e_row5_col4, #T_9973e_row5_col9, #T_9973e_row17_col2, #T_9973e_row22_col1, #T_9973e_row22_col3, #T_9973e_row22_col4, #T_9973e_row22_col9, #T_9973e_row26_col8 {\n",
       "  background-color: #fff4ee;\n",
       "  color: #000000;\n",
       "}\n",
       "#T_9973e_row5_col2, #T_9973e_row25_col4 {\n",
       "  background-color: #ffebe2;\n",
       "  color: #000000;\n",
       "}\n",
       "#T_9973e_row5_col5, #T_9973e_row13_col6 {\n",
       "  background-color: #fb6d4d;\n",
       "  color: #f1f1f1;\n",
       "}\n",
       "#T_9973e_row5_col6, #T_9973e_row5_col7, #T_9973e_row6_col7, #T_9973e_row20_col6 {\n",
       "  background-color: #f96346;\n",
       "  color: #f1f1f1;\n",
       "}\n",
       "#T_9973e_row5_col8, #T_9973e_row19_col1, #T_9973e_row19_col3, #T_9973e_row19_col9 {\n",
       "  background-color: #fedfd0;\n",
       "  color: #000000;\n",
       "}\n",
       "#T_9973e_row6_col1, #T_9973e_row6_col9, #T_9973e_row35_col4 {\n",
       "  background-color: #fedbcc;\n",
       "  color: #000000;\n",
       "}\n",
       "#T_9973e_row6_col3 {\n",
       "  background-color: #fedaca;\n",
       "  color: #000000;\n",
       "}\n",
       "#T_9973e_row6_col4, #T_9973e_row27_col1, #T_9973e_row27_col9 {\n",
       "  background-color: #fee5d9;\n",
       "  color: #000000;\n",
       "}\n",
       "#T_9973e_row6_col6, #T_9973e_row9_col7, #T_9973e_row32_col6 {\n",
       "  background-color: #e53228;\n",
       "  color: #f1f1f1;\n",
       "}\n",
       "#T_9973e_row6_col8, #T_9973e_row7_col5 {\n",
       "  background-color: #fee1d3;\n",
       "  color: #000000;\n",
       "}\n",
       "#T_9973e_row7_col6, #T_9973e_row7_col8, #T_9973e_row12_col5, #T_9973e_row20_col1, #T_9973e_row20_col3, #T_9973e_row20_col4, #T_9973e_row20_col9, #T_9973e_row27_col2, #T_9973e_row27_col7 {\n",
       "  background-color: #67000d;\n",
       "  color: #f1f1f1;\n",
       "}\n",
       "#T_9973e_row8_col1, #T_9973e_row8_col3, #T_9973e_row8_col9 {\n",
       "  background-color: #fcbda4;\n",
       "  color: #000000;\n",
       "}\n",
       "#T_9973e_row8_col2 {\n",
       "  background-color: #f14331;\n",
       "  color: #f1f1f1;\n",
       "}\n",
       "#T_9973e_row8_col4 {\n",
       "  background-color: #fdd1be;\n",
       "  color: #000000;\n",
       "}\n",
       "#T_9973e_row8_col6, #T_9973e_row12_col7 {\n",
       "  background-color: #f24734;\n",
       "  color: #f1f1f1;\n",
       "}\n",
       "#T_9973e_row8_col7 {\n",
       "  background-color: #f34c37;\n",
       "  color: #f1f1f1;\n",
       "}\n",
       "#T_9973e_row9_col1, #T_9973e_row9_col3, #T_9973e_row9_col9, #T_9973e_row12_col4, #T_9973e_row23_col1, #T_9973e_row23_col3, #T_9973e_row23_col9, #T_9973e_row31_col4 {\n",
       "  background-color: #fff0e9;\n",
       "  color: #000000;\n",
       "}\n",
       "#T_9973e_row9_col5, #T_9973e_row17_col5, #T_9973e_row30_col4 {\n",
       "  background-color: #fcb99f;\n",
       "  color: #000000;\n",
       "}\n",
       "#T_9973e_row9_col6 {\n",
       "  background-color: #f85d42;\n",
       "  color: #f1f1f1;\n",
       "}\n",
       "#T_9973e_row9_col8, #T_9973e_row17_col8, #T_9973e_row21_col1, #T_9973e_row21_col3, #T_9973e_row21_col9 {\n",
       "  background-color: #fff2ec;\n",
       "  color: #000000;\n",
       "}\n",
       "#T_9973e_row10_col1, #T_9973e_row10_col9, #T_9973e_row30_col8 {\n",
       "  background-color: #fed8c7;\n",
       "  color: #000000;\n",
       "}\n",
       "#T_9973e_row10_col2, #T_9973e_row25_col2 {\n",
       "  background-color: #fb7353;\n",
       "  color: #f1f1f1;\n",
       "}\n",
       "#T_9973e_row10_col3, #T_9973e_row28_col1, #T_9973e_row28_col9, #T_9973e_row33_col4 {\n",
       "  background-color: #fdd7c6;\n",
       "  color: #000000;\n",
       "}\n",
       "#T_9973e_row10_col4, #T_9973e_row11_col4, #T_9973e_row19_col4 {\n",
       "  background-color: #fee9df;\n",
       "  color: #000000;\n",
       "}\n",
       "#T_9973e_row10_col6, #T_9973e_row30_col6 {\n",
       "  background-color: #d92523;\n",
       "  color: #f1f1f1;\n",
       "}\n",
       "#T_9973e_row10_col7, #T_9973e_row32_col7 {\n",
       "  background-color: #fc9373;\n",
       "  color: #000000;\n",
       "}\n",
       "#T_9973e_row10_col8 {\n",
       "  background-color: #fcaa8d;\n",
       "  color: #000000;\n",
       "}\n",
       "#T_9973e_row11_col1, #T_9973e_row11_col3, #T_9973e_row11_col9 {\n",
       "  background-color: #fee0d2;\n",
       "  color: #000000;\n",
       "}\n",
       "#T_9973e_row11_col2 {\n",
       "  background-color: #fc9474;\n",
       "  color: #000000;\n",
       "}\n",
       "#T_9973e_row11_col5, #T_9973e_row15_col4, #T_9973e_row25_col5 {\n",
       "  background-color: #fcb499;\n",
       "  color: #000000;\n",
       "}\n",
       "#T_9973e_row11_col6, #T_9973e_row21_col7 {\n",
       "  background-color: #e43027;\n",
       "  color: #f1f1f1;\n",
       "}\n",
       "#T_9973e_row11_col7, #T_9973e_row30_col3, #T_9973e_row34_col6 {\n",
       "  background-color: #fb7c5c;\n",
       "  color: #f1f1f1;\n",
       "}\n",
       "#T_9973e_row11_col8, #T_9973e_row28_col4 {\n",
       "  background-color: #feeae1;\n",
       "  color: #000000;\n",
       "}\n",
       "#T_9973e_row12_col2, #T_9973e_row16_col8 {\n",
       "  background-color: #fc8b6b;\n",
       "  color: #f1f1f1;\n",
       "}\n",
       "#T_9973e_row12_col6 {\n",
       "  background-color: #fcbca2;\n",
       "  color: #000000;\n",
       "}\n",
       "#T_9973e_row12_col8, #T_9973e_row21_col4, #T_9973e_row26_col4, #T_9973e_row32_col1, #T_9973e_row32_col3, #T_9973e_row32_col9 {\n",
       "  background-color: #fff3ed;\n",
       "  color: #000000;\n",
       "}\n",
       "#T_9973e_row13_col1, #T_9973e_row13_col3, #T_9973e_row13_col9, #T_9973e_row22_col2 {\n",
       "  background-color: #ffece3;\n",
       "  color: #000000;\n",
       "}\n",
       "#T_9973e_row13_col2 {\n",
       "  background-color: #fc8969;\n",
       "  color: #f1f1f1;\n",
       "}\n",
       "#T_9973e_row13_col4, #T_9973e_row19_col8 {\n",
       "  background-color: #fff0e8;\n",
       "  color: #000000;\n",
       "}\n",
       "#T_9973e_row13_col5 {\n",
       "  background-color: #e32f27;\n",
       "  color: #f1f1f1;\n",
       "}\n",
       "#T_9973e_row13_col7, #T_9973e_row19_col7, #T_9973e_row30_col1, #T_9973e_row30_col9, #T_9973e_row33_col2, #T_9973e_row35_col7 {\n",
       "  background-color: #fb7d5d;\n",
       "  color: #f1f1f1;\n",
       "}\n",
       "#T_9973e_row14_col2 {\n",
       "  background-color: #feeae0;\n",
       "  color: #000000;\n",
       "}\n",
       "#T_9973e_row14_col5, #T_9973e_row23_col7, #T_9973e_row27_col4 {\n",
       "  background-color: #fee1d4;\n",
       "  color: #000000;\n",
       "}\n",
       "#T_9973e_row14_col6 {\n",
       "  background-color: #de2b25;\n",
       "  color: #f1f1f1;\n",
       "}\n",
       "#T_9973e_row14_col7 {\n",
       "  background-color: #f96245;\n",
       "  color: #f1f1f1;\n",
       "}\n",
       "#T_9973e_row14_col8 {\n",
       "  background-color: #f75b40;\n",
       "  color: #f1f1f1;\n",
       "}\n",
       "#T_9973e_row15_col1, #T_9973e_row15_col9 {\n",
       "  background-color: #fb6b4b;\n",
       "  color: #f1f1f1;\n",
       "}\n",
       "#T_9973e_row15_col2 {\n",
       "  background-color: #960b13;\n",
       "  color: #f1f1f1;\n",
       "}\n",
       "#T_9973e_row15_col3 {\n",
       "  background-color: #fb694a;\n",
       "  color: #f1f1f1;\n",
       "}\n",
       "#T_9973e_row15_col6 {\n",
       "  background-color: #d52221;\n",
       "  color: #f1f1f1;\n",
       "}\n",
       "#T_9973e_row15_col7, #T_9973e_row31_col5 {\n",
       "  background-color: #fc8161;\n",
       "  color: #f1f1f1;\n",
       "}\n",
       "#T_9973e_row16_col1, #T_9973e_row16_col9 {\n",
       "  background-color: #b11218;\n",
       "  color: #f1f1f1;\n",
       "}\n",
       "#T_9973e_row16_col3 {\n",
       "  background-color: #af1117;\n",
       "  color: #f1f1f1;\n",
       "}\n",
       "#T_9973e_row16_col4 {\n",
       "  background-color: #fb7252;\n",
       "  color: #f1f1f1;\n",
       "}\n",
       "#T_9973e_row16_col6, #T_9973e_row17_col6 {\n",
       "  background-color: #cf1c1f;\n",
       "  color: #f1f1f1;\n",
       "}\n",
       "#T_9973e_row16_col7 {\n",
       "  background-color: #fb7a5a;\n",
       "  color: #f1f1f1;\n",
       "}\n",
       "#T_9973e_row17_col7 {\n",
       "  background-color: #fc9e80;\n",
       "  color: #000000;\n",
       "}\n",
       "#T_9973e_row18_col6 {\n",
       "  background-color: #860811;\n",
       "  color: #f1f1f1;\n",
       "}\n",
       "#T_9973e_row18_col7, #T_9973e_row34_col2 {\n",
       "  background-color: #fdcdb9;\n",
       "  color: #000000;\n",
       "}\n",
       "#T_9973e_row18_col8 {\n",
       "  background-color: #ffede5;\n",
       "  color: #000000;\n",
       "}\n",
       "#T_9973e_row19_col2 {\n",
       "  background-color: #fee3d7;\n",
       "  color: #000000;\n",
       "}\n",
       "#T_9973e_row19_col5 {\n",
       "  background-color: #fee8dd;\n",
       "  color: #000000;\n",
       "}\n",
       "#T_9973e_row19_col6 {\n",
       "  background-color: #cb181d;\n",
       "  color: #f1f1f1;\n",
       "}\n",
       "#T_9973e_row20_col2 {\n",
       "  background-color: #79040f;\n",
       "  color: #f1f1f1;\n",
       "}\n",
       "#T_9973e_row20_col7 {\n",
       "  background-color: #bb141a;\n",
       "  color: #f1f1f1;\n",
       "}\n",
       "#T_9973e_row21_col2, #T_9973e_row26_col1, #T_9973e_row26_col3, #T_9973e_row26_col9 {\n",
       "  background-color: #fff2eb;\n",
       "  color: #000000;\n",
       "}\n",
       "#T_9973e_row21_col5 {\n",
       "  background-color: #fee3d6;\n",
       "  color: #000000;\n",
       "}\n",
       "#T_9973e_row21_col6 {\n",
       "  background-color: #f24633;\n",
       "  color: #f1f1f1;\n",
       "}\n",
       "#T_9973e_row21_col8 {\n",
       "  background-color: #fdc9b3;\n",
       "  color: #000000;\n",
       "}\n",
       "#T_9973e_row22_col5 {\n",
       "  background-color: #fb7b5b;\n",
       "  color: #f1f1f1;\n",
       "}\n",
       "#T_9973e_row22_col6 {\n",
       "  background-color: #fc8767;\n",
       "  color: #f1f1f1;\n",
       "}\n",
       "#T_9973e_row22_col7 {\n",
       "  background-color: #d11e1f;\n",
       "  color: #f1f1f1;\n",
       "}\n",
       "#T_9973e_row22_col8 {\n",
       "  background-color: #fc9d7f;\n",
       "  color: #000000;\n",
       "}\n",
       "#T_9973e_row23_col6 {\n",
       "  background-color: #b01217;\n",
       "  color: #f1f1f1;\n",
       "}\n",
       "#T_9973e_row24_col7 {\n",
       "  background-color: #840711;\n",
       "  color: #f1f1f1;\n",
       "}\n",
       "#T_9973e_row24_col8 {\n",
       "  background-color: #fdd4c2;\n",
       "  color: #000000;\n",
       "}\n",
       "#T_9973e_row25_col1, #T_9973e_row25_col3, #T_9973e_row25_col9, #T_9973e_row28_col3, #T_9973e_row30_col5, #T_9973e_row33_col5 {\n",
       "  background-color: #fdd5c4;\n",
       "  color: #000000;\n",
       "}\n",
       "#T_9973e_row25_col6, #T_9973e_row34_col7 {\n",
       "  background-color: #ca181d;\n",
       "  color: #f1f1f1;\n",
       "}\n",
       "#T_9973e_row26_col5 {\n",
       "  background-color: #fcc2aa;\n",
       "  color: #000000;\n",
       "}\n",
       "#T_9973e_row26_col6 {\n",
       "  background-color: #e93529;\n",
       "  color: #f1f1f1;\n",
       "}\n",
       "#T_9973e_row26_col7 {\n",
       "  background-color: #fb6c4c;\n",
       "  color: #f1f1f1;\n",
       "}\n",
       "#T_9973e_row27_col5 {\n",
       "  background-color: #69000d;\n",
       "  color: #f1f1f1;\n",
       "}\n",
       "#T_9973e_row27_col8 {\n",
       "  background-color: #fed9c9;\n",
       "  color: #000000;\n",
       "}\n",
       "#T_9973e_row28_col2 {\n",
       "  background-color: #fca98c;\n",
       "  color: #000000;\n",
       "}\n",
       "#T_9973e_row28_col5 {\n",
       "  background-color: #fdd0bc;\n",
       "  color: #000000;\n",
       "}\n",
       "#T_9973e_row28_col6 {\n",
       "  background-color: #c1161b;\n",
       "  color: #f1f1f1;\n",
       "}\n",
       "#T_9973e_row28_col7 {\n",
       "  background-color: #fca689;\n",
       "  color: #000000;\n",
       "}\n",
       "#T_9973e_row29_col5, #T_9973e_row35_col6 {\n",
       "  background-color: #dc2924;\n",
       "  color: #f1f1f1;\n",
       "}\n",
       "#T_9973e_row29_col6, #T_9973e_row31_col2 {\n",
       "  background-color: #fb7858;\n",
       "  color: #f1f1f1;\n",
       "}\n",
       "#T_9973e_row29_col7 {\n",
       "  background-color: #fb7151;\n",
       "  color: #f1f1f1;\n",
       "}\n",
       "#T_9973e_row29_col8 {\n",
       "  background-color: #fc9777;\n",
       "  color: #000000;\n",
       "}\n",
       "#T_9973e_row30_col2 {\n",
       "  background-color: #c9181d;\n",
       "  color: #f1f1f1;\n",
       "}\n",
       "#T_9973e_row30_col7 {\n",
       "  background-color: #fb7757;\n",
       "  color: #f1f1f1;\n",
       "}\n",
       "#T_9973e_row31_col6 {\n",
       "  background-color: #ce1a1e;\n",
       "  color: #f1f1f1;\n",
       "}\n",
       "#T_9973e_row31_col7 {\n",
       "  background-color: #fdc7b2;\n",
       "  color: #000000;\n",
       "}\n",
       "#T_9973e_row31_col8 {\n",
       "  background-color: #fcab8f;\n",
       "  color: #000000;\n",
       "}\n",
       "#T_9973e_row32_col5 {\n",
       "  background-color: #fc9272;\n",
       "  color: #000000;\n",
       "}\n",
       "#T_9973e_row33_col1, #T_9973e_row33_col9, #T_9973e_row35_col1, #T_9973e_row35_col3, #T_9973e_row35_col9 {\n",
       "  background-color: #fcb89e;\n",
       "  color: #000000;\n",
       "}\n",
       "#T_9973e_row33_col6 {\n",
       "  background-color: #dd2a25;\n",
       "  color: #f1f1f1;\n",
       "}\n",
       "#T_9973e_row33_col7 {\n",
       "  background-color: #fb7050;\n",
       "  color: #f1f1f1;\n",
       "}\n",
       "#T_9973e_row34_col5 {\n",
       "  background-color: #fca183;\n",
       "  color: #000000;\n",
       "}\n",
       "#T_9973e_row34_col8 {\n",
       "  background-color: #fc9576;\n",
       "  color: #000000;\n",
       "}\n",
       "#T_9973e_row35_col2 {\n",
       "  background-color: #f34935;\n",
       "  color: #f1f1f1;\n",
       "}\n",
       "#T_9973e_row35_col5 {\n",
       "  background-color: #fdc5ae;\n",
       "  color: #000000;\n",
       "}\n",
       "#T_9973e_row35_col8 {\n",
       "  background-color: #fedccd;\n",
       "  color: #000000;\n",
       "}\n",
       "</style>\n",
       "<table id=\"T_9973e\">\n",
       "  <thead>\n",
       "    <tr>\n",
       "      <th class=\"blank level0\" >&nbsp;</th>\n",
       "      <th id=\"T_9973e_level0_col0\" class=\"col_heading level0 col0\" >State/UTs</th>\n",
       "      <th id=\"T_9973e_level0_col1\" class=\"col_heading level0 col1\" >Total Cases</th>\n",
       "      <th id=\"T_9973e_level0_col2\" class=\"col_heading level0 col2\" >Active</th>\n",
       "      <th id=\"T_9973e_level0_col3\" class=\"col_heading level0 col3\" >Discharged</th>\n",
       "      <th id=\"T_9973e_level0_col4\" class=\"col_heading level0 col4\" >Deaths</th>\n",
       "      <th id=\"T_9973e_level0_col5\" class=\"col_heading level0 col5\" >Active Ratio</th>\n",
       "      <th id=\"T_9973e_level0_col6\" class=\"col_heading level0 col6\" >Discharge Ratio</th>\n",
       "      <th id=\"T_9973e_level0_col7\" class=\"col_heading level0 col7\" >Death Ratio</th>\n",
       "      <th id=\"T_9973e_level0_col8\" class=\"col_heading level0 col8\" >Population</th>\n",
       "      <th id=\"T_9973e_level0_col9\" class=\"col_heading level0 col9\" >Total cases</th>\n",
       "    </tr>\n",
       "  </thead>\n",
       "  <tbody>\n",
       "    <tr>\n",
       "      <th id=\"T_9973e_level0_row0\" class=\"row_heading level0 row0\" >0</th>\n",
       "      <td id=\"T_9973e_row0_col0\" class=\"data row0 col0\" >Andaman and Nicobar</td>\n",
       "      <td id=\"T_9973e_row0_col1\" class=\"data row0 col1\" >10502</td>\n",
       "      <td id=\"T_9973e_row0_col2\" class=\"data row0 col2\" >40</td>\n",
       "      <td id=\"T_9973e_row0_col3\" class=\"data row0 col3\" >10333</td>\n",
       "      <td id=\"T_9973e_row0_col4\" class=\"data row0 col4\" >129</td>\n",
       "      <td id=\"T_9973e_row0_col5\" class=\"data row0 col5\" >0.380000</td>\n",
       "      <td id=\"T_9973e_row0_col6\" class=\"data row0 col6\" >98.390000</td>\n",
       "      <td id=\"T_9973e_row0_col7\" class=\"data row0 col7\" >1.230000</td>\n",
       "      <td id=\"T_9973e_row0_col8\" class=\"data row0 col8\" >100896618</td>\n",
       "      <td id=\"T_9973e_row0_col9\" class=\"data row0 col9\" >10462</td>\n",
       "    </tr>\n",
       "    <tr>\n",
       "      <th id=\"T_9973e_level0_row1\" class=\"row_heading level0 row1\" >1</th>\n",
       "      <td id=\"T_9973e_row1_col0\" class=\"data row1 col0\" >Andhra Pradesh</td>\n",
       "      <td id=\"T_9973e_row1_col1\" class=\"data row1 col1\" >2333710</td>\n",
       "      <td id=\"T_9973e_row1_col2\" class=\"data row1 col2\" >1453</td>\n",
       "      <td id=\"T_9973e_row1_col3\" class=\"data row1 col3\" >2317524</td>\n",
       "      <td id=\"T_9973e_row1_col4\" class=\"data row1 col4\" >14733</td>\n",
       "      <td id=\"T_9973e_row1_col5\" class=\"data row1 col5\" >0.060000</td>\n",
       "      <td id=\"T_9973e_row1_col6\" class=\"data row1 col6\" >99.310000</td>\n",
       "      <td id=\"T_9973e_row1_col7\" class=\"data row1 col7\" >0.630000</td>\n",
       "      <td id=\"T_9973e_row1_col8\" class=\"data row1 col8\" >128500364</td>\n",
       "      <td id=\"T_9973e_row1_col9\" class=\"data row1 col9\" >2332257</td>\n",
       "    </tr>\n",
       "    <tr>\n",
       "      <th id=\"T_9973e_level0_row2\" class=\"row_heading level0 row2\" >2</th>\n",
       "      <td id=\"T_9973e_row2_col0\" class=\"data row2 col0\" >Arunachal Pradesh</td>\n",
       "      <td id=\"T_9973e_row2_col1\" class=\"data row2 col1\" >66246</td>\n",
       "      <td id=\"T_9973e_row2_col2\" class=\"data row2 col2\" >295</td>\n",
       "      <td id=\"T_9973e_row2_col3\" class=\"data row2 col3\" >65655</td>\n",
       "      <td id=\"T_9973e_row2_col4\" class=\"data row2 col4\" >296</td>\n",
       "      <td id=\"T_9973e_row2_col5\" class=\"data row2 col5\" >0.450000</td>\n",
       "      <td id=\"T_9973e_row2_col6\" class=\"data row2 col6\" >99.110000</td>\n",
       "      <td id=\"T_9973e_row2_col7\" class=\"data row2 col7\" >0.450000</td>\n",
       "      <td id=\"T_9973e_row2_col8\" class=\"data row2 col8\" >658019</td>\n",
       "      <td id=\"T_9973e_row2_col9\" class=\"data row2 col9\" >65951</td>\n",
       "    </tr>\n",
       "    <tr>\n",
       "      <th id=\"T_9973e_level0_row3\" class=\"row_heading level0 row3\" >3</th>\n",
       "      <td id=\"T_9973e_row3_col0\" class=\"data row3 col0\" >Assam</td>\n",
       "      <td id=\"T_9973e_row3_col1\" class=\"data row3 col1\" >741541</td>\n",
       "      <td id=\"T_9973e_row3_col2\" class=\"data row3 col2\" >4006</td>\n",
       "      <td id=\"T_9973e_row3_col3\" class=\"data row3 col3\" >729513</td>\n",
       "      <td id=\"T_9973e_row3_col4\" class=\"data row3 col4\" >8022</td>\n",
       "      <td id=\"T_9973e_row3_col5\" class=\"data row3 col5\" >0.540000</td>\n",
       "      <td id=\"T_9973e_row3_col6\" class=\"data row3 col6\" >98.380000</td>\n",
       "      <td id=\"T_9973e_row3_col7\" class=\"data row3 col7\" >1.080000</td>\n",
       "      <td id=\"T_9973e_row3_col8\" class=\"data row3 col8\" >290492</td>\n",
       "      <td id=\"T_9973e_row3_col9\" class=\"data row3 col9\" >737535</td>\n",
       "    </tr>\n",
       "    <tr>\n",
       "      <th id=\"T_9973e_level0_row4\" class=\"row_heading level0 row4\" >4</th>\n",
       "      <td id=\"T_9973e_row4_col0\" class=\"data row4 col0\" >Bihar</td>\n",
       "      <td id=\"T_9973e_row4_col1\" class=\"data row4 col1\" >844997</td>\n",
       "      <td id=\"T_9973e_row4_col2\" class=\"data row4 col2\" >1024</td>\n",
       "      <td id=\"T_9973e_row4_col3\" class=\"data row4 col3\" >831688</td>\n",
       "      <td id=\"T_9973e_row4_col4\" class=\"data row4 col4\" >12285</td>\n",
       "      <td id=\"T_9973e_row4_col5\" class=\"data row4 col5\" >0.120000</td>\n",
       "      <td id=\"T_9973e_row4_col6\" class=\"data row4 col6\" >98.420000</td>\n",
       "      <td id=\"T_9973e_row4_col7\" class=\"data row4 col7\" >1.450000</td>\n",
       "      <td id=\"T_9973e_row4_col8\" class=\"data row4 col8\" >40100376</td>\n",
       "      <td id=\"T_9973e_row4_col9\" class=\"data row4 col9\" >843973</td>\n",
       "    </tr>\n",
       "    <tr>\n",
       "      <th id=\"T_9973e_level0_row5\" class=\"row_heading level0 row5\" >5</th>\n",
       "      <td id=\"T_9973e_row5_col0\" class=\"data row5 col0\" >Chandigarh</td>\n",
       "      <td id=\"T_9973e_row5_col1\" class=\"data row5 col1\" >97442</td>\n",
       "      <td id=\"T_9973e_row5_col2\" class=\"data row5 col2\" >772</td>\n",
       "      <td id=\"T_9973e_row5_col3\" class=\"data row5 col3\" >95499</td>\n",
       "      <td id=\"T_9973e_row5_col4\" class=\"data row5 col4\" >1171</td>\n",
       "      <td id=\"T_9973e_row5_col5\" class=\"data row5 col5\" >0.790000</td>\n",
       "      <td id=\"T_9973e_row5_col6\" class=\"data row5 col6\" >98.010000</td>\n",
       "      <td id=\"T_9973e_row5_col7\" class=\"data row5 col7\" >1.200000</td>\n",
       "      <td id=\"T_9973e_row5_col8\" class=\"data row5 col8\" >30501026</td>\n",
       "      <td id=\"T_9973e_row5_col9\" class=\"data row5 col9\" >96670</td>\n",
       "    </tr>\n",
       "    <tr>\n",
       "      <th id=\"T_9973e_level0_row6\" class=\"row_heading level0 row6\" >6</th>\n",
       "      <td id=\"T_9973e_row6_col0\" class=\"data row6 col0\" >Chhattisgarh</td>\n",
       "      <td id=\"T_9973e_row6_col1\" class=\"data row6 col1\" >1169532</td>\n",
       "      <td id=\"T_9973e_row6_col2\" class=\"data row6 col2\" >3282</td>\n",
       "      <td id=\"T_9973e_row6_col3\" class=\"data row6 col3\" >1152169</td>\n",
       "      <td id=\"T_9973e_row6_col4\" class=\"data row6 col4\" >14081</td>\n",
       "      <td id=\"T_9973e_row6_col5\" class=\"data row6 col5\" >0.280000</td>\n",
       "      <td id=\"T_9973e_row6_col6\" class=\"data row6 col6\" >98.520000</td>\n",
       "      <td id=\"T_9973e_row6_col7\" class=\"data row6 col7\" >1.200000</td>\n",
       "      <td id=\"T_9973e_row6_col8\" class=\"data row6 col8\" >28900667</td>\n",
       "      <td id=\"T_9973e_row6_col9\" class=\"data row6 col9\" >1166250</td>\n",
       "    </tr>\n",
       "    <tr>\n",
       "      <th id=\"T_9973e_level0_row7\" class=\"row_heading level0 row7\" >7</th>\n",
       "      <td id=\"T_9973e_row7_col0\" class=\"data row7 col0\" >Dadra and Nagar Haveli and Daman and Diu</td>\n",
       "      <td id=\"T_9973e_row7_col1\" class=\"data row7 col1\" >11557</td>\n",
       "      <td id=\"T_9973e_row7_col2\" class=\"data row7 col2\" >23</td>\n",
       "      <td id=\"T_9973e_row7_col3\" class=\"data row7 col3\" >11530</td>\n",
       "      <td id=\"T_9973e_row7_col4\" class=\"data row7 col4\" >4</td>\n",
       "      <td id=\"T_9973e_row7_col5\" class=\"data row7 col5\" >0.200000</td>\n",
       "      <td id=\"T_9973e_row7_col6\" class=\"data row7 col6\" >99.770000</td>\n",
       "      <td id=\"T_9973e_row7_col7\" class=\"data row7 col7\" >0.030000</td>\n",
       "      <td id=\"T_9973e_row7_col8\" class=\"data row7 col8\" >231502578</td>\n",
       "      <td id=\"T_9973e_row7_col9\" class=\"data row7 col9\" >11534</td>\n",
       "    </tr>\n",
       "    <tr>\n",
       "      <th id=\"T_9973e_level0_row8\" class=\"row_heading level0 row8\" >8</th>\n",
       "      <td id=\"T_9973e_row8_col0\" class=\"data row8 col0\" >Delhi</td>\n",
       "      <td id=\"T_9973e_row8_col1\" class=\"data row8 col1\" >1970899</td>\n",
       "      <td id=\"T_9973e_row8_col2\" class=\"data row8 col2\" >7484</td>\n",
       "      <td id=\"T_9973e_row8_col3\" class=\"data row8 col3\" >1937079</td>\n",
       "      <td id=\"T_9973e_row8_col4\" class=\"data row8 col4\" >26336</td>\n",
       "      <td id=\"T_9973e_row8_col5\" class=\"data row8 col5\" >0.380000</td>\n",
       "      <td id=\"T_9973e_row8_col6\" class=\"data row8 col6\" >98.280000</td>\n",
       "      <td id=\"T_9973e_row8_col7\" class=\"data row8 col7\" >1.340000</td>\n",
       "      <td id=\"T_9973e_row8_col8\" class=\"data row8 col8\" >773997</td>\n",
       "      <td id=\"T_9973e_row8_col9\" class=\"data row8 col9\" >1963415</td>\n",
       "    </tr>\n",
       "    <tr>\n",
       "      <th id=\"T_9973e_level0_row9\" class=\"row_heading level0 row9\" >9</th>\n",
       "      <td id=\"T_9973e_row9_col0\" class=\"data row9 col0\" >Goa</td>\n",
       "      <td id=\"T_9973e_row9_col1\" class=\"data row9 col1\" >253162</td>\n",
       "      <td id=\"T_9973e_row9_col2\" class=\"data row9 col2\" >1046</td>\n",
       "      <td id=\"T_9973e_row9_col3\" class=\"data row9 col3\" >248261</td>\n",
       "      <td id=\"T_9973e_row9_col4\" class=\"data row9 col4\" >3855</td>\n",
       "      <td id=\"T_9973e_row9_col5\" class=\"data row9 col5\" >0.410000</td>\n",
       "      <td id=\"T_9973e_row9_col6\" class=\"data row9 col6\" >98.060000</td>\n",
       "      <td id=\"T_9973e_row9_col7\" class=\"data row9 col7\" >1.520000</td>\n",
       "      <td id=\"T_9973e_row9_col8\" class=\"data row9 col8\" >3772103</td>\n",
       "      <td id=\"T_9973e_row9_col9\" class=\"data row9 col9\" >252116</td>\n",
       "    </tr>\n",
       "    <tr>\n",
       "      <th id=\"T_9973e_level0_row10\" class=\"row_heading level0 row10\" >10</th>\n",
       "      <td id=\"T_9973e_row10_col0\" class=\"data row10 col0\" >Gujarat</td>\n",
       "      <td id=\"T_9973e_row10_col1\" class=\"data row10 col1\" >1261922</td>\n",
       "      <td id=\"T_9973e_row10_col2\" class=\"data row10 col2\" >5862</td>\n",
       "      <td id=\"T_9973e_row10_col3\" class=\"data row10 col3\" >1245080</td>\n",
       "      <td id=\"T_9973e_row10_col4\" class=\"data row10 col4\" >10980</td>\n",
       "      <td id=\"T_9973e_row10_col5\" class=\"data row10 col5\" >0.460000</td>\n",
       "      <td id=\"T_9973e_row10_col6\" class=\"data row10 col6\" >98.670000</td>\n",
       "      <td id=\"T_9973e_row10_col7\" class=\"data row10 col7\" >0.870000</td>\n",
       "      <td id=\"T_9973e_row10_col8\" class=\"data row10 col8\" >70400153</td>\n",
       "      <td id=\"T_9973e_row10_col9\" class=\"data row10 col9\" >1256060</td>\n",
       "    </tr>\n",
       "    <tr>\n",
       "      <th id=\"T_9973e_level0_row11\" class=\"row_heading level0 row11\" >11</th>\n",
       "      <td id=\"T_9973e_row11_col0\" class=\"data row11 col0\" >Haryana</td>\n",
       "      <td id=\"T_9973e_row11_col1\" class=\"data row11 col1\" >1036795</td>\n",
       "      <td id=\"T_9973e_row11_col2\" class=\"data row11 col2\" >4598</td>\n",
       "      <td id=\"T_9973e_row11_col3\" class=\"data row11 col3\" >1021547</td>\n",
       "      <td id=\"T_9973e_row11_col4\" class=\"data row11 col4\" >10650</td>\n",
       "      <td id=\"T_9973e_row11_col5\" class=\"data row11 col5\" >0.440000</td>\n",
       "      <td id=\"T_9973e_row11_col6\" class=\"data row11 col6\" >98.530000</td>\n",
       "      <td id=\"T_9973e_row11_col7\" class=\"data row11 col7\" >1.030000</td>\n",
       "      <td id=\"T_9973e_row11_col8\" class=\"data row11 col8\" >14999397</td>\n",
       "      <td id=\"T_9973e_row11_col9\" class=\"data row11 col9\" >1032197</td>\n",
       "    </tr>\n",
       "    <tr>\n",
       "      <th id=\"T_9973e_level0_row12\" class=\"row_heading level0 row12\" >12</th>\n",
       "      <td id=\"T_9973e_row12_col0\" class=\"data row12 col0\" >Himachal Pradesh</td>\n",
       "      <td id=\"T_9973e_row12_col1\" class=\"data row12 col1\" >305383</td>\n",
       "      <td id=\"T_9973e_row12_col2\" class=\"data row12 col2\" >4919</td>\n",
       "      <td id=\"T_9973e_row12_col3\" class=\"data row12 col3\" >296287</td>\n",
       "      <td id=\"T_9973e_row12_col4\" class=\"data row12 col4\" >4177</td>\n",
       "      <td id=\"T_9973e_row12_col5\" class=\"data row12 col5\" >1.610000</td>\n",
       "      <td id=\"T_9973e_row12_col6\" class=\"data row12 col6\" >97.020000</td>\n",
       "      <td id=\"T_9973e_row12_col7\" class=\"data row12 col7\" >1.370000</td>\n",
       "      <td id=\"T_9973e_row12_col8\" class=\"data row12 col8\" >3436948</td>\n",
       "      <td id=\"T_9973e_row12_col9\" class=\"data row12 col9\" >300464</td>\n",
       "    </tr>\n",
       "    <tr>\n",
       "      <th id=\"T_9973e_level0_row13\" class=\"row_heading level0 row13\" >13</th>\n",
       "      <td id=\"T_9973e_row13_col0\" class=\"data row13 col0\" >Jammu and Kashmir</td>\n",
       "      <td id=\"T_9973e_row13_col1\" class=\"data row13 col1\" >470201</td>\n",
       "      <td id=\"T_9973e_row13_col2\" class=\"data row13 col2\" >5045</td>\n",
       "      <td id=\"T_9973e_row13_col3\" class=\"data row13 col3\" >460380</td>\n",
       "      <td id=\"T_9973e_row13_col4\" class=\"data row13 col4\" >4776</td>\n",
       "      <td id=\"T_9973e_row13_col5\" class=\"data row13 col5\" >1.070000</td>\n",
       "      <td id=\"T_9973e_row13_col6\" class=\"data row13 col6\" >97.910000</td>\n",
       "      <td id=\"T_9973e_row13_col7\" class=\"data row13 col7\" >1.020000</td>\n",
       "      <td id=\"T_9973e_row13_col8\" class=\"data row13 col8\" >66001</td>\n",
       "      <td id=\"T_9973e_row13_col9\" class=\"data row13 col9\" >465156</td>\n",
       "    </tr>\n",
       "    <tr>\n",
       "      <th id=\"T_9973e_level0_row14\" class=\"row_heading level0 row14\" >14</th>\n",
       "      <td id=\"T_9973e_row14_col0\" class=\"data row14 col0\" >Jharkhand</td>\n",
       "      <td id=\"T_9973e_row14_col1\" class=\"data row14 col1\" >441010</td>\n",
       "      <td id=\"T_9973e_row14_col2\" class=\"data row14 col2\" >837</td>\n",
       "      <td id=\"T_9973e_row14_col3\" class=\"data row14 col3\" >434845</td>\n",
       "      <td id=\"T_9973e_row14_col4\" class=\"data row14 col4\" >5328</td>\n",
       "      <td id=\"T_9973e_row14_col5\" class=\"data row14 col5\" >0.190000</td>\n",
       "      <td id=\"T_9973e_row14_col6\" class=\"data row14 col6\" >98.600000</td>\n",
       "      <td id=\"T_9973e_row14_col7\" class=\"data row14 col7\" >1.210000</td>\n",
       "      <td id=\"T_9973e_row14_col8\" class=\"data row14 col8\" >124904071</td>\n",
       "      <td id=\"T_9973e_row14_col9\" class=\"data row14 col9\" >440173</td>\n",
       "    </tr>\n",
       "    <tr>\n",
       "      <th id=\"T_9973e_level0_row15\" class=\"row_heading level0 row15\" >15</th>\n",
       "      <td id=\"T_9973e_row15_col0\" class=\"data row15 col0\" >Karnataka</td>\n",
       "      <td id=\"T_9973e_row15_col1\" class=\"data row15 col1\" >4021106</td>\n",
       "      <td id=\"T_9973e_row15_col2\" class=\"data row15 col2\" >11252</td>\n",
       "      <td id=\"T_9973e_row15_col3\" class=\"data row15 col3\" >3969691</td>\n",
       "      <td id=\"T_9973e_row15_col4\" class=\"data row15 col4\" >40163</td>\n",
       "      <td id=\"T_9973e_row15_col5\" class=\"data row15 col5\" >0.280000</td>\n",
       "      <td id=\"T_9973e_row15_col6\" class=\"data row15 col6\" >98.720000</td>\n",
       "      <td id=\"T_9973e_row15_col7\" class=\"data row15 col7\" >1.000000</td>\n",
       "      <td id=\"T_9973e_row15_col8\" class=\"data row15 col8\" >1711947</td>\n",
       "      <td id=\"T_9973e_row15_col9\" class=\"data row15 col9\" >4009854</td>\n",
       "    </tr>\n",
       "    <tr>\n",
       "      <th id=\"T_9973e_level0_row16\" class=\"row_heading level0 row16\" >16</th>\n",
       "      <td id=\"T_9973e_row16_col0\" class=\"data row16 col0\" >Kerala</td>\n",
       "      <td id=\"T_9973e_row16_col1\" class=\"data row16 col1\" >6730762</td>\n",
       "      <td id=\"T_9973e_row16_col2\" class=\"data row16 col2\" >10179</td>\n",
       "      <td id=\"T_9973e_row16_col3\" class=\"data row16 col3\" >6650001</td>\n",
       "      <td id=\"T_9973e_row16_col4\" class=\"data row16 col4\" >70582</td>\n",
       "      <td id=\"T_9973e_row16_col5\" class=\"data row16 col5\" >0.150000</td>\n",
       "      <td id=\"T_9973e_row16_col6\" class=\"data row16 col6\" >98.800000</td>\n",
       "      <td id=\"T_9973e_row16_col7\" class=\"data row16 col7\" >1.050000</td>\n",
       "      <td id=\"T_9973e_row16_col8\" class=\"data row16 col8\" >91702478</td>\n",
       "      <td id=\"T_9973e_row16_col9\" class=\"data row16 col9\" >6720583</td>\n",
       "    </tr>\n",
       "    <tr>\n",
       "      <th id=\"T_9973e_level0_row17\" class=\"row_heading level0 row17\" >17</th>\n",
       "      <td id=\"T_9973e_row17_col0\" class=\"data row17 col0\" >Ladakh</td>\n",
       "      <td id=\"T_9973e_row17_col1\" class=\"data row17 col1\" >29021</td>\n",
       "      <td id=\"T_9973e_row17_col2\" class=\"data row17 col2\" >118</td>\n",
       "      <td id=\"T_9973e_row17_col3\" class=\"data row17 col3\" >28675</td>\n",
       "      <td id=\"T_9973e_row17_col4\" class=\"data row17 col4\" >228</td>\n",
       "      <td id=\"T_9973e_row17_col5\" class=\"data row17 col5\" >0.410000</td>\n",
       "      <td id=\"T_9973e_row17_col6\" class=\"data row17 col6\" >98.810000</td>\n",
       "      <td id=\"T_9973e_row17_col7\" class=\"data row17 col7\" >0.790000</td>\n",
       "      <td id=\"T_9973e_row17_col8\" class=\"data row17 col8\" >4184959</td>\n",
       "      <td id=\"T_9973e_row17_col9\" class=\"data row17 col9\" >28903</td>\n",
       "    </tr>\n",
       "    <tr>\n",
       "      <th id=\"T_9973e_level0_row18\" class=\"row_heading level0 row18\" >18</th>\n",
       "      <td id=\"T_9973e_row18_col0\" class=\"data row18 col0\" >Lakshadweep</td>\n",
       "      <td id=\"T_9973e_row18_col1\" class=\"data row18 col1\" >11415</td>\n",
       "      <td id=\"T_9973e_row18_col2\" class=\"data row18 col2\" >0</td>\n",
       "      <td id=\"T_9973e_row18_col3\" class=\"data row18 col3\" >11363</td>\n",
       "      <td id=\"T_9973e_row18_col4\" class=\"data row18 col4\" >52</td>\n",
       "      <td id=\"T_9973e_row18_col5\" class=\"data row18 col5\" >0.000000</td>\n",
       "      <td id=\"T_9973e_row18_col6\" class=\"data row18 col6\" >99.540000</td>\n",
       "      <td id=\"T_9973e_row18_col7\" class=\"data row18 col7\" >0.460000</td>\n",
       "      <td id=\"T_9973e_row18_col8\" class=\"data row18 col8\" >11700099</td>\n",
       "      <td id=\"T_9973e_row18_col9\" class=\"data row18 col9\" >11415</td>\n",
       "    </tr>\n",
       "    <tr>\n",
       "      <th id=\"T_9973e_level0_row19\" class=\"row_heading level0 row19\" >19</th>\n",
       "      <td id=\"T_9973e_row19_col0\" class=\"data row19 col0\" >Madhya Pradesh</td>\n",
       "      <td id=\"T_9973e_row19_col1\" class=\"data row19 col1\" >1051447</td>\n",
       "      <td id=\"T_9973e_row19_col2\" class=\"data row19 col2\" >1349</td>\n",
       "      <td id=\"T_9973e_row19_col3\" class=\"data row19 col3\" >1039336</td>\n",
       "      <td id=\"T_9973e_row19_col4\" class=\"data row19 col4\" >10762</td>\n",
       "      <td id=\"T_9973e_row19_col5\" class=\"data row19 col5\" >0.130000</td>\n",
       "      <td id=\"T_9973e_row19_col6\" class=\"data row19 col6\" >98.850000</td>\n",
       "      <td id=\"T_9973e_row19_col7\" class=\"data row19 col7\" >1.020000</td>\n",
       "      <td id=\"T_9973e_row19_col8\" class=\"data row19 col8\" >7503010</td>\n",
       "      <td id=\"T_9973e_row19_col9\" class=\"data row19 col9\" >1050098</td>\n",
       "    </tr>\n",
       "    <tr>\n",
       "      <th id=\"T_9973e_level0_row20\" class=\"row_heading level0 row20\" >20</th>\n",
       "      <td id=\"T_9973e_row20_col0\" class=\"data row20 col0\" >Maharashtra</td>\n",
       "      <td id=\"T_9973e_row20_col1\" class=\"data row20 col1\" >8060737</td>\n",
       "      <td id=\"T_9973e_row20_col2\" class=\"data row20 col2\" >11968</td>\n",
       "      <td id=\"T_9973e_row20_col3\" class=\"data row20 col3\" >7900626</td>\n",
       "      <td id=\"T_9973e_row20_col4\" class=\"data row20 col4\" >148143</td>\n",
       "      <td id=\"T_9973e_row20_col5\" class=\"data row20 col5\" >0.150000</td>\n",
       "      <td id=\"T_9973e_row20_col6\" class=\"data row20 col6\" >98.010000</td>\n",
       "      <td id=\"T_9973e_row20_col7\" class=\"data row20 col7\" >1.840000</td>\n",
       "      <td id=\"T_9973e_row20_col8\" class=\"data row20 col8\" >399001</td>\n",
       "      <td id=\"T_9973e_row20_col9\" class=\"data row20 col9\" >8048769</td>\n",
       "    </tr>\n",
       "    <tr>\n",
       "      <th id=\"T_9973e_level0_row21\" class=\"row_heading level0 row21\" >21</th>\n",
       "      <td id=\"T_9973e_row21_col0\" class=\"data row21 col0\" >Manipur</td>\n",
       "      <td id=\"T_9973e_row21_col1\" class=\"data row21 col1\" >139377</td>\n",
       "      <td id=\"T_9973e_row21_col2\" class=\"data row21 col2\" >244</td>\n",
       "      <td id=\"T_9973e_row21_col3\" class=\"data row21 col3\" >136995</td>\n",
       "      <td id=\"T_9973e_row21_col4\" class=\"data row21 col4\" >2138</td>\n",
       "      <td id=\"T_9973e_row21_col5\" class=\"data row21 col5\" >0.180000</td>\n",
       "      <td id=\"T_9973e_row21_col6\" class=\"data row21 col6\" >98.290000</td>\n",
       "      <td id=\"T_9973e_row21_col7\" class=\"data row21 col7\" >1.530000</td>\n",
       "      <td id=\"T_9973e_row21_col8\" class=\"data row21 col8\" >47099270</td>\n",
       "      <td id=\"T_9973e_row21_col9\" class=\"data row21 col9\" >139133</td>\n",
       "    </tr>\n",
       "    <tr>\n",
       "      <th id=\"T_9973e_level0_row22\" class=\"row_heading level0 row22\" >22</th>\n",
       "      <td id=\"T_9973e_row22_col0\" class=\"data row22 col0\" >Meghalaya</td>\n",
       "      <td id=\"T_9973e_row22_col1\" class=\"data row22 col1\" >95925</td>\n",
       "      <td id=\"T_9973e_row22_col2\" class=\"data row22 col2\" >686</td>\n",
       "      <td id=\"T_9973e_row22_col3\" class=\"data row22 col3\" >93628</td>\n",
       "      <td id=\"T_9973e_row22_col4\" class=\"data row22 col4\" >1611</td>\n",
       "      <td id=\"T_9973e_row22_col5\" class=\"data row22 col5\" >0.720000</td>\n",
       "      <td id=\"T_9973e_row22_col6\" class=\"data row22 col6\" >97.610000</td>\n",
       "      <td id=\"T_9973e_row22_col7\" class=\"data row22 col7\" >1.680000</td>\n",
       "      <td id=\"T_9973e_row22_col8\" class=\"data row22 col8\" >79502477</td>\n",
       "      <td id=\"T_9973e_row22_col9\" class=\"data row22 col9\" >95239</td>\n",
       "    </tr>\n",
       "    <tr>\n",
       "      <th id=\"T_9973e_level0_row23\" class=\"row_heading level0 row23\" >23</th>\n",
       "      <td id=\"T_9973e_row23_col0\" class=\"data row23 col0\" >Mizoram</td>\n",
       "      <td id=\"T_9973e_row23_col1\" class=\"data row23 col1\" >234387</td>\n",
       "      <td id=\"T_9973e_row23_col2\" class=\"data row23 col2\" >1214</td>\n",
       "      <td id=\"T_9973e_row23_col3\" class=\"data row23 col3\" >232461</td>\n",
       "      <td id=\"T_9973e_row23_col4\" class=\"data row23 col4\" >712</td>\n",
       "      <td id=\"T_9973e_row23_col5\" class=\"data row23 col5\" >0.520000</td>\n",
       "      <td id=\"T_9973e_row23_col6\" class=\"data row23 col6\" >99.180000</td>\n",
       "      <td id=\"T_9973e_row23_col7\" class=\"data row23 col7\" >0.300000</td>\n",
       "      <td id=\"T_9973e_row23_col8\" class=\"data row23 col8\" >1308967</td>\n",
       "      <td id=\"T_9973e_row23_col9\" class=\"data row23 col9\" >233173</td>\n",
       "    </tr>\n",
       "    <tr>\n",
       "      <th id=\"T_9973e_level0_row24\" class=\"row_heading level0 row24\" >24</th>\n",
       "      <td id=\"T_9973e_row24_col0\" class=\"data row24 col0\" >Nagaland</td>\n",
       "      <td id=\"T_9973e_row24_col1\" class=\"data row24 col1\" >35838</td>\n",
       "      <td id=\"T_9973e_row24_col2\" class=\"data row24 col2\" >54</td>\n",
       "      <td id=\"T_9973e_row24_col3\" class=\"data row24 col3\" >35012</td>\n",
       "      <td id=\"T_9973e_row24_col4\" class=\"data row24 col4\" >772</td>\n",
       "      <td id=\"T_9973e_row24_col5\" class=\"data row24 col5\" >0.150000</td>\n",
       "      <td id=\"T_9973e_row24_col6\" class=\"data row24 col6\" >97.700000</td>\n",
       "      <td id=\"T_9973e_row24_col7\" class=\"data row24 col7\" >2.150000</td>\n",
       "      <td id=\"T_9973e_row24_col8\" class=\"data row24 col8\" >38157311</td>\n",
       "      <td id=\"T_9973e_row24_col9\" class=\"data row24 col9\" >35784</td>\n",
       "    </tr>\n",
       "    <tr>\n",
       "      <th id=\"T_9973e_level0_row25\" class=\"row_heading level0 row25\" >25</th>\n",
       "      <td id=\"T_9973e_row25_col0\" class=\"data row25 col0\" >Odisha</td>\n",
       "      <td id=\"T_9973e_row25_col1\" class=\"data row25 col1\" >1319527</td>\n",
       "      <td id=\"T_9973e_row25_col2\" class=\"data row25 col2\" >5851</td>\n",
       "      <td id=\"T_9973e_row25_col3\" class=\"data row25 col3\" >1304527</td>\n",
       "      <td id=\"T_9973e_row25_col4\" class=\"data row25 col4\" >9149</td>\n",
       "      <td id=\"T_9973e_row25_col5\" class=\"data row25 col5\" >0.440000</td>\n",
       "      <td id=\"T_9973e_row25_col6\" class=\"data row25 col6\" >98.860000</td>\n",
       "      <td id=\"T_9973e_row25_col7\" class=\"data row25 col7\" >0.690000</td>\n",
       "      <td id=\"T_9973e_row25_col8\" class=\"data row25 col8\" >19301096</td>\n",
       "      <td id=\"T_9973e_row25_col9\" class=\"data row25 col9\" >1313676</td>\n",
       "    </tr>\n",
       "    <tr>\n",
       "      <th id=\"T_9973e_level0_row26\" class=\"row_heading level0 row26\" >26</th>\n",
       "      <td id=\"T_9973e_row26_col0\" class=\"data row26 col0\" >Puducherry</td>\n",
       "      <td id=\"T_9973e_row26_col1\" class=\"data row26 col1\" >171651</td>\n",
       "      <td id=\"T_9973e_row26_col2\" class=\"data row26 col2\" >640</td>\n",
       "      <td id=\"T_9973e_row26_col3\" class=\"data row26 col3\" >169044</td>\n",
       "      <td id=\"T_9973e_row26_col4\" class=\"data row26 col4\" >1967</td>\n",
       "      <td id=\"T_9973e_row26_col5\" class=\"data row26 col5\" >0.370000</td>\n",
       "      <td id=\"T_9973e_row26_col6\" class=\"data row26 col6\" >98.480000</td>\n",
       "      <td id=\"T_9973e_row26_col7\" class=\"data row26 col7\" >1.150000</td>\n",
       "      <td id=\"T_9973e_row26_col8\" class=\"data row26 col8\" >2073074</td>\n",
       "      <td id=\"T_9973e_row26_col9\" class=\"data row26 col9\" >171011</td>\n",
       "    </tr>\n",
       "    <tr>\n",
       "      <th id=\"T_9973e_level0_row27\" class=\"row_heading level0 row27\" >27</th>\n",
       "      <td id=\"T_9973e_row27_col0\" class=\"data row27 col0\" >Punjab</td>\n",
       "      <td id=\"T_9973e_row27_col1\" class=\"data row27 col1\" >777362</td>\n",
       "      <td id=\"T_9973e_row27_col2\" class=\"data row27 col2\" >12429</td>\n",
       "      <td id=\"T_9973e_row27_col3\" class=\"data row27 col3\" >747101</td>\n",
       "      <td id=\"T_9973e_row27_col4\" class=\"data row27 col4\" >17832</td>\n",
       "      <td id=\"T_9973e_row27_col5\" class=\"data row27 col5\" >1.600000</td>\n",
       "      <td id=\"T_9973e_row27_col6\" class=\"data row27 col6\" >96.110000</td>\n",
       "      <td id=\"T_9973e_row27_col7\" class=\"data row27 col7\" >2.290000</td>\n",
       "      <td id=\"T_9973e_row27_col8\" class=\"data row27 col8\" >34698876</td>\n",
       "      <td id=\"T_9973e_row27_col9\" class=\"data row27 col9\" >764933</td>\n",
       "    </tr>\n",
       "    <tr>\n",
       "      <th id=\"T_9973e_level0_row28\" class=\"row_heading level0 row28\" >28</th>\n",
       "      <td id=\"T_9973e_row28_col0\" class=\"data row28 col0\" >Rajasthan</td>\n",
       "      <td id=\"T_9973e_row28_col1\" class=\"data row28 col1\" >1297814</td>\n",
       "      <td id=\"T_9973e_row28_col2\" class=\"data row28 col2\" >3813</td>\n",
       "      <td id=\"T_9973e_row28_col3\" class=\"data row28 col3\" >1284411</td>\n",
       "      <td id=\"T_9973e_row28_col4\" class=\"data row28 col4\" >9590</td>\n",
       "      <td id=\"T_9973e_row28_col5\" class=\"data row28 col5\" >0.290000</td>\n",
       "      <td id=\"T_9973e_row28_col6\" class=\"data row28 col6\" >98.970000</td>\n",
       "      <td id=\"T_9973e_row28_col7\" class=\"data row28 col7\" >0.740000</td>\n",
       "      <td id=\"T_9973e_row28_col8\" class=\"data row28 col8\" >1521992</td>\n",
       "      <td id=\"T_9973e_row28_col9\" class=\"data row28 col9\" >1294001</td>\n",
       "    </tr>\n",
       "    <tr>\n",
       "      <th id=\"T_9973e_level0_row29\" class=\"row_heading level0 row29\" >29</th>\n",
       "      <td id=\"T_9973e_row29_col0\" class=\"data row29 col0\" >Sikkim</td>\n",
       "      <td id=\"T_9973e_row29_col1\" class=\"data row29 col1\" >42784</td>\n",
       "      <td id=\"T_9973e_row29_col2\" class=\"data row29 col2\" >476</td>\n",
       "      <td id=\"T_9973e_row29_col3\" class=\"data row29 col3\" >41834</td>\n",
       "      <td id=\"T_9973e_row29_col4\" class=\"data row29 col4\" >474</td>\n",
       "      <td id=\"T_9973e_row29_col5\" class=\"data row29 col5\" >1.110000</td>\n",
       "      <td id=\"T_9973e_row29_col6\" class=\"data row29 col6\" >97.780000</td>\n",
       "      <td id=\"T_9973e_row29_col7\" class=\"data row29 col7\" >1.110000</td>\n",
       "      <td id=\"T_9973e_row29_col8\" class=\"data row29 col8\" >83697770</td>\n",
       "      <td id=\"T_9973e_row29_col9\" class=\"data row29 col9\" >42308</td>\n",
       "    </tr>\n",
       "    <tr>\n",
       "      <th id=\"T_9973e_level0_row30\" class=\"row_heading level0 row30\" >30</th>\n",
       "      <td id=\"T_9973e_row30_col0\" class=\"data row30 col0\" >Tamil Nadu</td>\n",
       "      <td id=\"T_9973e_row30_col1\" class=\"data row30 col1\" >3553670</td>\n",
       "      <td id=\"T_9973e_row30_col2\" class=\"data row30 col2\" >9408</td>\n",
       "      <td id=\"T_9973e_row30_col3\" class=\"data row30 col3\" >3506229</td>\n",
       "      <td id=\"T_9973e_row30_col4\" class=\"data row30 col4\" >38033</td>\n",
       "      <td id=\"T_9973e_row30_col5\" class=\"data row30 col5\" >0.260000</td>\n",
       "      <td id=\"T_9973e_row30_col6\" class=\"data row30 col6\" >98.670000</td>\n",
       "      <td id=\"T_9973e_row30_col7\" class=\"data row30 col7\" >1.070000</td>\n",
       "      <td id=\"T_9973e_row30_col8\" class=\"data row30 col8\" >35998752</td>\n",
       "      <td id=\"T_9973e_row30_col9\" class=\"data row30 col9\" >3544262</td>\n",
       "    </tr>\n",
       "    <tr>\n",
       "      <th id=\"T_9973e_level0_row31\" class=\"row_heading level0 row31\" >31</th>\n",
       "      <td id=\"T_9973e_row31_col0\" class=\"data row31 col0\" >Telengana</td>\n",
       "      <td id=\"T_9973e_row31_col1\" class=\"data row31 col1\" >826284</td>\n",
       "      <td id=\"T_9973e_row31_col2\" class=\"data row31 col2\" >5667</td>\n",
       "      <td id=\"T_9973e_row31_col3\" class=\"data row31 col3\" >816506</td>\n",
       "      <td id=\"T_9973e_row31_col4\" class=\"data row31 col4\" >4111</td>\n",
       "      <td id=\"T_9973e_row31_col5\" class=\"data row31 col5\" >0.690000</td>\n",
       "      <td id=\"T_9973e_row31_col6\" class=\"data row31 col6\" >98.820000</td>\n",
       "      <td id=\"T_9973e_row31_col7\" class=\"data row31 col7\" >0.500000</td>\n",
       "      <td id=\"T_9973e_row31_col8\" class=\"data row31 col8\" >69599762</td>\n",
       "      <td id=\"T_9973e_row31_col9\" class=\"data row31 col9\" >820617</td>\n",
       "    </tr>\n",
       "    <tr>\n",
       "      <th id=\"T_9973e_level0_row32\" class=\"row_heading level0 row32\" >32</th>\n",
       "      <td id=\"T_9973e_row32_col0\" class=\"data row32 col0\" >Tripura</td>\n",
       "      <td id=\"T_9973e_row32_col1\" class=\"data row32 col1\" >107419</td>\n",
       "      <td id=\"T_9973e_row32_col2\" class=\"data row32 col2\" >653</td>\n",
       "      <td id=\"T_9973e_row32_col3\" class=\"data row32 col3\" >105831</td>\n",
       "      <td id=\"T_9973e_row32_col4\" class=\"data row32 col4\" >935</td>\n",
       "      <td id=\"T_9973e_row32_col5\" class=\"data row32 col5\" >0.610000</td>\n",
       "      <td id=\"T_9973e_row32_col6\" class=\"data row32 col6\" >98.520000</td>\n",
       "      <td id=\"T_9973e_row32_col7\" class=\"data row32 col7\" >0.870000</td>\n",
       "      <td id=\"T_9973e_row32_col8\" class=\"data row32 col8\" >1646050</td>\n",
       "      <td id=\"T_9973e_row32_col9\" class=\"data row32 col9\" >106766</td>\n",
       "    </tr>\n",
       "    <tr>\n",
       "      <th id=\"T_9973e_level0_row33\" class=\"row_heading level0 row33\" >33</th>\n",
       "      <td id=\"T_9973e_row33_col0\" class=\"data row33 col0\" >Uttar Pradesh</td>\n",
       "      <td id=\"T_9973e_row33_col1\" class=\"data row33 col1\" >2108686</td>\n",
       "      <td id=\"T_9973e_row33_col2\" class=\"data row33 col2\" >5440</td>\n",
       "      <td id=\"T_9973e_row33_col3\" class=\"data row33 col3\" >2079670</td>\n",
       "      <td id=\"T_9973e_row33_col4\" class=\"data row33 col4\" >23576</td>\n",
       "      <td id=\"T_9973e_row33_col5\" class=\"data row33 col5\" >0.260000</td>\n",
       "      <td id=\"T_9973e_row33_col6\" class=\"data row33 col6\" >98.620000</td>\n",
       "      <td id=\"T_9973e_row33_col7\" class=\"data row33 col7\" >1.120000</td>\n",
       "      <td id=\"T_9973e_row33_col8\" class=\"data row33 col8\" >1158040</td>\n",
       "      <td id=\"T_9973e_row33_col9\" class=\"data row33 col9\" >2103246</td>\n",
       "    </tr>\n",
       "    <tr>\n",
       "      <th id=\"T_9973e_level0_row34\" class=\"row_heading level0 row34\" >34</th>\n",
       "      <td id=\"T_9973e_row34_col0\" class=\"data row34 col0\" >Uttarakhand</td>\n",
       "      <td id=\"T_9973e_row34_col1\" class=\"data row34 col1\" >445106</td>\n",
       "      <td id=\"T_9973e_row34_col2\" class=\"data row34 col2\" >2378</td>\n",
       "      <td id=\"T_9973e_row34_col3\" class=\"data row34 col3\" >435009</td>\n",
       "      <td id=\"T_9973e_row34_col4\" class=\"data row34 col4\" >7719</td>\n",
       "      <td id=\"T_9973e_row34_col5\" class=\"data row34 col5\" >0.530000</td>\n",
       "      <td id=\"T_9973e_row34_col6\" class=\"data row34 col6\" >97.730000</td>\n",
       "      <td id=\"T_9973e_row34_col7\" class=\"data row34 col7\" >1.730000</td>\n",
       "      <td id=\"T_9973e_row34_col8\" class=\"data row34 col8\" >85002417</td>\n",
       "      <td id=\"T_9973e_row34_col9\" class=\"data row34 col9\" >442728</td>\n",
       "    </tr>\n",
       "    <tr>\n",
       "      <th id=\"T_9973e_level0_row35\" class=\"row_heading level0 row35\" >35</th>\n",
       "      <td id=\"T_9973e_row35_col0\" class=\"data row35 col0\" >West Bengal</td>\n",
       "      <td id=\"T_9973e_row35_col1\" class=\"data row35 col1\" >2099433</td>\n",
       "      <td id=\"T_9973e_row35_col2\" class=\"data row35 col2\" >7302</td>\n",
       "      <td id=\"T_9973e_row35_col3\" class=\"data row35 col3\" >2070731</td>\n",
       "      <td id=\"T_9973e_row35_col4\" class=\"data row35 col4\" >21400</td>\n",
       "      <td id=\"T_9973e_row35_col5\" class=\"data row35 col5\" >0.350000</td>\n",
       "      <td id=\"T_9973e_row35_col6\" class=\"data row35 col6\" >98.630000</td>\n",
       "      <td id=\"T_9973e_row35_col7\" class=\"data row35 col7\" >1.020000</td>\n",
       "      <td id=\"T_9973e_row35_col8\" class=\"data row35 col8\" >32199722</td>\n",
       "      <td id=\"T_9973e_row35_col9\" class=\"data row35 col9\" >2092131</td>\n",
       "    </tr>\n",
       "  </tbody>\n",
       "</table>\n"
      ],
      "text/plain": [
       "<pandas.io.formats.style.Styler at 0x204be1891f0>"
      ]
     },
     "execution_count": 14,
     "metadata": {},
     "output_type": "execute_result"
    }
   ],
   "source": [
    "df.style.background_gradient(cmap='Reds')"
   ]
  },
  {
   "cell_type": "code",
   "execution_count": 15,
   "id": "05f0eb09",
   "metadata": {},
   "outputs": [],
   "source": [
    "Total_Active=df.groupby('State/UTs')['Active'].sum().sort_values(ascending=False).to_frame()"
   ]
  },
  {
   "cell_type": "code",
   "execution_count": 16,
   "id": "4fab6a71",
   "metadata": {},
   "outputs": [
    {
     "data": {
      "text/html": [
       "<div>\n",
       "<style scoped>\n",
       "    .dataframe tbody tr th:only-of-type {\n",
       "        vertical-align: middle;\n",
       "    }\n",
       "\n",
       "    .dataframe tbody tr th {\n",
       "        vertical-align: top;\n",
       "    }\n",
       "\n",
       "    .dataframe thead th {\n",
       "        text-align: right;\n",
       "    }\n",
       "</style>\n",
       "<table border=\"1\" class=\"dataframe\">\n",
       "  <thead>\n",
       "    <tr style=\"text-align: right;\">\n",
       "      <th></th>\n",
       "      <th>Active</th>\n",
       "    </tr>\n",
       "    <tr>\n",
       "      <th>State/UTs</th>\n",
       "      <th></th>\n",
       "    </tr>\n",
       "  </thead>\n",
       "  <tbody>\n",
       "    <tr>\n",
       "      <th>Punjab</th>\n",
       "      <td>12429</td>\n",
       "    </tr>\n",
       "    <tr>\n",
       "      <th>Maharashtra</th>\n",
       "      <td>11968</td>\n",
       "    </tr>\n",
       "    <tr>\n",
       "      <th>Karnataka</th>\n",
       "      <td>11252</td>\n",
       "    </tr>\n",
       "    <tr>\n",
       "      <th>Kerala</th>\n",
       "      <td>10179</td>\n",
       "    </tr>\n",
       "    <tr>\n",
       "      <th>Tamil Nadu</th>\n",
       "      <td>9408</td>\n",
       "    </tr>\n",
       "    <tr>\n",
       "      <th>Delhi</th>\n",
       "      <td>7484</td>\n",
       "    </tr>\n",
       "    <tr>\n",
       "      <th>West Bengal</th>\n",
       "      <td>7302</td>\n",
       "    </tr>\n",
       "    <tr>\n",
       "      <th>Gujarat</th>\n",
       "      <td>5862</td>\n",
       "    </tr>\n",
       "    <tr>\n",
       "      <th>Odisha</th>\n",
       "      <td>5851</td>\n",
       "    </tr>\n",
       "    <tr>\n",
       "      <th>Telengana</th>\n",
       "      <td>5667</td>\n",
       "    </tr>\n",
       "    <tr>\n",
       "      <th>Uttar Pradesh</th>\n",
       "      <td>5440</td>\n",
       "    </tr>\n",
       "    <tr>\n",
       "      <th>Jammu and Kashmir</th>\n",
       "      <td>5045</td>\n",
       "    </tr>\n",
       "    <tr>\n",
       "      <th>Himachal Pradesh</th>\n",
       "      <td>4919</td>\n",
       "    </tr>\n",
       "    <tr>\n",
       "      <th>Haryana</th>\n",
       "      <td>4598</td>\n",
       "    </tr>\n",
       "    <tr>\n",
       "      <th>Assam</th>\n",
       "      <td>4006</td>\n",
       "    </tr>\n",
       "    <tr>\n",
       "      <th>Rajasthan</th>\n",
       "      <td>3813</td>\n",
       "    </tr>\n",
       "    <tr>\n",
       "      <th>Chhattisgarh</th>\n",
       "      <td>3282</td>\n",
       "    </tr>\n",
       "    <tr>\n",
       "      <th>Uttarakhand</th>\n",
       "      <td>2378</td>\n",
       "    </tr>\n",
       "    <tr>\n",
       "      <th>Andhra Pradesh</th>\n",
       "      <td>1453</td>\n",
       "    </tr>\n",
       "    <tr>\n",
       "      <th>Madhya Pradesh</th>\n",
       "      <td>1349</td>\n",
       "    </tr>\n",
       "    <tr>\n",
       "      <th>Mizoram</th>\n",
       "      <td>1214</td>\n",
       "    </tr>\n",
       "    <tr>\n",
       "      <th>Goa</th>\n",
       "      <td>1046</td>\n",
       "    </tr>\n",
       "    <tr>\n",
       "      <th>Bihar</th>\n",
       "      <td>1024</td>\n",
       "    </tr>\n",
       "    <tr>\n",
       "      <th>Jharkhand</th>\n",
       "      <td>837</td>\n",
       "    </tr>\n",
       "    <tr>\n",
       "      <th>Chandigarh</th>\n",
       "      <td>772</td>\n",
       "    </tr>\n",
       "    <tr>\n",
       "      <th>Meghalaya</th>\n",
       "      <td>686</td>\n",
       "    </tr>\n",
       "    <tr>\n",
       "      <th>Tripura</th>\n",
       "      <td>653</td>\n",
       "    </tr>\n",
       "    <tr>\n",
       "      <th>Puducherry</th>\n",
       "      <td>640</td>\n",
       "    </tr>\n",
       "    <tr>\n",
       "      <th>Sikkim</th>\n",
       "      <td>476</td>\n",
       "    </tr>\n",
       "    <tr>\n",
       "      <th>Arunachal Pradesh</th>\n",
       "      <td>295</td>\n",
       "    </tr>\n",
       "    <tr>\n",
       "      <th>Manipur</th>\n",
       "      <td>244</td>\n",
       "    </tr>\n",
       "    <tr>\n",
       "      <th>Ladakh</th>\n",
       "      <td>118</td>\n",
       "    </tr>\n",
       "    <tr>\n",
       "      <th>Nagaland</th>\n",
       "      <td>54</td>\n",
       "    </tr>\n",
       "    <tr>\n",
       "      <th>Andaman and Nicobar</th>\n",
       "      <td>40</td>\n",
       "    </tr>\n",
       "    <tr>\n",
       "      <th>Dadra and Nagar Haveli and Daman and Diu</th>\n",
       "      <td>23</td>\n",
       "    </tr>\n",
       "    <tr>\n",
       "      <th>Lakshadweep</th>\n",
       "      <td>0</td>\n",
       "    </tr>\n",
       "  </tbody>\n",
       "</table>\n",
       "</div>"
      ],
      "text/plain": [
       "                                          Active\n",
       "State/UTs                                       \n",
       "Punjab                                     12429\n",
       "Maharashtra                                11968\n",
       "Karnataka                                  11252\n",
       "Kerala                                     10179\n",
       "Tamil Nadu                                  9408\n",
       "Delhi                                       7484\n",
       "West Bengal                                 7302\n",
       "Gujarat                                     5862\n",
       "Odisha                                      5851\n",
       "Telengana                                   5667\n",
       "Uttar Pradesh                               5440\n",
       "Jammu and Kashmir                           5045\n",
       "Himachal Pradesh                            4919\n",
       "Haryana                                     4598\n",
       "Assam                                       4006\n",
       "Rajasthan                                   3813\n",
       "Chhattisgarh                                3282\n",
       "Uttarakhand                                 2378\n",
       "Andhra Pradesh                              1453\n",
       "Madhya Pradesh                              1349\n",
       "Mizoram                                     1214\n",
       "Goa                                         1046\n",
       "Bihar                                       1024\n",
       "Jharkhand                                    837\n",
       "Chandigarh                                   772\n",
       "Meghalaya                                    686\n",
       "Tripura                                      653\n",
       "Puducherry                                   640\n",
       "Sikkim                                       476\n",
       "Arunachal Pradesh                            295\n",
       "Manipur                                      244\n",
       "Ladakh                                       118\n",
       "Nagaland                                      54\n",
       "Andaman and Nicobar                           40\n",
       "Dadra and Nagar Haveli and Daman and Diu      23\n",
       "Lakshadweep                                    0"
      ]
     },
     "execution_count": 16,
     "metadata": {},
     "output_type": "execute_result"
    }
   ],
   "source": [
    "Total_Active"
   ]
  },
  {
   "cell_type": "code",
   "execution_count": 17,
   "id": "8443c110",
   "metadata": {},
   "outputs": [
    {
     "data": {
      "text/html": [
       "<style type=\"text/css\">\n",
       "#T_6a996_row0_col0 {\n",
       "  background-color: #67000d;\n",
       "  color: #f1f1f1;\n",
       "}\n",
       "#T_6a996_row1_col0 {\n",
       "  background-color: #79040f;\n",
       "  color: #f1f1f1;\n",
       "}\n",
       "#T_6a996_row2_col0 {\n",
       "  background-color: #960b13;\n",
       "  color: #f1f1f1;\n",
       "}\n",
       "#T_6a996_row3_col0 {\n",
       "  background-color: #b61319;\n",
       "  color: #f1f1f1;\n",
       "}\n",
       "#T_6a996_row4_col0 {\n",
       "  background-color: #c9181d;\n",
       "  color: #f1f1f1;\n",
       "}\n",
       "#T_6a996_row5_col0 {\n",
       "  background-color: #f14331;\n",
       "  color: #f1f1f1;\n",
       "}\n",
       "#T_6a996_row6_col0 {\n",
       "  background-color: #f34935;\n",
       "  color: #f1f1f1;\n",
       "}\n",
       "#T_6a996_row7_col0, #T_6a996_row8_col0 {\n",
       "  background-color: #fb7353;\n",
       "  color: #f1f1f1;\n",
       "}\n",
       "#T_6a996_row9_col0 {\n",
       "  background-color: #fb7858;\n",
       "  color: #f1f1f1;\n",
       "}\n",
       "#T_6a996_row10_col0 {\n",
       "  background-color: #fb7d5d;\n",
       "  color: #f1f1f1;\n",
       "}\n",
       "#T_6a996_row11_col0 {\n",
       "  background-color: #fc8969;\n",
       "  color: #f1f1f1;\n",
       "}\n",
       "#T_6a996_row12_col0 {\n",
       "  background-color: #fc8b6b;\n",
       "  color: #f1f1f1;\n",
       "}\n",
       "#T_6a996_row13_col0 {\n",
       "  background-color: #fc9474;\n",
       "  color: #000000;\n",
       "}\n",
       "#T_6a996_row14_col0 {\n",
       "  background-color: #fca486;\n",
       "  color: #000000;\n",
       "}\n",
       "#T_6a996_row15_col0 {\n",
       "  background-color: #fca98c;\n",
       "  color: #000000;\n",
       "}\n",
       "#T_6a996_row16_col0 {\n",
       "  background-color: #fcb79c;\n",
       "  color: #000000;\n",
       "}\n",
       "#T_6a996_row17_col0 {\n",
       "  background-color: #fdcdb9;\n",
       "  color: #000000;\n",
       "}\n",
       "#T_6a996_row18_col0 {\n",
       "  background-color: #fee2d5;\n",
       "  color: #000000;\n",
       "}\n",
       "#T_6a996_row19_col0 {\n",
       "  background-color: #fee3d7;\n",
       "  color: #000000;\n",
       "}\n",
       "#T_6a996_row20_col0 {\n",
       "  background-color: #fee5d8;\n",
       "  color: #000000;\n",
       "}\n",
       "#T_6a996_row21_col0, #T_6a996_row22_col0 {\n",
       "  background-color: #fee7dc;\n",
       "  color: #000000;\n",
       "}\n",
       "#T_6a996_row23_col0 {\n",
       "  background-color: #feeae0;\n",
       "  color: #000000;\n",
       "}\n",
       "#T_6a996_row24_col0 {\n",
       "  background-color: #ffebe2;\n",
       "  color: #000000;\n",
       "}\n",
       "#T_6a996_row25_col0 {\n",
       "  background-color: #ffece3;\n",
       "  color: #000000;\n",
       "}\n",
       "#T_6a996_row26_col0, #T_6a996_row27_col0 {\n",
       "  background-color: #ffece4;\n",
       "  color: #000000;\n",
       "}\n",
       "#T_6a996_row28_col0 {\n",
       "  background-color: #ffefe8;\n",
       "  color: #000000;\n",
       "}\n",
       "#T_6a996_row29_col0 {\n",
       "  background-color: #fff1ea;\n",
       "  color: #000000;\n",
       "}\n",
       "#T_6a996_row30_col0 {\n",
       "  background-color: #fff2eb;\n",
       "  color: #000000;\n",
       "}\n",
       "#T_6a996_row31_col0 {\n",
       "  background-color: #fff4ee;\n",
       "  color: #000000;\n",
       "}\n",
       "#T_6a996_row32_col0 {\n",
       "  background-color: #fff4ef;\n",
       "  color: #000000;\n",
       "}\n",
       "#T_6a996_row33_col0, #T_6a996_row34_col0, #T_6a996_row35_col0 {\n",
       "  background-color: #fff5f0;\n",
       "  color: #000000;\n",
       "}\n",
       "</style>\n",
       "<table id=\"T_6a996\">\n",
       "  <thead>\n",
       "    <tr>\n",
       "      <th class=\"blank level0\" >&nbsp;</th>\n",
       "      <th id=\"T_6a996_level0_col0\" class=\"col_heading level0 col0\" >Active</th>\n",
       "    </tr>\n",
       "    <tr>\n",
       "      <th class=\"index_name level0\" >State/UTs</th>\n",
       "      <th class=\"blank col0\" >&nbsp;</th>\n",
       "    </tr>\n",
       "  </thead>\n",
       "  <tbody>\n",
       "    <tr>\n",
       "      <th id=\"T_6a996_level0_row0\" class=\"row_heading level0 row0\" >Punjab</th>\n",
       "      <td id=\"T_6a996_row0_col0\" class=\"data row0 col0\" >12429</td>\n",
       "    </tr>\n",
       "    <tr>\n",
       "      <th id=\"T_6a996_level0_row1\" class=\"row_heading level0 row1\" >Maharashtra</th>\n",
       "      <td id=\"T_6a996_row1_col0\" class=\"data row1 col0\" >11968</td>\n",
       "    </tr>\n",
       "    <tr>\n",
       "      <th id=\"T_6a996_level0_row2\" class=\"row_heading level0 row2\" >Karnataka</th>\n",
       "      <td id=\"T_6a996_row2_col0\" class=\"data row2 col0\" >11252</td>\n",
       "    </tr>\n",
       "    <tr>\n",
       "      <th id=\"T_6a996_level0_row3\" class=\"row_heading level0 row3\" >Kerala</th>\n",
       "      <td id=\"T_6a996_row3_col0\" class=\"data row3 col0\" >10179</td>\n",
       "    </tr>\n",
       "    <tr>\n",
       "      <th id=\"T_6a996_level0_row4\" class=\"row_heading level0 row4\" >Tamil Nadu</th>\n",
       "      <td id=\"T_6a996_row4_col0\" class=\"data row4 col0\" >9408</td>\n",
       "    </tr>\n",
       "    <tr>\n",
       "      <th id=\"T_6a996_level0_row5\" class=\"row_heading level0 row5\" >Delhi</th>\n",
       "      <td id=\"T_6a996_row5_col0\" class=\"data row5 col0\" >7484</td>\n",
       "    </tr>\n",
       "    <tr>\n",
       "      <th id=\"T_6a996_level0_row6\" class=\"row_heading level0 row6\" >West Bengal</th>\n",
       "      <td id=\"T_6a996_row6_col0\" class=\"data row6 col0\" >7302</td>\n",
       "    </tr>\n",
       "    <tr>\n",
       "      <th id=\"T_6a996_level0_row7\" class=\"row_heading level0 row7\" >Gujarat</th>\n",
       "      <td id=\"T_6a996_row7_col0\" class=\"data row7 col0\" >5862</td>\n",
       "    </tr>\n",
       "    <tr>\n",
       "      <th id=\"T_6a996_level0_row8\" class=\"row_heading level0 row8\" >Odisha</th>\n",
       "      <td id=\"T_6a996_row8_col0\" class=\"data row8 col0\" >5851</td>\n",
       "    </tr>\n",
       "    <tr>\n",
       "      <th id=\"T_6a996_level0_row9\" class=\"row_heading level0 row9\" >Telengana</th>\n",
       "      <td id=\"T_6a996_row9_col0\" class=\"data row9 col0\" >5667</td>\n",
       "    </tr>\n",
       "    <tr>\n",
       "      <th id=\"T_6a996_level0_row10\" class=\"row_heading level0 row10\" >Uttar Pradesh</th>\n",
       "      <td id=\"T_6a996_row10_col0\" class=\"data row10 col0\" >5440</td>\n",
       "    </tr>\n",
       "    <tr>\n",
       "      <th id=\"T_6a996_level0_row11\" class=\"row_heading level0 row11\" >Jammu and Kashmir</th>\n",
       "      <td id=\"T_6a996_row11_col0\" class=\"data row11 col0\" >5045</td>\n",
       "    </tr>\n",
       "    <tr>\n",
       "      <th id=\"T_6a996_level0_row12\" class=\"row_heading level0 row12\" >Himachal Pradesh</th>\n",
       "      <td id=\"T_6a996_row12_col0\" class=\"data row12 col0\" >4919</td>\n",
       "    </tr>\n",
       "    <tr>\n",
       "      <th id=\"T_6a996_level0_row13\" class=\"row_heading level0 row13\" >Haryana</th>\n",
       "      <td id=\"T_6a996_row13_col0\" class=\"data row13 col0\" >4598</td>\n",
       "    </tr>\n",
       "    <tr>\n",
       "      <th id=\"T_6a996_level0_row14\" class=\"row_heading level0 row14\" >Assam</th>\n",
       "      <td id=\"T_6a996_row14_col0\" class=\"data row14 col0\" >4006</td>\n",
       "    </tr>\n",
       "    <tr>\n",
       "      <th id=\"T_6a996_level0_row15\" class=\"row_heading level0 row15\" >Rajasthan</th>\n",
       "      <td id=\"T_6a996_row15_col0\" class=\"data row15 col0\" >3813</td>\n",
       "    </tr>\n",
       "    <tr>\n",
       "      <th id=\"T_6a996_level0_row16\" class=\"row_heading level0 row16\" >Chhattisgarh</th>\n",
       "      <td id=\"T_6a996_row16_col0\" class=\"data row16 col0\" >3282</td>\n",
       "    </tr>\n",
       "    <tr>\n",
       "      <th id=\"T_6a996_level0_row17\" class=\"row_heading level0 row17\" >Uttarakhand</th>\n",
       "      <td id=\"T_6a996_row17_col0\" class=\"data row17 col0\" >2378</td>\n",
       "    </tr>\n",
       "    <tr>\n",
       "      <th id=\"T_6a996_level0_row18\" class=\"row_heading level0 row18\" >Andhra Pradesh</th>\n",
       "      <td id=\"T_6a996_row18_col0\" class=\"data row18 col0\" >1453</td>\n",
       "    </tr>\n",
       "    <tr>\n",
       "      <th id=\"T_6a996_level0_row19\" class=\"row_heading level0 row19\" >Madhya Pradesh</th>\n",
       "      <td id=\"T_6a996_row19_col0\" class=\"data row19 col0\" >1349</td>\n",
       "    </tr>\n",
       "    <tr>\n",
       "      <th id=\"T_6a996_level0_row20\" class=\"row_heading level0 row20\" >Mizoram</th>\n",
       "      <td id=\"T_6a996_row20_col0\" class=\"data row20 col0\" >1214</td>\n",
       "    </tr>\n",
       "    <tr>\n",
       "      <th id=\"T_6a996_level0_row21\" class=\"row_heading level0 row21\" >Goa</th>\n",
       "      <td id=\"T_6a996_row21_col0\" class=\"data row21 col0\" >1046</td>\n",
       "    </tr>\n",
       "    <tr>\n",
       "      <th id=\"T_6a996_level0_row22\" class=\"row_heading level0 row22\" >Bihar</th>\n",
       "      <td id=\"T_6a996_row22_col0\" class=\"data row22 col0\" >1024</td>\n",
       "    </tr>\n",
       "    <tr>\n",
       "      <th id=\"T_6a996_level0_row23\" class=\"row_heading level0 row23\" >Jharkhand</th>\n",
       "      <td id=\"T_6a996_row23_col0\" class=\"data row23 col0\" >837</td>\n",
       "    </tr>\n",
       "    <tr>\n",
       "      <th id=\"T_6a996_level0_row24\" class=\"row_heading level0 row24\" >Chandigarh</th>\n",
       "      <td id=\"T_6a996_row24_col0\" class=\"data row24 col0\" >772</td>\n",
       "    </tr>\n",
       "    <tr>\n",
       "      <th id=\"T_6a996_level0_row25\" class=\"row_heading level0 row25\" >Meghalaya</th>\n",
       "      <td id=\"T_6a996_row25_col0\" class=\"data row25 col0\" >686</td>\n",
       "    </tr>\n",
       "    <tr>\n",
       "      <th id=\"T_6a996_level0_row26\" class=\"row_heading level0 row26\" >Tripura</th>\n",
       "      <td id=\"T_6a996_row26_col0\" class=\"data row26 col0\" >653</td>\n",
       "    </tr>\n",
       "    <tr>\n",
       "      <th id=\"T_6a996_level0_row27\" class=\"row_heading level0 row27\" >Puducherry</th>\n",
       "      <td id=\"T_6a996_row27_col0\" class=\"data row27 col0\" >640</td>\n",
       "    </tr>\n",
       "    <tr>\n",
       "      <th id=\"T_6a996_level0_row28\" class=\"row_heading level0 row28\" >Sikkim</th>\n",
       "      <td id=\"T_6a996_row28_col0\" class=\"data row28 col0\" >476</td>\n",
       "    </tr>\n",
       "    <tr>\n",
       "      <th id=\"T_6a996_level0_row29\" class=\"row_heading level0 row29\" >Arunachal Pradesh</th>\n",
       "      <td id=\"T_6a996_row29_col0\" class=\"data row29 col0\" >295</td>\n",
       "    </tr>\n",
       "    <tr>\n",
       "      <th id=\"T_6a996_level0_row30\" class=\"row_heading level0 row30\" >Manipur</th>\n",
       "      <td id=\"T_6a996_row30_col0\" class=\"data row30 col0\" >244</td>\n",
       "    </tr>\n",
       "    <tr>\n",
       "      <th id=\"T_6a996_level0_row31\" class=\"row_heading level0 row31\" >Ladakh</th>\n",
       "      <td id=\"T_6a996_row31_col0\" class=\"data row31 col0\" >118</td>\n",
       "    </tr>\n",
       "    <tr>\n",
       "      <th id=\"T_6a996_level0_row32\" class=\"row_heading level0 row32\" >Nagaland</th>\n",
       "      <td id=\"T_6a996_row32_col0\" class=\"data row32 col0\" >54</td>\n",
       "    </tr>\n",
       "    <tr>\n",
       "      <th id=\"T_6a996_level0_row33\" class=\"row_heading level0 row33\" >Andaman and Nicobar</th>\n",
       "      <td id=\"T_6a996_row33_col0\" class=\"data row33 col0\" >40</td>\n",
       "    </tr>\n",
       "    <tr>\n",
       "      <th id=\"T_6a996_level0_row34\" class=\"row_heading level0 row34\" >Dadra and Nagar Haveli and Daman and Diu</th>\n",
       "      <td id=\"T_6a996_row34_col0\" class=\"data row34 col0\" >23</td>\n",
       "    </tr>\n",
       "    <tr>\n",
       "      <th id=\"T_6a996_level0_row35\" class=\"row_heading level0 row35\" >Lakshadweep</th>\n",
       "      <td id=\"T_6a996_row35_col0\" class=\"data row35 col0\" >0</td>\n",
       "    </tr>\n",
       "  </tbody>\n",
       "</table>\n"
      ],
      "text/plain": [
       "<pandas.io.formats.style.Styler at 0x204be1b21f0>"
      ]
     },
     "execution_count": 17,
     "metadata": {},
     "output_type": "execute_result"
    }
   ],
   "source": [
    "Total_Active.style.background_gradient(cmap='Reds')"
   ]
  },
  {
   "cell_type": "code",
   "execution_count": 18,
   "id": "bf2af3b1",
   "metadata": {},
   "outputs": [],
   "source": [
    "#######################GRAPHICAL REPRESENTATION"
   ]
  },
  {
   "cell_type": "code",
   "execution_count": 19,
   "id": "3a2cee2b",
   "metadata": {},
   "outputs": [
    {
     "data": {
      "image/png": "[encoded data removed]",
      "text/plain": [
       "<Figure size 1224x1080 with 1 Axes>"
      ]
     },
     "metadata": {
      "needs_background": "light"
     },
     "output_type": "display_data"
    },
    {
     "data": {
      "application/vnd.plotly.v1+json": {
       "config": {
        "linkText": "Export to plot.ly",
        "plotlyServerURL": "https://plot.ly",
        "showLink": true
       },
       "data": [
        {
         "marker": {
          "color": "rgba(255, 153, 51, 0.6)",
          "line": {
           "color": "rgba(255, 153, 51, 1.0)",
           "width": 1
          }
         },
         "name": "Total Cases",
         "orientation": "v",
         "text": "",
         "type": "bar",
         "x": [
          "Andaman and Nicobar",
          "Andhra Pradesh",
          "Arunachal Pradesh",
          "Assam",
          "Bihar",
          "Chandigarh",
          "Chhattisgarh",
          "Dadra and Nagar Haveli and Daman and Diu",
          "Delhi",
          "Goa",
          "Gujarat",
          "Haryana",
          "Himachal Pradesh",
          "Jammu and Kashmir",
          "Jharkhand",
          "Karnataka",
          "Kerala",
          "Ladakh",
          "Lakshadweep",
          "Madhya Pradesh",
          "Maharashtra",
          "Manipur",
          "Meghalaya",
          "Mizoram",
          "Nagaland",
          "Odisha",
          "Puducherry",
          "Punjab",
          "Rajasthan",
          "Sikkim",
          "Tamil Nadu",
          "Telengana",
          "Tripura",
          "Uttar Pradesh",
          "Uttarakhand",
          "West Bengal"
         ],
         "y": [
          10502,
          2333710,
          66246,
          741541,
          844997,
          97442,
          1169532,
          11557,
          1970899,
          253162,
          1261922,
          1036795,
          305383,
          470201,
          441010,
          4021106,
          6730762,
          29021,
          11415,
          1051447,
          8060737,
          139377,
          95925,
          234387,
          35838,
          1319527,
          171651,
          777362,
          1297814,
          42784,
          3553670,
          826284,
          107419,
          2108686,
          445106,
          2099433
         ]
        }
       ],
       "layout": {
        "legend": {
         "bgcolor": "#F5F6F9",
         "font": {
          "color": "#4D5663"
         }
        },
        "paper_bgcolor": "#F5F6F9",
        "plot_bgcolor": "#F5F6F9",
        "template": {
         "data": {
          "bar": [
           {
            "error_x": {
             "color": "#2a3f5f"
            },
            "error_y": {
             "color": "#2a3f5f"
            },
            "marker": {
             "line": {
              "color": "#E5ECF6",
              "width": 0.5
             },
             "pattern": {
              "fillmode": "overlay",
              "size": 10,
              "solidity": 0.2
             }
            },
            "type": "bar"
           }
          ],
          "barpolar": [
           {
            "marker": {
             "line": {
              "color": "#E5ECF6",
              "width": 0.5
             },
             "pattern": {
              "fillmode": "overlay",
              "size": 10,
              "solidity": 0.2
             }
            },
            "type": "barpolar"
           }
          ],
          "carpet": [
           {
            "aaxis": {
             "endlinecolor": "#2a3f5f",
             "gridcolor": "white",
             "linecolor": "white",
             "minorgridcolor": "white",
             "startlinecolor": "#2a3f5f"
            },
            "baxis": {
             "endlinecolor": "#2a3f5f",
             "gridcolor": "white",
             "linecolor": "white",
             "minorgridcolor": "white",
             "startlinecolor": "#2a3f5f"
            },
            "type": "carpet"
           }
          ],
          "choropleth": [
           {
            "colorbar": {
             "outlinewidth": 0,
             "ticks": ""
            },
            "type": "choropleth"
           }
          ],
          "contour": [
           {
            "colorbar": {
             "outlinewidth": 0,
             "ticks": ""
            },
            "colorscale": [
             [
              0,
              "#0d0887"
             ],
             [
              0.1111111111111111,
              "#46039f"
             ],
             [
              0.2222222222222222,
              "#7201a8"
             ],
             [
              0.3333333333333333,
              "#9c179e"
             ],
             [
              0.4444444444444444,
              "#bd3786"
             ],
             [
              0.5555555555555556,
              "#d8576b"
             ],
             [
              0.6666666666666666,
              "#ed7953"
             ],
             [
              0.7777777777777778,
              "#fb9f3a"
             ],
             [
              0.8888888888888888,
              "#fdca26"
             ],
             [
              1,
              "#f0f921"
             ]
            ],
            "type": "contour"
           }
          ],
          "contourcarpet": [
           {
            "colorbar": {
             "outlinewidth": 0,
             "ticks": ""
            },
            "type": "contourcarpet"
           }
          ],
          "heatmap": [
           {
            "colorbar": {
             "outlinewidth": 0,
             "ticks": ""
            },
            "colorscale": [
             [
              0,
              "#0d0887"
             ],
             [
              0.1111111111111111,
              "#46039f"
             ],
             [
              0.2222222222222222,
              "#7201a8"
             ],
             [
              0.3333333333333333,
              "#9c179e"
             ],
             [
              0.4444444444444444,
              "#bd3786"
             ],
             [
              0.5555555555555556,
              "#d8576b"
             ],
             [
              0.6666666666666666,
              "#ed7953"
             ],
             [
              0.7777777777777778,
              "#fb9f3a"
             ],
             [
              0.8888888888888888,
              "#fdca26"
             ],
             [
              1,
              "#f0f921"
             ]
            ],
            "type": "heatmap"
           }
          ],
          "heatmapgl": [
           {
            "colorbar": {
             "outlinewidth": 0,
             "ticks": ""
            },
            "colorscale": [
             [
              0,
              "#0d0887"
             ],
             [
              0.1111111111111111,
              "#46039f"
             ],
             [
              0.2222222222222222,
              "#7201a8"
             ],
             [
              0.3333333333333333,
              "#9c179e"
             ],
             [
              0.4444444444444444,
              "#bd3786"
             ],
             [
              0.5555555555555556,
              "#d8576b"
             ],
             [
              0.6666666666666666,
              "#ed7953"
             ],
             [
              0.7777777777777778,
              "#fb9f3a"
             ],
             [
              0.8888888888888888,
              "#fdca26"
             ],
             [
              1,
              "#f0f921"
             ]
            ],
            "type": "heatmapgl"
           }
          ],
          "histogram": [
           {
            "marker": {
             "pattern": {
              "fillmode": "overlay",
              "size": 10,
              "solidity": 0.2
             }
            },
            "type": "histogram"
           }
          ],
          "histogram2d": [
           {
            "colorbar": {
             "outlinewidth": 0,
             "ticks": ""
            },
            "colorscale": [
             [
              0,
              "#0d0887"
             ],
             [
              0.1111111111111111,
              "#46039f"
             ],
             [
              0.2222222222222222,
              "#7201a8"
             ],
             [
              0.3333333333333333,
              "#9c179e"
             ],
             [
              0.4444444444444444,
              "#bd3786"
             ],
             [
              0.5555555555555556,
              "#d8576b"
             ],
             [
              0.6666666666666666,
              "#ed7953"
             ],
             [
              0.7777777777777778,
              "#fb9f3a"
             ],
             [
              0.8888888888888888,
              "#fdca26"
             ],
             [
              1,
              "#f0f921"
             ]
            ],
            "type": "histogram2d"
           }
          ],
          "histogram2dcontour": [
           {
            "colorbar": {
             "outlinewidth": 0,
             "ticks": ""
            },
            "colorscale": [
             [
              0,
              "#0d0887"
             ],
             [
              0.1111111111111111,
              "#46039f"
             ],
             [
              0.2222222222222222,
              "#7201a8"
             ],
             [
              0.3333333333333333,
              "#9c179e"
             ],
             [
              0.4444444444444444,
              "#bd3786"
             ],
             [
              0.5555555555555556,
              "#d8576b"
             ],
             [
              0.6666666666666666,
              "#ed7953"
             ],
             [
              0.7777777777777778,
              "#fb9f3a"
             ],
             [
              0.8888888888888888,
              "#fdca26"
             ],
             [
              1,
              "#f0f921"
             ]
            ],
            "type": "histogram2dcontour"
           }
          ],
          "mesh3d": [
           {
            "colorbar": {
             "outlinewidth": 0,
             "ticks": ""
            },
            "type": "mesh3d"
           }
          ],
          "parcoords": [
           {
            "line": {
             "colorbar": {
              "outlinewidth": 0,
              "ticks": ""
             }
            },
            "type": "parcoords"
           }
          ],
          "pie": [
           {
            "automargin": true,
            "type": "pie"
           }
          ],
          "scatter": [
           {
            "marker": {
             "colorbar": {
              "outlinewidth": 0,
              "ticks": ""
             }
            },
            "type": "scatter"
           }
          ],
          "scatter3d": [
           {
            "line": {
             "colorbar": {
              "outlinewidth": 0,
              "ticks": ""
             }
            },
            "marker": {
             "colorbar": {
              "outlinewidth": 0,
              "ticks": ""
             }
            },
            "type": "scatter3d"
           }
          ],
          "scattercarpet": [
           {
            "marker": {
             "colorbar": {
              "outlinewidth": 0,
              "ticks": ""
             }
            },
            "type": "scattercarpet"
           }
          ],
          "scattergeo": [
           {
            "marker": {
             "colorbar": {
              "outlinewidth": 0,
              "ticks": ""
             }
            },
            "type": "scattergeo"
           }
          ],
          "scattergl": [
           {
            "marker": {
             "colorbar": {
              "outlinewidth": 0,
              "ticks": ""
             }
            },
            "type": "scattergl"
           }
          ],
          "scattermapbox": [
           {
            "marker": {
             "colorbar": {
              "outlinewidth": 0,
              "ticks": ""
             }
            },
            "type": "scattermapbox"
           }
          ],
          "scatterpolar": [
           {
            "marker": {
             "colorbar": {
              "outlinewidth": 0,
              "ticks": ""
             }
            },
            "type": "scatterpolar"
           }
          ],
          "scatterpolargl": [
           {
            "marker": {
             "colorbar": {
              "outlinewidth": 0,
              "ticks": ""
             }
            },
            "type": "scatterpolargl"
           }
          ],
          "scatterternary": [
           {
            "marker": {
             "colorbar": {
              "outlinewidth": 0,
              "ticks": ""
             }
            },
            "type": "scatterternary"
           }
          ],
          "surface": [
           {
            "colorbar": {
             "outlinewidth": 0,
             "ticks": ""
            },
            "colorscale": [
             [
              0,
              "#0d0887"
             ],
             [
              0.1111111111111111,
              "#46039f"
             ],
             [
              0.2222222222222222,
              "#7201a8"
             ],
             [
              0.3333333333333333,
              "#9c179e"
             ],
             [
              0.4444444444444444,
              "#bd3786"
             ],
             [
              0.5555555555555556,
              "#d8576b"
             ],
             [
              0.6666666666666666,
              "#ed7953"
             ],
             [
              0.7777777777777778,
              "#fb9f3a"
             ],
             [
              0.8888888888888888,
              "#fdca26"
             ],
             [
              1,
              "#f0f921"
             ]
            ],
            "type": "surface"
           }
          ],
          "table": [
           {
            "cells": {
             "fill": {
              "color": "#EBF0F8"
             },
             "line": {
              "color": "white"
             }
            },
            "header": {
             "fill": {
              "color": "#C8D4E3"
             },
             "line": {
              "color": "white"
             }
            },
            "type": "table"
           }
          ]
         },
         "layout": {
          "annotationdefaults": {
           "arrowcolor": "#2a3f5f",
           "arrowhead": 0,
           "arrowwidth": 1
          },
          "autotypenumbers": "strict",
          "coloraxis": {
           "colorbar": {
            "outlinewidth": 0,
            "ticks": ""
           }
          },
          "colorscale": {
           "diverging": [
            [
             0,
             "#8e0152"
            ],
            [
             0.1,
             "#c51b7d"
            ],
            [
             0.2,
             "#de77ae"
            ],
            [
             0.3,
             "#f1b6da"
            ],
            [
             0.4,
             "#fde0ef"
            ],
            [
             0.5,
             "#f7f7f7"
            ],
            [
             0.6,
             "#e6f5d0"
            ],
            [
             0.7,
             "#b8e186"
            ],
            [
             0.8,
             "#7fbc41"
            ],
            [
             0.9,
             "#4d9221"
            ],
            [
             1,
             "#276419"
            ]
           ],
           "sequential": [
            [
             0,
             "#0d0887"
            ],
            [
             0.1111111111111111,
             "#46039f"
            ],
            [
             0.2222222222222222,
             "#7201a8"
            ],
            [
             0.3333333333333333,
             "#9c179e"
            ],
            [
             0.4444444444444444,
             "#bd3786"
            ],
            [
             0.5555555555555556,
             "#d8576b"
            ],
            [
             0.6666666666666666,
             "#ed7953"
            ],
            [
             0.7777777777777778,
             "#fb9f3a"
            ],
            [
             0.8888888888888888,
             "#fdca26"
            ],
            [
             1,
             "#f0f921"
            ]
           ],
           "sequentialminus": [
            [
             0,
             "#0d0887"
            ],
            [
             0.1111111111111111,
             "#46039f"
            ],
            [
             0.2222222222222222,
             "#7201a8"
            ],
            [
             0.3333333333333333,
             "#9c179e"
            ],
            [
             0.4444444444444444,
             "#bd3786"
            ],
            [
             0.5555555555555556,
             "#d8576b"
            ],
            [
             0.6666666666666666,
             "#ed7953"
            ],
            [
             0.7777777777777778,
             "#fb9f3a"
            ],
            [
             0.8888888888888888,
             "#fdca26"
            ],
            [
             1,
             "#f0f921"
            ]
           ]
          },
          "colorway": [
           "#636efa",
           "#EF553B",
           "#00cc96",
           "#ab63fa",
           "#FFA15A",
           "#19d3f3",
           "#FF6692",
           "#B6E880",
           "#FF97FF",
           "#FECB52"
          ],
          "font": {
           "color": "#2a3f5f"
          },
          "geo": {
           "bgcolor": "white",
           "lakecolor": "white",
           "landcolor": "#E5ECF6",
           "showlakes": true,
           "showland": true,
           "subunitcolor": "white"
          },
          "hoverlabel": {
           "align": "left"
          },
          "hovermode": "closest",
          "mapbox": {
           "style": "light"
          },
          "paper_bgcolor": "white",
          "plot_bgcolor": "#E5ECF6",
          "polar": {
           "angularaxis": {
            "gridcolor": "white",
            "linecolor": "white",
            "ticks": ""
           },
           "bgcolor": "#E5ECF6",
           "radialaxis": {
            "gridcolor": "white",
            "linecolor": "white",
            "ticks": ""
           }
          },
          "scene": {
           "xaxis": {
            "backgroundcolor": "#E5ECF6",
            "gridcolor": "white",
            "gridwidth": 2,
            "linecolor": "white",
            "showbackground": true,
            "ticks": "",
            "zerolinecolor": "white"
           },
           "yaxis": {
            "backgroundcolor": "#E5ECF6",
            "gridcolor": "white",
            "gridwidth": 2,
            "linecolor": "white",
            "showbackground": true,
            "ticks": "",
            "zerolinecolor": "white"
           },
           "zaxis": {
            "backgroundcolor": "#E5ECF6",
            "gridcolor": "white",
            "gridwidth": 2,
            "linecolor": "white",
            "showbackground": true,
            "ticks": "",
            "zerolinecolor": "white"
           }
          },
          "shapedefaults": {
           "line": {
            "color": "#2a3f5f"
           }
          },
          "ternary": {
           "aaxis": {
            "gridcolor": "white",
            "linecolor": "white",
            "ticks": ""
           },
           "baxis": {
            "gridcolor": "white",
            "linecolor": "white",
            "ticks": ""
           },
           "bgcolor": "#E5ECF6",
           "caxis": {
            "gridcolor": "white",
            "linecolor": "white",
            "ticks": ""
           }
          },
          "title": {
           "x": 0.05
          },
          "xaxis": {
           "automargin": true,
           "gridcolor": "white",
           "linecolor": "white",
           "ticks": "",
           "title": {
            "standoff": 15
           },
           "zerolinecolor": "white",
           "zerolinewidth": 2
          },
          "yaxis": {
           "automargin": true,
           "gridcolor": "white",
           "linecolor": "white",
           "ticks": "",
           "title": {
            "standoff": 15
           },
           "zerolinecolor": "white",
           "zerolinewidth": 2
          }
         }
        },
        "title": {
         "font": {
          "color": "#4D5663"
         }
        },
        "xaxis": {
         "gridcolor": "#E1E5ED",
         "showgrid": true,
         "tickfont": {
          "color": "#4D5663"
         },
         "title": {
          "font": {
           "color": "#4D5663"
          },
          "text": ""
         },
         "zerolinecolor": "#E1E5ED"
        },
        "yaxis": {
         "gridcolor": "#E1E5ED",
         "showgrid": true,
         "tickfont": {
          "color": "#4D5663"
         },
         "title": {
          "font": {
           "color": "#4D5663"
          },
          "text": ""
         },
         "zerolinecolor": "#E1E5ED"
        }
       }
      },
      "text/html": [
       "<div>                            <div id=\"704ad7cf-4bfd-43ae-83b4-0c0161bada1b\" class=\"plotly-graph-div\" style=\"height:525px; width:100%;\"></div>            <script type=\"text/javascript\">                require([\"plotly\"], function(Plotly) {                    window.PLOTLYENV=window.PLOTLYENV || {};\n",
       "                    window.PLOTLYENV.BASE_URL='https://plot.ly';                                    if (document.getElementById(\"704ad7cf-4bfd-43ae-83b4-0c0161bada1b\")) {                    Plotly.newPlot(                        \"704ad7cf-4bfd-43ae-83b4-0c0161bada1b\",                        [{\"marker\":{\"color\":\"rgba(255, 153, 51, 0.6)\",\"line\":{\"color\":\"rgba(255, 153, 51, 1.0)\",\"width\":1}},\"name\":\"Total Cases\",\"orientation\":\"v\",\"text\":\"\",\"x\":[\"Andaman and Nicobar\",\"Andhra Pradesh\",\"Arunachal Pradesh\",\"Assam\",\"Bihar\",\"Chandigarh\",\"Chhattisgarh\",\"Dadra and Nagar Haveli and Daman and Diu\",\"Delhi\",\"Goa\",\"Gujarat\",\"Haryana\",\"Himachal Pradesh\",\"Jammu and Kashmir\",\"Jharkhand\",\"Karnataka\",\"Kerala\",\"Ladakh\",\"Lakshadweep\",\"Madhya Pradesh\",\"Maharashtra\",\"Manipur\",\"Meghalaya\",\"Mizoram\",\"Nagaland\",\"Odisha\",\"Puducherry\",\"Punjab\",\"Rajasthan\",\"Sikkim\",\"Tamil Nadu\",\"Telengana\",\"Tripura\",\"Uttar Pradesh\",\"Uttarakhand\",\"West Bengal\"],\"y\":[10502,2333710,66246,741541,844997,97442,1169532,11557,1970899,253162,1261922,1036795,305383,470201,441010,4021106,6730762,29021,11415,1051447,8060737,139377,95925,234387,35838,1319527,171651,777362,1297814,42784,3553670,826284,107419,2108686,445106,2099433],\"type\":\"bar\"}],                        {\"legend\":{\"bgcolor\":\"#F5F6F9\",\"font\":{\"color\":\"#4D5663\"}},\"paper_bgcolor\":\"#F5F6F9\",\"plot_bgcolor\":\"#F5F6F9\",\"template\":{\"data\":{\"barpolar\":[{\"marker\":{\"line\":{\"color\":\"#E5ECF6\",\"width\":0.5},\"pattern\":{\"fillmode\":\"overlay\",\"size\":10,\"solidity\":0.2}},\"type\":\"barpolar\"}],\"bar\":[{\"error_x\":{\"color\":\"#2a3f5f\"},\"error_y\":{\"color\":\"#2a3f5f\"},\"marker\":{\"line\":{\"color\":\"#E5ECF6\",\"width\":0.5},\"pattern\":{\"fillmode\":\"overlay\",\"size\":10,\"solidity\":0.2}},\"type\":\"bar\"}],\"carpet\":[{\"aaxis\":{\"endlinecolor\":\"#2a3f5f\",\"gridcolor\":\"white\",\"linecolor\":\"white\",\"minorgridcolor\":\"white\",\"startlinecolor\":\"#2a3f5f\"},\"baxis\":{\"endlinecolor\":\"#2a3f5f\",\"gridcolor\":\"white\",\"linecolor\":\"white\",\"minorgridcolor\":\"white\",\"startlinecolor\":\"#2a3f5f\"},\"type\":\"carpet\"}],\"choropleth\":[{\"colorbar\":{\"outlinewidth\":0,\"ticks\":\"\"},\"type\":\"choropleth\"}],\"contourcarpet\":[{\"colorbar\":{\"outlinewidth\":0,\"ticks\":\"\"},\"type\":\"contourcarpet\"}],\"contour\":[{\"colorbar\":{\"outlinewidth\":0,\"ticks\":\"\"},\"colorscale\":[[0.0,\"#0d0887\"],[0.1111111111111111,\"#46039f\"],[0.2222222222222222,\"#7201a8\"],[0.3333333333333333,\"#9c179e\"],[0.4444444444444444,\"#bd3786\"],[0.5555555555555556,\"#d8576b\"],[0.6666666666666666,\"#ed7953\"],[0.7777777777777778,\"#fb9f3a\"],[0.8888888888888888,\"#fdca26\"],[1.0,\"#f0f921\"]],\"type\":\"contour\"}],\"heatmapgl\":[{\"colorbar\":{\"outlinewidth\":0,\"ticks\":\"\"},\"colorscale\":[[0.0,\"#0d0887\"],[0.1111111111111111,\"#46039f\"],[0.2222222222222222,\"#7201a8\"],[0.3333333333333333,\"#9c179e\"],[0.4444444444444444,\"#bd3786\"],[0.5555555555555556,\"#d8576b\"],[0.6666666666666666,\"#ed7953\"],[0.7777777777777778,\"#fb9f3a\"],[0.8888888888888888,\"#fdca26\"],[1.0,\"#f0f921\"]],\"type\":\"heatmapgl\"}],\"heatmap\":[{\"colorbar\":{\"outlinewidth\":0,\"ticks\":\"\"},\"colorscale\":[[0.0,\"#0d0887\"],[0.1111111111111111,\"#46039f\"],[0.2222222222222222,\"#7201a8\"],[0.3333333333333333,\"#9c179e\"],[0.4444444444444444,\"#bd3786\"],[0.5555555555555556,\"#d8576b\"],[0.6666666666666666,\"#ed7953\"],[0.7777777777777778,\"#fb9f3a\"],[0.8888888888888888,\"#fdca26\"],[1.0,\"#f0f921\"]],\"type\":\"heatmap\"}],\"histogram2dcontour\":[{\"colorbar\":{\"outlinewidth\":0,\"ticks\":\"\"},\"colorscale\":[[0.0,\"#0d0887\"],[0.1111111111111111,\"#46039f\"],[0.2222222222222222,\"#7201a8\"],[0.3333333333333333,\"#9c179e\"],[0.4444444444444444,\"#bd3786\"],[0.5555555555555556,\"#d8576b\"],[0.6666666666666666,\"#ed7953\"],[0.7777777777777778,\"#fb9f3a\"],[0.8888888888888888,\"#fdca26\"],[1.0,\"#f0f921\"]],\"type\":\"histogram2dcontour\"}],\"histogram2d\":[{\"colorbar\":{\"outlinewidth\":0,\"ticks\":\"\"},\"colorscale\":[[0.0,\"#0d0887\"],[0.1111111111111111,\"#46039f\"],[0.2222222222222222,\"#7201a8\"],[0.3333333333333333,\"#9c179e\"],[0.4444444444444444,\"#bd3786\"],[0.5555555555555556,\"#d8576b\"],[0.6666666666666666,\"#ed7953\"],[0.7777777777777778,\"#fb9f3a\"],[0.8888888888888888,\"#fdca26\"],[1.0,\"#f0f921\"]],\"type\":\"histogram2d\"}],\"histogram\":[{\"marker\":{\"pattern\":{\"fillmode\":\"overlay\",\"size\":10,\"solidity\":0.2}},\"type\":\"histogram\"}],\"mesh3d\":[{\"colorbar\":{\"outlinewidth\":0,\"ticks\":\"\"},\"type\":\"mesh3d\"}],\"parcoords\":[{\"line\":{\"colorbar\":{\"outlinewidth\":0,\"ticks\":\"\"}},\"type\":\"parcoords\"}],\"pie\":[{\"automargin\":true,\"type\":\"pie\"}],\"scatter3d\":[{\"line\":{\"colorbar\":{\"outlinewidth\":0,\"ticks\":\"\"}},\"marker\":{\"colorbar\":{\"outlinewidth\":0,\"ticks\":\"\"}},\"type\":\"scatter3d\"}],\"scattercarpet\":[{\"marker\":{\"colorbar\":{\"outlinewidth\":0,\"ticks\":\"\"}},\"type\":\"scattercarpet\"}],\"scattergeo\":[{\"marker\":{\"colorbar\":{\"outlinewidth\":0,\"ticks\":\"\"}},\"type\":\"scattergeo\"}],\"scattergl\":[{\"marker\":{\"colorbar\":{\"outlinewidth\":0,\"ticks\":\"\"}},\"type\":\"scattergl\"}],\"scattermapbox\":[{\"marker\":{\"colorbar\":{\"outlinewidth\":0,\"ticks\":\"\"}},\"type\":\"scattermapbox\"}],\"scatterpolargl\":[{\"marker\":{\"colorbar\":{\"outlinewidth\":0,\"ticks\":\"\"}},\"type\":\"scatterpolargl\"}],\"scatterpolar\":[{\"marker\":{\"colorbar\":{\"outlinewidth\":0,\"ticks\":\"\"}},\"type\":\"scatterpolar\"}],\"scatter\":[{\"marker\":{\"colorbar\":{\"outlinewidth\":0,\"ticks\":\"\"}},\"type\":\"scatter\"}],\"scatterternary\":[{\"marker\":{\"colorbar\":{\"outlinewidth\":0,\"ticks\":\"\"}},\"type\":\"scatterternary\"}],\"surface\":[{\"colorbar\":{\"outlinewidth\":0,\"ticks\":\"\"},\"colorscale\":[[0.0,\"#0d0887\"],[0.1111111111111111,\"#46039f\"],[0.2222222222222222,\"#7201a8\"],[0.3333333333333333,\"#9c179e\"],[0.4444444444444444,\"#bd3786\"],[0.5555555555555556,\"#d8576b\"],[0.6666666666666666,\"#ed7953\"],[0.7777777777777778,\"#fb9f3a\"],[0.8888888888888888,\"#fdca26\"],[1.0,\"#f0f921\"]],\"type\":\"surface\"}],\"table\":[{\"cells\":{\"fill\":{\"color\":\"#EBF0F8\"},\"line\":{\"color\":\"white\"}},\"header\":{\"fill\":{\"color\":\"#C8D4E3\"},\"line\":{\"color\":\"white\"}},\"type\":\"table\"}]},\"layout\":{\"annotationdefaults\":{\"arrowcolor\":\"#2a3f5f\",\"arrowhead\":0,\"arrowwidth\":1},\"autotypenumbers\":\"strict\",\"coloraxis\":{\"colorbar\":{\"outlinewidth\":0,\"ticks\":\"\"}},\"colorscale\":{\"diverging\":[[0,\"#8e0152\"],[0.1,\"#c51b7d\"],[0.2,\"#de77ae\"],[0.3,\"#f1b6da\"],[0.4,\"#fde0ef\"],[0.5,\"#f7f7f7\"],[0.6,\"#e6f5d0\"],[0.7,\"#b8e186\"],[0.8,\"#7fbc41\"],[0.9,\"#4d9221\"],[1,\"#276419\"]],\"sequential\":[[0.0,\"#0d0887\"],[0.1111111111111111,\"#46039f\"],[0.2222222222222222,\"#7201a8\"],[0.3333333333333333,\"#9c179e\"],[0.4444444444444444,\"#bd3786\"],[0.5555555555555556,\"#d8576b\"],[0.6666666666666666,\"#ed7953\"],[0.7777777777777778,\"#fb9f3a\"],[0.8888888888888888,\"#fdca26\"],[1.0,\"#f0f921\"]],\"sequentialminus\":[[0.0,\"#0d0887\"],[0.1111111111111111,\"#46039f\"],[0.2222222222222222,\"#7201a8\"],[0.3333333333333333,\"#9c179e\"],[0.4444444444444444,\"#bd3786\"],[0.5555555555555556,\"#d8576b\"],[0.6666666666666666,\"#ed7953\"],[0.7777777777777778,\"#fb9f3a\"],[0.8888888888888888,\"#fdca26\"],[1.0,\"#f0f921\"]]},\"colorway\":[\"#636efa\",\"#EF553B\",\"#00cc96\",\"#ab63fa\",\"#FFA15A\",\"#19d3f3\",\"#FF6692\",\"#B6E880\",\"#FF97FF\",\"#FECB52\"],\"font\":{\"color\":\"#2a3f5f\"},\"geo\":{\"bgcolor\":\"white\",\"lakecolor\":\"white\",\"landcolor\":\"#E5ECF6\",\"showlakes\":true,\"showland\":true,\"subunitcolor\":\"white\"},\"hoverlabel\":{\"align\":\"left\"},\"hovermode\":\"closest\",\"mapbox\":{\"style\":\"light\"},\"paper_bgcolor\":\"white\",\"plot_bgcolor\":\"#E5ECF6\",\"polar\":{\"angularaxis\":{\"gridcolor\":\"white\",\"linecolor\":\"white\",\"ticks\":\"\"},\"bgcolor\":\"#E5ECF6\",\"radialaxis\":{\"gridcolor\":\"white\",\"linecolor\":\"white\",\"ticks\":\"\"}},\"scene\":{\"xaxis\":{\"backgroundcolor\":\"#E5ECF6\",\"gridcolor\":\"white\",\"gridwidth\":2,\"linecolor\":\"white\",\"showbackground\":true,\"ticks\":\"\",\"zerolinecolor\":\"white\"},\"yaxis\":{\"backgroundcolor\":\"#E5ECF6\",\"gridcolor\":\"white\",\"gridwidth\":2,\"linecolor\":\"white\",\"showbackground\":true,\"ticks\":\"\",\"zerolinecolor\":\"white\"},\"zaxis\":{\"backgroundcolor\":\"#E5ECF6\",\"gridcolor\":\"white\",\"gridwidth\":2,\"linecolor\":\"white\",\"showbackground\":true,\"ticks\":\"\",\"zerolinecolor\":\"white\"}},\"shapedefaults\":{\"line\":{\"color\":\"#2a3f5f\"}},\"ternary\":{\"aaxis\":{\"gridcolor\":\"white\",\"linecolor\":\"white\",\"ticks\":\"\"},\"baxis\":{\"gridcolor\":\"white\",\"linecolor\":\"white\",\"ticks\":\"\"},\"bgcolor\":\"#E5ECF6\",\"caxis\":{\"gridcolor\":\"white\",\"linecolor\":\"white\",\"ticks\":\"\"}},\"title\":{\"x\":0.05},\"xaxis\":{\"automargin\":true,\"gridcolor\":\"white\",\"linecolor\":\"white\",\"ticks\":\"\",\"title\":{\"standoff\":15},\"zerolinecolor\":\"white\",\"zerolinewidth\":2},\"yaxis\":{\"automargin\":true,\"gridcolor\":\"white\",\"linecolor\":\"white\",\"ticks\":\"\",\"title\":{\"standoff\":15},\"zerolinecolor\":\"white\",\"zerolinewidth\":2}}},\"title\":{\"font\":{\"color\":\"#4D5663\"}},\"xaxis\":{\"gridcolor\":\"#E1E5ED\",\"showgrid\":true,\"tickfont\":{\"color\":\"#4D5663\"},\"title\":{\"font\":{\"color\":\"#4D5663\"},\"text\":\"\"},\"zerolinecolor\":\"#E1E5ED\"},\"yaxis\":{\"gridcolor\":\"#E1E5ED\",\"showgrid\":true,\"tickfont\":{\"color\":\"#4D5663\"},\"title\":{\"font\":{\"color\":\"#4D5663\"},\"text\":\"\"},\"zerolinecolor\":\"#E1E5ED\"}},                        {\"showLink\": true, \"linkText\": \"Export to plot.ly\", \"plotlyServerURL\": \"https://plot.ly\", \"responsive\": true}                    ).then(function(){\n",
       "                            \n",
       "var gd = document.getElementById('704ad7cf-4bfd-43ae-83b4-0c0161bada1b');\n",
       "var x = new MutationObserver(function (mutations, observer) {{\n",
       "        var display = window.getComputedStyle(gd).display;\n",
       "        if (!display || display === 'none') {{\n",
       "            console.log([gd, 'removed!']);\n",
       "            Plotly.purge(gd);\n",
       "            observer.disconnect();\n",
       "        }}\n",
       "}});\n",
       "\n",
       "// Listen for the removal of the full notebook cells\n",
       "var notebookContainer = gd.closest('#notebook-container');\n",
       "if (notebookContainer) {{\n",
       "    x.observe(notebookContainer, {childList: true});\n",
       "}}\n",
       "\n",
       "// Listen for the clearing of the current output cell\n",
       "var outputEl = gd.closest('.output');\n",
       "if (outputEl) {{\n",
       "    x.observe(outputEl, {childList: true});\n",
       "}}\n",
       "\n",
       "                        })                };                });            </script>        </div>"
      ]
     },
     "metadata": {},
     "output_type": "display_data"
    }
   ],
   "source": [
    "######PANDAS VIS\n",
    "df.plot(kind='bar',x='State/UTs',y='Total Cases')\n",
    "plt.show()\n",
    "#####plotly\n",
    "df.iplot(kind='bar',x='State/UTs',y='Total Cases')"
   ]
  },
  {
   "cell_type": "code",
   "execution_count": 20,
   "id": "c94a1f07",
   "metadata": {},
   "outputs": [
    {
     "data": {
      "text/plain": [
       "<BarContainer object of 36 artists>"
      ]
     },
     "execution_count": 20,
     "metadata": {},
     "output_type": "execute_result"
    },
    {
     "data": {
      "image/png": "[encoded data removed]",
      "text/plain": [
       "<Figure size 1224x1080 with 1 Axes>"
      ]
     },
     "metadata": {
      "needs_background": "light"
     },
     "output_type": "display_data"
    }
   ],
   "source": [
    "############MATPLOTLIB VIS\n",
    "\n",
    "plt.bar(df['State/UTs'],df['Total Cases']) "
   ]
  },
  {
   "cell_type": "code",
   "execution_count": 21,
   "id": "da004bdc",
   "metadata": {},
   "outputs": [],
   "source": [
    "###WE NEED OBJECT ORIENTED METHOD FOR ANY TYPE OF VIS CODE "
   ]
  },
  {
   "cell_type": "code",
   "execution_count": null,
   "id": "8735870c",
   "metadata": {},
   "outputs": [],
   "source": []
  },
  {
   "cell_type": "code",
   "execution_count": 22,
   "id": "c350a39f",
   "metadata": {},
   "outputs": [
    {
     "data": {
      "application/vnd.plotly.v1+json": {
       "config": {
        "plotlyServerURL": "https://plot.ly"
       },
       "data": [
        {
         "alignmentgroup": "True",
         "hovertemplate": "State/UTs=%{x}<br>Total Cases=%{y}<extra></extra>",
         "legendgroup": "",
         "marker": {
          "color": "#636efa",
          "pattern": {
           "shape": ""
          }
         },
         "name": "",
         "offsetgroup": "",
         "orientation": "v",
         "showlegend": false,
         "textposition": "auto",
         "type": "bar",
         "x": [
          "Andaman and Nicobar",
          "Andhra Pradesh",
          "Arunachal Pradesh",
          "Assam",
          "Bihar",
          "Chandigarh",
          "Chhattisgarh",
          "Dadra and Nagar Haveli and Daman and Diu",
          "Delhi",
          "Goa",
          "Gujarat",
          "Haryana",
          "Himachal Pradesh",
          "Jammu and Kashmir",
          "Jharkhand",
          "Karnataka",
          "Kerala",
          "Ladakh",
          "Lakshadweep",
          "Madhya Pradesh",
          "Maharashtra",
          "Manipur",
          "Meghalaya",
          "Mizoram",
          "Nagaland",
          "Odisha",
          "Puducherry",
          "Punjab",
          "Rajasthan",
          "Sikkim",
          "Tamil Nadu",
          "Telengana",
          "Tripura",
          "Uttar Pradesh",
          "Uttarakhand",
          "West Bengal"
         ],
         "xaxis": "x",
         "y": [
          10502,
          2333710,
          66246,
          741541,
          844997,
          97442,
          1169532,
          11557,
          1970899,
          253162,
          1261922,
          1036795,
          305383,
          470201,
          441010,
          4021106,
          6730762,
          29021,
          11415,
          1051447,
          8060737,
          139377,
          95925,
          234387,
          35838,
          1319527,
          171651,
          777362,
          1297814,
          42784,
          3553670,
          826284,
          107419,
          2108686,
          445106,
          2099433
         ],
         "yaxis": "y"
        }
       ],
       "layout": {
        "barmode": "relative",
        "legend": {
         "tracegroupgap": 0
        },
        "margin": {
         "t": 60
        },
        "template": {
         "data": {
          "bar": [
           {
            "error_x": {
             "color": "#2a3f5f"
            },
            "error_y": {
             "color": "#2a3f5f"
            },
            "marker": {
             "line": {
              "color": "#E5ECF6",
              "width": 0.5
             },
             "pattern": {
              "fillmode": "overlay",
              "size": 10,
              "solidity": 0.2
             }
            },
            "type": "bar"
           }
          ],
          "barpolar": [
           {
            "marker": {
             "line": {
              "color": "#E5ECF6",
              "width": 0.5
             },
             "pattern": {
              "fillmode": "overlay",
              "size": 10,
              "solidity": 0.2
             }
            },
            "type": "barpolar"
           }
          ],
          "carpet": [
           {
            "aaxis": {
             "endlinecolor": "#2a3f5f",
             "gridcolor": "white",
             "linecolor": "white",
             "minorgridcolor": "white",
             "startlinecolor": "#2a3f5f"
            },
            "baxis": {
             "endlinecolor": "#2a3f5f",
             "gridcolor": "white",
             "linecolor": "white",
             "minorgridcolor": "white",
             "startlinecolor": "#2a3f5f"
            },
            "type": "carpet"
           }
          ],
          "choropleth": [
           {
            "colorbar": {
             "outlinewidth": 0,
             "ticks": ""
            },
            "type": "choropleth"
           }
          ],
          "contour": [
           {
            "colorbar": {
             "outlinewidth": 0,
             "ticks": ""
            },
            "colorscale": [
             [
              0,
              "#0d0887"
             ],
             [
              0.1111111111111111,
              "#46039f"
             ],
             [
              0.2222222222222222,
              "#7201a8"
             ],
             [
              0.3333333333333333,
              "#9c179e"
             ],
             [
              0.4444444444444444,
              "#bd3786"
             ],
             [
              0.5555555555555556,
              "#d8576b"
             ],
             [
              0.6666666666666666,
              "#ed7953"
             ],
             [
              0.7777777777777778,
              "#fb9f3a"
             ],
             [
              0.8888888888888888,
              "#fdca26"
             ],
             [
              1,
              "#f0f921"
             ]
            ],
            "type": "contour"
           }
          ],
          "contourcarpet": [
           {
            "colorbar": {
             "outlinewidth": 0,
             "ticks": ""
            },
            "type": "contourcarpet"
           }
          ],
          "heatmap": [
           {
            "colorbar": {
             "outlinewidth": 0,
             "ticks": ""
            },
            "colorscale": [
             [
              0,
              "#0d0887"
             ],
             [
              0.1111111111111111,
              "#46039f"
             ],
             [
              0.2222222222222222,
              "#7201a8"
             ],
             [
              0.3333333333333333,
              "#9c179e"
             ],
             [
              0.4444444444444444,
              "#bd3786"
             ],
             [
              0.5555555555555556,
              "#d8576b"
             ],
             [
              0.6666666666666666,
              "#ed7953"
             ],
             [
              0.7777777777777778,
              "#fb9f3a"
             ],
             [
              0.8888888888888888,
              "#fdca26"
             ],
             [
              1,
              "#f0f921"
             ]
            ],
            "type": "heatmap"
           }
          ],
          "heatmapgl": [
           {
            "colorbar": {
             "outlinewidth": 0,
             "ticks": ""
            },
            "colorscale": [
             [
              0,
              "#0d0887"
             ],
             [
              0.1111111111111111,
              "#46039f"
             ],
             [
              0.2222222222222222,
              "#7201a8"
             ],
             [
              0.3333333333333333,
              "#9c179e"
             ],
             [
              0.4444444444444444,
              "#bd3786"
             ],
             [
              0.5555555555555556,
              "#d8576b"
             ],
             [
              0.6666666666666666,
              "#ed7953"
             ],
             [
              0.7777777777777778,
              "#fb9f3a"
             ],
             [
              0.8888888888888888,
              "#fdca26"
             ],
             [
              1,
              "#f0f921"
             ]
            ],
            "type": "heatmapgl"
           }
          ],
          "histogram": [
           {
            "marker": {
             "pattern": {
              "fillmode": "overlay",
              "size": 10,
              "solidity": 0.2
             }
            },
            "type": "histogram"
           }
          ],
          "histogram2d": [
           {
            "colorbar": {
             "outlinewidth": 0,
             "ticks": ""
            },
            "colorscale": [
             [
              0,
              "#0d0887"
             ],
             [
              0.1111111111111111,
              "#46039f"
             ],
             [
              0.2222222222222222,
              "#7201a8"
             ],
             [
              0.3333333333333333,
              "#9c179e"
             ],
             [
              0.4444444444444444,
              "#bd3786"
             ],
             [
              0.5555555555555556,
              "#d8576b"
             ],
             [
              0.6666666666666666,
              "#ed7953"
             ],
             [
              0.7777777777777778,
              "#fb9f3a"
             ],
             [
              0.8888888888888888,
              "#fdca26"
             ],
             [
              1,
              "#f0f921"
             ]
            ],
            "type": "histogram2d"
           }
          ],
          "histogram2dcontour": [
           {
            "colorbar": {
             "outlinewidth": 0,
             "ticks": ""
            },
            "colorscale": [
             [
              0,
              "#0d0887"
             ],
             [
              0.1111111111111111,
              "#46039f"
             ],
             [
              0.2222222222222222,
              "#7201a8"
             ],
             [
              0.3333333333333333,
              "#9c179e"
             ],
             [
              0.4444444444444444,
              "#bd3786"
             ],
             [
              0.5555555555555556,
              "#d8576b"
             ],
             [
              0.6666666666666666,
              "#ed7953"
             ],
             [
              0.7777777777777778,
              "#fb9f3a"
             ],
             [
              0.8888888888888888,
              "#fdca26"
             ],
             [
              1,
              "#f0f921"
             ]
            ],
            "type": "histogram2dcontour"
           }
          ],
          "mesh3d": [
           {
            "colorbar": {
             "outlinewidth": 0,
             "ticks": ""
            },
            "type": "mesh3d"
           }
          ],
          "parcoords": [
           {
            "line": {
             "colorbar": {
              "outlinewidth": 0,
              "ticks": ""
             }
            },
            "type": "parcoords"
           }
          ],
          "pie": [
           {
            "automargin": true,
            "type": "pie"
           }
          ],
          "scatter": [
           {
            "marker": {
             "colorbar": {
              "outlinewidth": 0,
              "ticks": ""
             }
            },
            "type": "scatter"
           }
          ],
          "scatter3d": [
           {
            "line": {
             "colorbar": {
              "outlinewidth": 0,
              "ticks": ""
             }
            },
            "marker": {
             "colorbar": {
              "outlinewidth": 0,
              "ticks": ""
             }
            },
            "type": "scatter3d"
           }
          ],
          "scattercarpet": [
           {
            "marker": {
             "colorbar": {
              "outlinewidth": 0,
              "ticks": ""
             }
            },
            "type": "scattercarpet"
           }
          ],
          "scattergeo": [
           {
            "marker": {
             "colorbar": {
              "outlinewidth": 0,
              "ticks": ""
             }
            },
            "type": "scattergeo"
           }
          ],
          "scattergl": [
           {
            "marker": {
             "colorbar": {
              "outlinewidth": 0,
              "ticks": ""
             }
            },
            "type": "scattergl"
           }
          ],
          "scattermapbox": [
           {
            "marker": {
             "colorbar": {
              "outlinewidth": 0,
              "ticks": ""
             }
            },
            "type": "scattermapbox"
           }
          ],
          "scatterpolar": [
           {
            "marker": {
             "colorbar": {
              "outlinewidth": 0,
              "ticks": ""
             }
            },
            "type": "scatterpolar"
           }
          ],
          "scatterpolargl": [
           {
            "marker": {
             "colorbar": {
              "outlinewidth": 0,
              "ticks": ""
             }
            },
            "type": "scatterpolargl"
           }
          ],
          "scatterternary": [
           {
            "marker": {
             "colorbar": {
              "outlinewidth": 0,
              "ticks": ""
             }
            },
            "type": "scatterternary"
           }
          ],
          "surface": [
           {
            "colorbar": {
             "outlinewidth": 0,
             "ticks": ""
            },
            "colorscale": [
             [
              0,
              "#0d0887"
             ],
             [
              0.1111111111111111,
              "#46039f"
             ],
             [
              0.2222222222222222,
              "#7201a8"
             ],
             [
              0.3333333333333333,
              "#9c179e"
             ],
             [
              0.4444444444444444,
              "#bd3786"
             ],
             [
              0.5555555555555556,
              "#d8576b"
             ],
             [
              0.6666666666666666,
              "#ed7953"
             ],
             [
              0.7777777777777778,
              "#fb9f3a"
             ],
             [
              0.8888888888888888,
              "#fdca26"
             ],
             [
              1,
              "#f0f921"
             ]
            ],
            "type": "surface"
           }
          ],
          "table": [
           {
            "cells": {
             "fill": {
              "color": "#EBF0F8"
             },
             "line": {
              "color": "white"
             }
            },
            "header": {
             "fill": {
              "color": "#C8D4E3"
             },
             "line": {
              "color": "white"
             }
            },
            "type": "table"
           }
          ]
         },
         "layout": {
          "annotationdefaults": {
           "arrowcolor": "#2a3f5f",
           "arrowhead": 0,
           "arrowwidth": 1
          },
          "autotypenumbers": "strict",
          "coloraxis": {
           "colorbar": {
            "outlinewidth": 0,
            "ticks": ""
           }
          },
          "colorscale": {
           "diverging": [
            [
             0,
             "#8e0152"
            ],
            [
             0.1,
             "#c51b7d"
            ],
            [
             0.2,
             "#de77ae"
            ],
            [
             0.3,
             "#f1b6da"
            ],
            [
             0.4,
             "#fde0ef"
            ],
            [
             0.5,
             "#f7f7f7"
            ],
            [
             0.6,
             "#e6f5d0"
            ],
            [
             0.7,
             "#b8e186"
            ],
            [
             0.8,
             "#7fbc41"
            ],
            [
             0.9,
             "#4d9221"
            ],
            [
             1,
             "#276419"
            ]
           ],
           "sequential": [
            [
             0,
             "#0d0887"
            ],
            [
             0.1111111111111111,
             "#46039f"
            ],
            [
             0.2222222222222222,
             "#7201a8"
            ],
            [
             0.3333333333333333,
             "#9c179e"
            ],
            [
             0.4444444444444444,
             "#bd3786"
            ],
            [
             0.5555555555555556,
             "#d8576b"
            ],
            [
             0.6666666666666666,
             "#ed7953"
            ],
            [
             0.7777777777777778,
             "#fb9f3a"
            ],
            [
             0.8888888888888888,
             "#fdca26"
            ],
            [
             1,
             "#f0f921"
            ]
           ],
           "sequentialminus": [
            [
             0,
             "#0d0887"
            ],
            [
             0.1111111111111111,
             "#46039f"
            ],
            [
             0.2222222222222222,
             "#7201a8"
            ],
            [
             0.3333333333333333,
             "#9c179e"
            ],
            [
             0.4444444444444444,
             "#bd3786"
            ],
            [
             0.5555555555555556,
             "#d8576b"
            ],
            [
             0.6666666666666666,
             "#ed7953"
            ],
            [
             0.7777777777777778,
             "#fb9f3a"
            ],
            [
             0.8888888888888888,
             "#fdca26"
            ],
            [
             1,
             "#f0f921"
            ]
           ]
          },
          "colorway": [
           "#636efa",
           "#EF553B",
           "#00cc96",
           "#ab63fa",
           "#FFA15A",
           "#19d3f3",
           "#FF6692",
           "#B6E880",
           "#FF97FF",
           "#FECB52"
          ],
          "font": {
           "color": "#2a3f5f"
          },
          "geo": {
           "bgcolor": "white",
           "lakecolor": "white",
           "landcolor": "#E5ECF6",
           "showlakes": true,
           "showland": true,
           "subunitcolor": "white"
          },
          "hoverlabel": {
           "align": "left"
          },
          "hovermode": "closest",
          "mapbox": {
           "style": "light"
          },
          "paper_bgcolor": "white",
          "plot_bgcolor": "#E5ECF6",
          "polar": {
           "angularaxis": {
            "gridcolor": "white",
            "linecolor": "white",
            "ticks": ""
           },
           "bgcolor": "#E5ECF6",
           "radialaxis": {
            "gridcolor": "white",
            "linecolor": "white",
            "ticks": ""
           }
          },
          "scene": {
           "xaxis": {
            "backgroundcolor": "#E5ECF6",
            "gridcolor": "white",
            "gridwidth": 2,
            "linecolor": "white",
            "showbackground": true,
            "ticks": "",
            "zerolinecolor": "white"
           },
           "yaxis": {
            "backgroundcolor": "#E5ECF6",
            "gridcolor": "white",
            "gridwidth": 2,
            "linecolor": "white",
            "showbackground": true,
            "ticks": "",
            "zerolinecolor": "white"
           },
           "zaxis": {
            "backgroundcolor": "#E5ECF6",
            "gridcolor": "white",
            "gridwidth": 2,
            "linecolor": "white",
            "showbackground": true,
            "ticks": "",
            "zerolinecolor": "white"
           }
          },
          "shapedefaults": {
           "line": {
            "color": "#2a3f5f"
           }
          },
          "ternary": {
           "aaxis": {
            "gridcolor": "white",
            "linecolor": "white",
            "ticks": ""
           },
           "baxis": {
            "gridcolor": "white",
            "linecolor": "white",
            "ticks": ""
           },
           "bgcolor": "#E5ECF6",
           "caxis": {
            "gridcolor": "white",
            "linecolor": "white",
            "ticks": ""
           }
          },
          "title": {
           "x": 0.05
          },
          "xaxis": {
           "automargin": true,
           "gridcolor": "white",
           "linecolor": "white",
           "ticks": "",
           "title": {
            "standoff": 15
           },
           "zerolinecolor": "white",
           "zerolinewidth": 2
          },
          "yaxis": {
           "automargin": true,
           "gridcolor": "white",
           "linecolor": "white",
           "ticks": "",
           "title": {
            "standoff": 15
           },
           "zerolinecolor": "white",
           "zerolinewidth": 2
          }
         }
        },
        "xaxis": {
         "anchor": "y",
         "domain": [
          0,
          1
         ],
         "title": {
          "text": "State/UTs"
         }
        },
        "yaxis": {
         "anchor": "x",
         "domain": [
          0,
          1
         ],
         "title": {
          "text": "Total Cases"
         }
        }
       }
      },
      "text/html": [
       "<div>                            <div id=\"dd4783c0-7c31-4eae-ae6b-54998d173ecf\" class=\"plotly-graph-div\" style=\"height:525px; width:100%;\"></div>            <script type=\"text/javascript\">                require([\"plotly\"], function(Plotly) {                    window.PLOTLYENV=window.PLOTLYENV || {};                                    if (document.getElementById(\"dd4783c0-7c31-4eae-ae6b-54998d173ecf\")) {                    Plotly.newPlot(                        \"dd4783c0-7c31-4eae-ae6b-54998d173ecf\",                        [{\"alignmentgroup\":\"True\",\"hovertemplate\":\"State/UTs=%{x}<br>Total Cases=%{y}<extra></extra>\",\"legendgroup\":\"\",\"marker\":{\"color\":\"#636efa\",\"pattern\":{\"shape\":\"\"}},\"name\":\"\",\"offsetgroup\":\"\",\"orientation\":\"v\",\"showlegend\":false,\"textposition\":\"auto\",\"x\":[\"Andaman and Nicobar\",\"Andhra Pradesh\",\"Arunachal Pradesh\",\"Assam\",\"Bihar\",\"Chandigarh\",\"Chhattisgarh\",\"Dadra and Nagar Haveli and Daman and Diu\",\"Delhi\",\"Goa\",\"Gujarat\",\"Haryana\",\"Himachal Pradesh\",\"Jammu and Kashmir\",\"Jharkhand\",\"Karnataka\",\"Kerala\",\"Ladakh\",\"Lakshadweep\",\"Madhya Pradesh\",\"Maharashtra\",\"Manipur\",\"Meghalaya\",\"Mizoram\",\"Nagaland\",\"Odisha\",\"Puducherry\",\"Punjab\",\"Rajasthan\",\"Sikkim\",\"Tamil Nadu\",\"Telengana\",\"Tripura\",\"Uttar Pradesh\",\"Uttarakhand\",\"West Bengal\"],\"xaxis\":\"x\",\"y\":[10502,2333710,66246,741541,844997,97442,1169532,11557,1970899,253162,1261922,1036795,305383,470201,441010,4021106,6730762,29021,11415,1051447,8060737,139377,95925,234387,35838,1319527,171651,777362,1297814,42784,3553670,826284,107419,2108686,445106,2099433],\"yaxis\":\"y\",\"type\":\"bar\"}],                        {\"template\":{\"data\":{\"bar\":[{\"error_x\":{\"color\":\"#2a3f5f\"},\"error_y\":{\"color\":\"#2a3f5f\"},\"marker\":{\"line\":{\"color\":\"#E5ECF6\",\"width\":0.5},\"pattern\":{\"fillmode\":\"overlay\",\"size\":10,\"solidity\":0.2}},\"type\":\"bar\"}],\"barpolar\":[{\"marker\":{\"line\":{\"color\":\"#E5ECF6\",\"width\":0.5},\"pattern\":{\"fillmode\":\"overlay\",\"size\":10,\"solidity\":0.2}},\"type\":\"barpolar\"}],\"carpet\":[{\"aaxis\":{\"endlinecolor\":\"#2a3f5f\",\"gridcolor\":\"white\",\"linecolor\":\"white\",\"minorgridcolor\":\"white\",\"startlinecolor\":\"#2a3f5f\"},\"baxis\":{\"endlinecolor\":\"#2a3f5f\",\"gridcolor\":\"white\",\"linecolor\":\"white\",\"minorgridcolor\":\"white\",\"startlinecolor\":\"#2a3f5f\"},\"type\":\"carpet\"}],\"choropleth\":[{\"colorbar\":{\"outlinewidth\":0,\"ticks\":\"\"},\"type\":\"choropleth\"}],\"contour\":[{\"colorbar\":{\"outlinewidth\":0,\"ticks\":\"\"},\"colorscale\":[[0.0,\"#0d0887\"],[0.1111111111111111,\"#46039f\"],[0.2222222222222222,\"#7201a8\"],[0.3333333333333333,\"#9c179e\"],[0.4444444444444444,\"#bd3786\"],[0.5555555555555556,\"#d8576b\"],[0.6666666666666666,\"#ed7953\"],[0.7777777777777778,\"#fb9f3a\"],[0.8888888888888888,\"#fdca26\"],[1.0,\"#f0f921\"]],\"type\":\"contour\"}],\"contourcarpet\":[{\"colorbar\":{\"outlinewidth\":0,\"ticks\":\"\"},\"type\":\"contourcarpet\"}],\"heatmap\":[{\"colorbar\":{\"outlinewidth\":0,\"ticks\":\"\"},\"colorscale\":[[0.0,\"#0d0887\"],[0.1111111111111111,\"#46039f\"],[0.2222222222222222,\"#7201a8\"],[0.3333333333333333,\"#9c179e\"],[0.4444444444444444,\"#bd3786\"],[0.5555555555555556,\"#d8576b\"],[0.6666666666666666,\"#ed7953\"],[0.7777777777777778,\"#fb9f3a\"],[0.8888888888888888,\"#fdca26\"],[1.0,\"#f0f921\"]],\"type\":\"heatmap\"}],\"heatmapgl\":[{\"colorbar\":{\"outlinewidth\":0,\"ticks\":\"\"},\"colorscale\":[[0.0,\"#0d0887\"],[0.1111111111111111,\"#46039f\"],[0.2222222222222222,\"#7201a8\"],[0.3333333333333333,\"#9c179e\"],[0.4444444444444444,\"#bd3786\"],[0.5555555555555556,\"#d8576b\"],[0.6666666666666666,\"#ed7953\"],[0.7777777777777778,\"#fb9f3a\"],[0.8888888888888888,\"#fdca26\"],[1.0,\"#f0f921\"]],\"type\":\"heatmapgl\"}],\"histogram\":[{\"marker\":{\"pattern\":{\"fillmode\":\"overlay\",\"size\":10,\"solidity\":0.2}},\"type\":\"histogram\"}],\"histogram2d\":[{\"colorbar\":{\"outlinewidth\":0,\"ticks\":\"\"},\"colorscale\":[[0.0,\"#0d0887\"],[0.1111111111111111,\"#46039f\"],[0.2222222222222222,\"#7201a8\"],[0.3333333333333333,\"#9c179e\"],[0.4444444444444444,\"#bd3786\"],[0.5555555555555556,\"#d8576b\"],[0.6666666666666666,\"#ed7953\"],[0.7777777777777778,\"#fb9f3a\"],[0.8888888888888888,\"#fdca26\"],[1.0,\"#f0f921\"]],\"type\":\"histogram2d\"}],\"histogram2dcontour\":[{\"colorbar\":{\"outlinewidth\":0,\"ticks\":\"\"},\"colorscale\":[[0.0,\"#0d0887\"],[0.1111111111111111,\"#46039f\"],[0.2222222222222222,\"#7201a8\"],[0.3333333333333333,\"#9c179e\"],[0.4444444444444444,\"#bd3786\"],[0.5555555555555556,\"#d8576b\"],[0.6666666666666666,\"#ed7953\"],[0.7777777777777778,\"#fb9f3a\"],[0.8888888888888888,\"#fdca26\"],[1.0,\"#f0f921\"]],\"type\":\"histogram2dcontour\"}],\"mesh3d\":[{\"colorbar\":{\"outlinewidth\":0,\"ticks\":\"\"},\"type\":\"mesh3d\"}],\"parcoords\":[{\"line\":{\"colorbar\":{\"outlinewidth\":0,\"ticks\":\"\"}},\"type\":\"parcoords\"}],\"pie\":[{\"automargin\":true,\"type\":\"pie\"}],\"scatter\":[{\"marker\":{\"colorbar\":{\"outlinewidth\":0,\"ticks\":\"\"}},\"type\":\"scatter\"}],\"scatter3d\":[{\"line\":{\"colorbar\":{\"outlinewidth\":0,\"ticks\":\"\"}},\"marker\":{\"colorbar\":{\"outlinewidth\":0,\"ticks\":\"\"}},\"type\":\"scatter3d\"}],\"scattercarpet\":[{\"marker\":{\"colorbar\":{\"outlinewidth\":0,\"ticks\":\"\"}},\"type\":\"scattercarpet\"}],\"scattergeo\":[{\"marker\":{\"colorbar\":{\"outlinewidth\":0,\"ticks\":\"\"}},\"type\":\"scattergeo\"}],\"scattergl\":[{\"marker\":{\"colorbar\":{\"outlinewidth\":0,\"ticks\":\"\"}},\"type\":\"scattergl\"}],\"scattermapbox\":[{\"marker\":{\"colorbar\":{\"outlinewidth\":0,\"ticks\":\"\"}},\"type\":\"scattermapbox\"}],\"scatterpolar\":[{\"marker\":{\"colorbar\":{\"outlinewidth\":0,\"ticks\":\"\"}},\"type\":\"scatterpolar\"}],\"scatterpolargl\":[{\"marker\":{\"colorbar\":{\"outlinewidth\":0,\"ticks\":\"\"}},\"type\":\"scatterpolargl\"}],\"scatterternary\":[{\"marker\":{\"colorbar\":{\"outlinewidth\":0,\"ticks\":\"\"}},\"type\":\"scatterternary\"}],\"surface\":[{\"colorbar\":{\"outlinewidth\":0,\"ticks\":\"\"},\"colorscale\":[[0.0,\"#0d0887\"],[0.1111111111111111,\"#46039f\"],[0.2222222222222222,\"#7201a8\"],[0.3333333333333333,\"#9c179e\"],[0.4444444444444444,\"#bd3786\"],[0.5555555555555556,\"#d8576b\"],[0.6666666666666666,\"#ed7953\"],[0.7777777777777778,\"#fb9f3a\"],[0.8888888888888888,\"#fdca26\"],[1.0,\"#f0f921\"]],\"type\":\"surface\"}],\"table\":[{\"cells\":{\"fill\":{\"color\":\"#EBF0F8\"},\"line\":{\"color\":\"white\"}},\"header\":{\"fill\":{\"color\":\"#C8D4E3\"},\"line\":{\"color\":\"white\"}},\"type\":\"table\"}]},\"layout\":{\"annotationdefaults\":{\"arrowcolor\":\"#2a3f5f\",\"arrowhead\":0,\"arrowwidth\":1},\"autotypenumbers\":\"strict\",\"coloraxis\":{\"colorbar\":{\"outlinewidth\":0,\"ticks\":\"\"}},\"colorscale\":{\"diverging\":[[0,\"#8e0152\"],[0.1,\"#c51b7d\"],[0.2,\"#de77ae\"],[0.3,\"#f1b6da\"],[0.4,\"#fde0ef\"],[0.5,\"#f7f7f7\"],[0.6,\"#e6f5d0\"],[0.7,\"#b8e186\"],[0.8,\"#7fbc41\"],[0.9,\"#4d9221\"],[1,\"#276419\"]],\"sequential\":[[0.0,\"#0d0887\"],[0.1111111111111111,\"#46039f\"],[0.2222222222222222,\"#7201a8\"],[0.3333333333333333,\"#9c179e\"],[0.4444444444444444,\"#bd3786\"],[0.5555555555555556,\"#d8576b\"],[0.6666666666666666,\"#ed7953\"],[0.7777777777777778,\"#fb9f3a\"],[0.8888888888888888,\"#fdca26\"],[1.0,\"#f0f921\"]],\"sequentialminus\":[[0.0,\"#0d0887\"],[0.1111111111111111,\"#46039f\"],[0.2222222222222222,\"#7201a8\"],[0.3333333333333333,\"#9c179e\"],[0.4444444444444444,\"#bd3786\"],[0.5555555555555556,\"#d8576b\"],[0.6666666666666666,\"#ed7953\"],[0.7777777777777778,\"#fb9f3a\"],[0.8888888888888888,\"#fdca26\"],[1.0,\"#f0f921\"]]},\"colorway\":[\"#636efa\",\"#EF553B\",\"#00cc96\",\"#ab63fa\",\"#FFA15A\",\"#19d3f3\",\"#FF6692\",\"#B6E880\",\"#FF97FF\",\"#FECB52\"],\"font\":{\"color\":\"#2a3f5f\"},\"geo\":{\"bgcolor\":\"white\",\"lakecolor\":\"white\",\"landcolor\":\"#E5ECF6\",\"showlakes\":true,\"showland\":true,\"subunitcolor\":\"white\"},\"hoverlabel\":{\"align\":\"left\"},\"hovermode\":\"closest\",\"mapbox\":{\"style\":\"light\"},\"paper_bgcolor\":\"white\",\"plot_bgcolor\":\"#E5ECF6\",\"polar\":{\"angularaxis\":{\"gridcolor\":\"white\",\"linecolor\":\"white\",\"ticks\":\"\"},\"bgcolor\":\"#E5ECF6\",\"radialaxis\":{\"gridcolor\":\"white\",\"linecolor\":\"white\",\"ticks\":\"\"}},\"scene\":{\"xaxis\":{\"backgroundcolor\":\"#E5ECF6\",\"gridcolor\":\"white\",\"gridwidth\":2,\"linecolor\":\"white\",\"showbackground\":true,\"ticks\":\"\",\"zerolinecolor\":\"white\"},\"yaxis\":{\"backgroundcolor\":\"#E5ECF6\",\"gridcolor\":\"white\",\"gridwidth\":2,\"linecolor\":\"white\",\"showbackground\":true,\"ticks\":\"\",\"zerolinecolor\":\"white\"},\"zaxis\":{\"backgroundcolor\":\"#E5ECF6\",\"gridcolor\":\"white\",\"gridwidth\":2,\"linecolor\":\"white\",\"showbackground\":true,\"ticks\":\"\",\"zerolinecolor\":\"white\"}},\"shapedefaults\":{\"line\":{\"color\":\"#2a3f5f\"}},\"ternary\":{\"aaxis\":{\"gridcolor\":\"white\",\"linecolor\":\"white\",\"ticks\":\"\"},\"baxis\":{\"gridcolor\":\"white\",\"linecolor\":\"white\",\"ticks\":\"\"},\"bgcolor\":\"#E5ECF6\",\"caxis\":{\"gridcolor\":\"white\",\"linecolor\":\"white\",\"ticks\":\"\"}},\"title\":{\"x\":0.05},\"xaxis\":{\"automargin\":true,\"gridcolor\":\"white\",\"linecolor\":\"white\",\"ticks\":\"\",\"title\":{\"standoff\":15},\"zerolinecolor\":\"white\",\"zerolinewidth\":2},\"yaxis\":{\"automargin\":true,\"gridcolor\":\"white\",\"linecolor\":\"white\",\"ticks\":\"\",\"title\":{\"standoff\":15},\"zerolinecolor\":\"white\",\"zerolinewidth\":2}}},\"xaxis\":{\"anchor\":\"y\",\"domain\":[0.0,1.0],\"title\":{\"text\":\"State/UTs\"}},\"yaxis\":{\"anchor\":\"x\",\"domain\":[0.0,1.0],\"title\":{\"text\":\"Total Cases\"}},\"legend\":{\"tracegroupgap\":0},\"margin\":{\"t\":60},\"barmode\":\"relative\"},                        {\"responsive\": true}                    ).then(function(){\n",
       "                            \n",
       "var gd = document.getElementById('dd4783c0-7c31-4eae-ae6b-54998d173ecf');\n",
       "var x = new MutationObserver(function (mutations, observer) {{\n",
       "        var display = window.getComputedStyle(gd).display;\n",
       "        if (!display || display === 'none') {{\n",
       "            console.log([gd, 'removed!']);\n",
       "            Plotly.purge(gd);\n",
       "            observer.disconnect();\n",
       "        }}\n",
       "}});\n",
       "\n",
       "// Listen for the removal of the full notebook cells\n",
       "var notebookContainer = gd.closest('#notebook-container');\n",
       "if (notebookContainer) {{\n",
       "    x.observe(notebookContainer, {childList: true});\n",
       "}}\n",
       "\n",
       "// Listen for the clearing of the current output cell\n",
       "var outputEl = gd.closest('.output');\n",
       "if (outputEl) {{\n",
       "    x.observe(outputEl, {childList: true});\n",
       "}}\n",
       "\n",
       "                        })                };                });            </script>        </div>"
      ]
     },
     "metadata": {},
     "output_type": "display_data"
    }
   ],
   "source": [
    "px.bar(df, x='State/UTs',y='Total Cases')"
   ]
  },
  {
   "cell_type": "code",
   "execution_count": 46,
   "id": "8eab4005",
   "metadata": {},
   "outputs": [
    {
     "data": {
      "text/plain": [
       "<AxesSubplot:xlabel='State/UTs', ylabel='Total Cases'>"
      ]
     },
     "execution_count": 46,
     "metadata": {},
     "output_type": "execute_result"
    },
    {
     "data": {
      "image/png": "[encoded data removed]",
      "text/plain": [
       "<Figure size 1224x1080 with 1 Axes>"
      ]
     },
     "metadata": {
      "needs_background": "light"
     },
     "output_type": "display_data"
    }
   ],
   "source": [
    "df.plot(kind='scatter', x='State/UTs',y='Total Cases')"
   ]
  },
  {
   "cell_type": "code",
   "execution_count": 23,
   "id": "243db0f9",
   "metadata": {},
   "outputs": [
    {
     "data": {
      "text/plain": [
       "<matplotlib.collections.PathCollection at 0x204bf0d5400>"
      ]
     },
     "execution_count": 23,
     "metadata": {},
     "output_type": "execute_result"
    },
    {
     "data": {
      "image/png": "[encoded data removed]",
      "text/plain": [
       "<Figure size 1224x1080 with 1 Axes>"
      ]
     },
     "metadata": {
      "needs_background": "light"
     },
     "output_type": "display_data"
    }
   ],
   "source": [
    "plt.scatter(df['State/UTs'],df['Total Cases'])"
   ]
  },
  {
   "cell_type": "code",
   "execution_count": 29,
   "id": "6fdec1eb",
   "metadata": {},
   "outputs": [
    {
     "data": {
      "application/vnd.plotly.v1+json": {
       "config": {
        "linkText": "Export to plot.ly",
        "plotlyServerURL": "https://plot.ly",
        "showLink": true
       },
       "data": [
        {
         "line": {
          "color": "rgba(255, 153, 51, 1.0)",
          "dash": "solid",
          "shape": "linear",
          "width": 1.3
         },
         "marker": {
          "size": 12,
          "symbol": "circle"
         },
         "mode": "markers+lines",
         "name": "Total Cases",
         "text": "",
         "type": "scatter",
         "x": [
          "Andaman and Nicobar",
          "Andhra Pradesh",
          "Arunachal Pradesh",
          "Assam",
          "Bihar",
          "Chandigarh",
          "Chhattisgarh",
          "Dadra and Nagar Haveli and Daman and Diu",
          "Delhi",
          "Goa",
          "Gujarat",
          "Haryana",
          "Himachal Pradesh",
          "Jammu and Kashmir",
          "Jharkhand",
          "Karnataka",
          "Kerala",
          "Ladakh",
          "Lakshadweep",
          "Madhya Pradesh",
          "Maharashtra",
          "Manipur",
          "Meghalaya",
          "Mizoram",
          "Nagaland",
          "Odisha",
          "Puducherry",
          "Punjab",
          "Rajasthan",
          "Sikkim",
          "Tamil Nadu",
          "Telengana",
          "Tripura",
          "Uttar Pradesh",
          "Uttarakhand",
          "West Bengal"
         ],
         "y": [
          10502,
          2333710,
          66246,
          741541,
          844997,
          97442,
          1169532,
          11557,
          1970899,
          253162,
          1261922,
          1036795,
          305383,
          470201,
          441010,
          4021106,
          6730762,
          29021,
          11415,
          1051447,
          8060737,
          139377,
          95925,
          234387,
          35838,
          1319527,
          171651,
          777362,
          1297814,
          42784,
          3553670,
          826284,
          107419,
          2108686,
          445106,
          2099433
         ]
        }
       ],
       "layout": {
        "legend": {
         "bgcolor": "#F5F6F9",
         "font": {
          "color": "#4D5663"
         }
        },
        "paper_bgcolor": "#F5F6F9",
        "plot_bgcolor": "#F5F6F9",
        "template": {
         "data": {
          "bar": [
           {
            "error_x": {
             "color": "#2a3f5f"
            },
            "error_y": {
             "color": "#2a3f5f"
            },
            "marker": {
             "line": {
              "color": "#E5ECF6",
              "width": 0.5
             },
             "pattern": {
              "fillmode": "overlay",
              "size": 10,
              "solidity": 0.2
             }
            },
            "type": "bar"
           }
          ],
          "barpolar": [
           {
            "marker": {
             "line": {
              "color": "#E5ECF6",
              "width": 0.5
             },
             "pattern": {
              "fillmode": "overlay",
              "size": 10,
              "solidity": 0.2
             }
            },
            "type": "barpolar"
           }
          ],
          "carpet": [
           {
            "aaxis": {
             "endlinecolor": "#2a3f5f",
             "gridcolor": "white",
             "linecolor": "white",
             "minorgridcolor": "white",
             "startlinecolor": "#2a3f5f"
            },
            "baxis": {
             "endlinecolor": "#2a3f5f",
             "gridcolor": "white",
             "linecolor": "white",
             "minorgridcolor": "white",
             "startlinecolor": "#2a3f5f"
            },
            "type": "carpet"
           }
          ],
          "choropleth": [
           {
            "colorbar": {
             "outlinewidth": 0,
             "ticks": ""
            },
            "type": "choropleth"
           }
          ],
          "contour": [
           {
            "colorbar": {
             "outlinewidth": 0,
             "ticks": ""
            },
            "colorscale": [
             [
              0,
              "#0d0887"
             ],
             [
              0.1111111111111111,
              "#46039f"
             ],
             [
              0.2222222222222222,
              "#7201a8"
             ],
             [
              0.3333333333333333,
              "#9c179e"
             ],
             [
              0.4444444444444444,
              "#bd3786"
             ],
             [
              0.5555555555555556,
              "#d8576b"
             ],
             [
              0.6666666666666666,
              "#ed7953"
             ],
             [
              0.7777777777777778,
              "#fb9f3a"
             ],
             [
              0.8888888888888888,
              "#fdca26"
             ],
             [
              1,
              "#f0f921"
             ]
            ],
            "type": "contour"
           }
          ],
          "contourcarpet": [
           {
            "colorbar": {
             "outlinewidth": 0,
             "ticks": ""
            },
            "type": "contourcarpet"
           }
          ],
          "heatmap": [
           {
            "colorbar": {
             "outlinewidth": 0,
             "ticks": ""
            },
            "colorscale": [
             [
              0,
              "#0d0887"
             ],
             [
              0.1111111111111111,
              "#46039f"
             ],
             [
              0.2222222222222222,
              "#7201a8"
             ],
             [
              0.3333333333333333,
              "#9c179e"
             ],
             [
              0.4444444444444444,
              "#bd3786"
             ],
             [
              0.5555555555555556,
              "#d8576b"
             ],
             [
              0.6666666666666666,
              "#ed7953"
             ],
             [
              0.7777777777777778,
              "#fb9f3a"
             ],
             [
              0.8888888888888888,
              "#fdca26"
             ],
             [
              1,
              "#f0f921"
             ]
            ],
            "type": "heatmap"
           }
          ],
          "heatmapgl": [
           {
            "colorbar": {
             "outlinewidth": 0,
             "ticks": ""
            },
            "colorscale": [
             [
              0,
              "#0d0887"
             ],
             [
              0.1111111111111111,
              "#46039f"
             ],
             [
              0.2222222222222222,
              "#7201a8"
             ],
             [
              0.3333333333333333,
              "#9c179e"
             ],
             [
              0.4444444444444444,
              "#bd3786"
             ],
             [
              0.5555555555555556,
              "#d8576b"
             ],
             [
              0.6666666666666666,
              "#ed7953"
             ],
             [
              0.7777777777777778,
              "#fb9f3a"
             ],
             [
              0.8888888888888888,
              "#fdca26"
             ],
             [
              1,
              "#f0f921"
             ]
            ],
            "type": "heatmapgl"
           }
          ],
          "histogram": [
           {
            "marker": {
             "pattern": {
              "fillmode": "overlay",
              "size": 10,
              "solidity": 0.2
             }
            },
            "type": "histogram"
           }
          ],
          "histogram2d": [
           {
            "colorbar": {
             "outlinewidth": 0,
             "ticks": ""
            },
            "colorscale": [
             [
              0,
              "#0d0887"
             ],
             [
              0.1111111111111111,
              "#46039f"
             ],
             [
              0.2222222222222222,
              "#7201a8"
             ],
             [
              0.3333333333333333,
              "#9c179e"
             ],
             [
              0.4444444444444444,
              "#bd3786"
             ],
             [
              0.5555555555555556,
              "#d8576b"
             ],
             [
              0.6666666666666666,
              "#ed7953"
             ],
             [
              0.7777777777777778,
              "#fb9f3a"
             ],
             [
              0.8888888888888888,
              "#fdca26"
             ],
             [
              1,
              "#f0f921"
             ]
            ],
            "type": "histogram2d"
           }
          ],
          "histogram2dcontour": [
           {
            "colorbar": {
             "outlinewidth": 0,
             "ticks": ""
            },
            "colorscale": [
             [
              0,
              "#0d0887"
             ],
             [
              0.1111111111111111,
              "#46039f"
             ],
             [
              0.2222222222222222,
              "#7201a8"
             ],
             [
              0.3333333333333333,
              "#9c179e"
             ],
             [
              0.4444444444444444,
              "#bd3786"
             ],
             [
              0.5555555555555556,
              "#d8576b"
             ],
             [
              0.6666666666666666,
              "#ed7953"
             ],
             [
              0.7777777777777778,
              "#fb9f3a"
             ],
             [
              0.8888888888888888,
              "#fdca26"
             ],
             [
              1,
              "#f0f921"
             ]
            ],
            "type": "histogram2dcontour"
           }
          ],
          "mesh3d": [
           {
            "colorbar": {
             "outlinewidth": 0,
             "ticks": ""
            },
            "type": "mesh3d"
           }
          ],
          "parcoords": [
           {
            "line": {
             "colorbar": {
              "outlinewidth": 0,
              "ticks": ""
             }
            },
            "type": "parcoords"
           }
          ],
          "pie": [
           {
            "automargin": true,
            "type": "pie"
           }
          ],
          "scatter": [
           {
            "marker": {
             "colorbar": {
              "outlinewidth": 0,
              "ticks": ""
             }
            },
            "type": "scatter"
           }
          ],
          "scatter3d": [
           {
            "line": {
             "colorbar": {
              "outlinewidth": 0,
              "ticks": ""
             }
            },
            "marker": {
             "colorbar": {
              "outlinewidth": 0,
              "ticks": ""
             }
            },
            "type": "scatter3d"
           }
          ],
          "scattercarpet": [
           {
            "marker": {
             "colorbar": {
              "outlinewidth": 0,
              "ticks": ""
             }
            },
            "type": "scattercarpet"
           }
          ],
          "scattergeo": [
           {
            "marker": {
             "colorbar": {
              "outlinewidth": 0,
              "ticks": ""
             }
            },
            "type": "scattergeo"
           }
          ],
          "scattergl": [
           {
            "marker": {
             "colorbar": {
              "outlinewidth": 0,
              "ticks": ""
             }
            },
            "type": "scattergl"
           }
          ],
          "scattermapbox": [
           {
            "marker": {
             "colorbar": {
              "outlinewidth": 0,
              "ticks": ""
             }
            },
            "type": "scattermapbox"
           }
          ],
          "scatterpolar": [
           {
            "marker": {
             "colorbar": {
              "outlinewidth": 0,
              "ticks": ""
             }
            },
            "type": "scatterpolar"
           }
          ],
          "scatterpolargl": [
           {
            "marker": {
             "colorbar": {
              "outlinewidth": 0,
              "ticks": ""
             }
            },
            "type": "scatterpolargl"
           }
          ],
          "scatterternary": [
           {
            "marker": {
             "colorbar": {
              "outlinewidth": 0,
              "ticks": ""
             }
            },
            "type": "scatterternary"
           }
          ],
          "surface": [
           {
            "colorbar": {
             "outlinewidth": 0,
             "ticks": ""
            },
            "colorscale": [
             [
              0,
              "#0d0887"
             ],
             [
              0.1111111111111111,
              "#46039f"
             ],
             [
              0.2222222222222222,
              "#7201a8"
             ],
             [
              0.3333333333333333,
              "#9c179e"
             ],
             [
              0.4444444444444444,
              "#bd3786"
             ],
             [
              0.5555555555555556,
              "#d8576b"
             ],
             [
              0.6666666666666666,
              "#ed7953"
             ],
             [
              0.7777777777777778,
              "#fb9f3a"
             ],
             [
              0.8888888888888888,
              "#fdca26"
             ],
             [
              1,
              "#f0f921"
             ]
            ],
            "type": "surface"
           }
          ],
          "table": [
           {
            "cells": {
             "fill": {
              "color": "#EBF0F8"
             },
             "line": {
              "color": "white"
             }
            },
            "header": {
             "fill": {
              "color": "#C8D4E3"
             },
             "line": {
              "color": "white"
             }
            },
            "type": "table"
           }
          ]
         },
         "layout": {
          "annotationdefaults": {
           "arrowcolor": "#2a3f5f",
           "arrowhead": 0,
           "arrowwidth": 1
          },
          "autotypenumbers": "strict",
          "coloraxis": {
           "colorbar": {
            "outlinewidth": 0,
            "ticks": ""
           }
          },
          "colorscale": {
           "diverging": [
            [
             0,
             "#8e0152"
            ],
            [
             0.1,
             "#c51b7d"
            ],
            [
             0.2,
             "#de77ae"
            ],
            [
             0.3,
             "#f1b6da"
            ],
            [
             0.4,
             "#fde0ef"
            ],
            [
             0.5,
             "#f7f7f7"
            ],
            [
             0.6,
             "#e6f5d0"
            ],
            [
             0.7,
             "#b8e186"
            ],
            [
             0.8,
             "#7fbc41"
            ],
            [
             0.9,
             "#4d9221"
            ],
            [
             1,
             "#276419"
            ]
           ],
           "sequential": [
            [
             0,
             "#0d0887"
            ],
            [
             0.1111111111111111,
             "#46039f"
            ],
            [
             0.2222222222222222,
             "#7201a8"
            ],
            [
             0.3333333333333333,
             "#9c179e"
            ],
            [
             0.4444444444444444,
             "#bd3786"
            ],
            [
             0.5555555555555556,
             "#d8576b"
            ],
            [
             0.6666666666666666,
             "#ed7953"
            ],
            [
             0.7777777777777778,
             "#fb9f3a"
            ],
            [
             0.8888888888888888,
             "#fdca26"
            ],
            [
             1,
             "#f0f921"
            ]
           ],
           "sequentialminus": [
            [
             0,
             "#0d0887"
            ],
            [
             0.1111111111111111,
             "#46039f"
            ],
            [
             0.2222222222222222,
             "#7201a8"
            ],
            [
             0.3333333333333333,
             "#9c179e"
            ],
            [
             0.4444444444444444,
             "#bd3786"
            ],
            [
             0.5555555555555556,
             "#d8576b"
            ],
            [
             0.6666666666666666,
             "#ed7953"
            ],
            [
             0.7777777777777778,
             "#fb9f3a"
            ],
            [
             0.8888888888888888,
             "#fdca26"
            ],
            [
             1,
             "#f0f921"
            ]
           ]
          },
          "colorway": [
           "#636efa",
           "#EF553B",
           "#00cc96",
           "#ab63fa",
           "#FFA15A",
           "#19d3f3",
           "#FF6692",
           "#B6E880",
           "#FF97FF",
           "#FECB52"
          ],
          "font": {
           "color": "#2a3f5f"
          },
          "geo": {
           "bgcolor": "white",
           "lakecolor": "white",
           "landcolor": "#E5ECF6",
           "showlakes": true,
           "showland": true,
           "subunitcolor": "white"
          },
          "hoverlabel": {
           "align": "left"
          },
          "hovermode": "closest",
          "mapbox": {
           "style": "light"
          },
          "paper_bgcolor": "white",
          "plot_bgcolor": "#E5ECF6",
          "polar": {
           "angularaxis": {
            "gridcolor": "white",
            "linecolor": "white",
            "ticks": ""
           },
           "bgcolor": "#E5ECF6",
           "radialaxis": {
            "gridcolor": "white",
            "linecolor": "white",
            "ticks": ""
           }
          },
          "scene": {
           "xaxis": {
            "backgroundcolor": "#E5ECF6",
            "gridcolor": "white",
            "gridwidth": 2,
            "linecolor": "white",
            "showbackground": true,
            "ticks": "",
            "zerolinecolor": "white"
           },
           "yaxis": {
            "backgroundcolor": "#E5ECF6",
            "gridcolor": "white",
            "gridwidth": 2,
            "linecolor": "white",
            "showbackground": true,
            "ticks": "",
            "zerolinecolor": "white"
           },
           "zaxis": {
            "backgroundcolor": "#E5ECF6",
            "gridcolor": "white",
            "gridwidth": 2,
            "linecolor": "white",
            "showbackground": true,
            "ticks": "",
            "zerolinecolor": "white"
           }
          },
          "shapedefaults": {
           "line": {
            "color": "#2a3f5f"
           }
          },
          "ternary": {
           "aaxis": {
            "gridcolor": "white",
            "linecolor": "white",
            "ticks": ""
           },
           "baxis": {
            "gridcolor": "white",
            "linecolor": "white",
            "ticks": ""
           },
           "bgcolor": "#E5ECF6",
           "caxis": {
            "gridcolor": "white",
            "linecolor": "white",
            "ticks": ""
           }
          },
          "title": {
           "x": 0.05
          },
          "xaxis": {
           "automargin": true,
           "gridcolor": "white",
           "linecolor": "white",
           "ticks": "",
           "title": {
            "standoff": 15
           },
           "zerolinecolor": "white",
           "zerolinewidth": 2
          },
          "yaxis": {
           "automargin": true,
           "gridcolor": "white",
           "linecolor": "white",
           "ticks": "",
           "title": {
            "standoff": 15
           },
           "zerolinecolor": "white",
           "zerolinewidth": 2
          }
         }
        },
        "title": {
         "font": {
          "color": "#4D5663"
         }
        },
        "xaxis": {
         "gridcolor": "#E1E5ED",
         "showgrid": true,
         "tickfont": {
          "color": "#4D5663"
         },
         "title": {
          "font": {
           "color": "#4D5663"
          },
          "text": ""
         },
         "zerolinecolor": "#E1E5ED"
        },
        "yaxis": {
         "gridcolor": "#E1E5ED",
         "showgrid": true,
         "tickfont": {
          "color": "#4D5663"
         },
         "title": {
          "font": {
           "color": "#4D5663"
          },
          "text": ""
         },
         "zerolinecolor": "#E1E5ED"
        }
       }
      },
      "text/html": [
       "<div>                            <div id=\"5b8060b6-ec76-475e-8fde-cc273a2323f3\" class=\"plotly-graph-div\" style=\"height:525px; width:100%;\"></div>            <script type=\"text/javascript\">                require([\"plotly\"], function(Plotly) {                    window.PLOTLYENV=window.PLOTLYENV || {};\n",
       "                    window.PLOTLYENV.BASE_URL='https://plot.ly';                                    if (document.getElementById(\"5b8060b6-ec76-475e-8fde-cc273a2323f3\")) {                    Plotly.newPlot(                        \"5b8060b6-ec76-475e-8fde-cc273a2323f3\",                        [{\"line\":{\"color\":\"rgba(255, 153, 51, 1.0)\",\"dash\":\"solid\",\"shape\":\"linear\",\"width\":1.3},\"marker\":{\"size\":12,\"symbol\":\"circle\"},\"mode\":\"markers+lines\",\"name\":\"Total Cases\",\"text\":\"\",\"x\":[\"Andaman and Nicobar\",\"Andhra Pradesh\",\"Arunachal Pradesh\",\"Assam\",\"Bihar\",\"Chandigarh\",\"Chhattisgarh\",\"Dadra and Nagar Haveli and Daman and Diu\",\"Delhi\",\"Goa\",\"Gujarat\",\"Haryana\",\"Himachal Pradesh\",\"Jammu and Kashmir\",\"Jharkhand\",\"Karnataka\",\"Kerala\",\"Ladakh\",\"Lakshadweep\",\"Madhya Pradesh\",\"Maharashtra\",\"Manipur\",\"Meghalaya\",\"Mizoram\",\"Nagaland\",\"Odisha\",\"Puducherry\",\"Punjab\",\"Rajasthan\",\"Sikkim\",\"Tamil Nadu\",\"Telengana\",\"Tripura\",\"Uttar Pradesh\",\"Uttarakhand\",\"West Bengal\"],\"y\":[10502,2333710,66246,741541,844997,97442,1169532,11557,1970899,253162,1261922,1036795,305383,470201,441010,4021106,6730762,29021,11415,1051447,8060737,139377,95925,234387,35838,1319527,171651,777362,1297814,42784,3553670,826284,107419,2108686,445106,2099433],\"type\":\"scatter\"}],                        {\"legend\":{\"bgcolor\":\"#F5F6F9\",\"font\":{\"color\":\"#4D5663\"}},\"paper_bgcolor\":\"#F5F6F9\",\"plot_bgcolor\":\"#F5F6F9\",\"template\":{\"data\":{\"barpolar\":[{\"marker\":{\"line\":{\"color\":\"#E5ECF6\",\"width\":0.5},\"pattern\":{\"fillmode\":\"overlay\",\"size\":10,\"solidity\":0.2}},\"type\":\"barpolar\"}],\"bar\":[{\"error_x\":{\"color\":\"#2a3f5f\"},\"error_y\":{\"color\":\"#2a3f5f\"},\"marker\":{\"line\":{\"color\":\"#E5ECF6\",\"width\":0.5},\"pattern\":{\"fillmode\":\"overlay\",\"size\":10,\"solidity\":0.2}},\"type\":\"bar\"}],\"carpet\":[{\"aaxis\":{\"endlinecolor\":\"#2a3f5f\",\"gridcolor\":\"white\",\"linecolor\":\"white\",\"minorgridcolor\":\"white\",\"startlinecolor\":\"#2a3f5f\"},\"baxis\":{\"endlinecolor\":\"#2a3f5f\",\"gridcolor\":\"white\",\"linecolor\":\"white\",\"minorgridcolor\":\"white\",\"startlinecolor\":\"#2a3f5f\"},\"type\":\"carpet\"}],\"choropleth\":[{\"colorbar\":{\"outlinewidth\":0,\"ticks\":\"\"},\"type\":\"choropleth\"}],\"contourcarpet\":[{\"colorbar\":{\"outlinewidth\":0,\"ticks\":\"\"},\"type\":\"contourcarpet\"}],\"contour\":[{\"colorbar\":{\"outlinewidth\":0,\"ticks\":\"\"},\"colorscale\":[[0.0,\"#0d0887\"],[0.1111111111111111,\"#46039f\"],[0.2222222222222222,\"#7201a8\"],[0.3333333333333333,\"#9c179e\"],[0.4444444444444444,\"#bd3786\"],[0.5555555555555556,\"#d8576b\"],[0.6666666666666666,\"#ed7953\"],[0.7777777777777778,\"#fb9f3a\"],[0.8888888888888888,\"#fdca26\"],[1.0,\"#f0f921\"]],\"type\":\"contour\"}],\"heatmapgl\":[{\"colorbar\":{\"outlinewidth\":0,\"ticks\":\"\"},\"colorscale\":[[0.0,\"#0d0887\"],[0.1111111111111111,\"#46039f\"],[0.2222222222222222,\"#7201a8\"],[0.3333333333333333,\"#9c179e\"],[0.4444444444444444,\"#bd3786\"],[0.5555555555555556,\"#d8576b\"],[0.6666666666666666,\"#ed7953\"],[0.7777777777777778,\"#fb9f3a\"],[0.8888888888888888,\"#fdca26\"],[1.0,\"#f0f921\"]],\"type\":\"heatmapgl\"}],\"heatmap\":[{\"colorbar\":{\"outlinewidth\":0,\"ticks\":\"\"},\"colorscale\":[[0.0,\"#0d0887\"],[0.1111111111111111,\"#46039f\"],[0.2222222222222222,\"#7201a8\"],[0.3333333333333333,\"#9c179e\"],[0.4444444444444444,\"#bd3786\"],[0.5555555555555556,\"#d8576b\"],[0.6666666666666666,\"#ed7953\"],[0.7777777777777778,\"#fb9f3a\"],[0.8888888888888888,\"#fdca26\"],[1.0,\"#f0f921\"]],\"type\":\"heatmap\"}],\"histogram2dcontour\":[{\"colorbar\":{\"outlinewidth\":0,\"ticks\":\"\"},\"colorscale\":[[0.0,\"#0d0887\"],[0.1111111111111111,\"#46039f\"],[0.2222222222222222,\"#7201a8\"],[0.3333333333333333,\"#9c179e\"],[0.4444444444444444,\"#bd3786\"],[0.5555555555555556,\"#d8576b\"],[0.6666666666666666,\"#ed7953\"],[0.7777777777777778,\"#fb9f3a\"],[0.8888888888888888,\"#fdca26\"],[1.0,\"#f0f921\"]],\"type\":\"histogram2dcontour\"}],\"histogram2d\":[{\"colorbar\":{\"outlinewidth\":0,\"ticks\":\"\"},\"colorscale\":[[0.0,\"#0d0887\"],[0.1111111111111111,\"#46039f\"],[0.2222222222222222,\"#7201a8\"],[0.3333333333333333,\"#9c179e\"],[0.4444444444444444,\"#bd3786\"],[0.5555555555555556,\"#d8576b\"],[0.6666666666666666,\"#ed7953\"],[0.7777777777777778,\"#fb9f3a\"],[0.8888888888888888,\"#fdca26\"],[1.0,\"#f0f921\"]],\"type\":\"histogram2d\"}],\"histogram\":[{\"marker\":{\"pattern\":{\"fillmode\":\"overlay\",\"size\":10,\"solidity\":0.2}},\"type\":\"histogram\"}],\"mesh3d\":[{\"colorbar\":{\"outlinewidth\":0,\"ticks\":\"\"},\"type\":\"mesh3d\"}],\"parcoords\":[{\"line\":{\"colorbar\":{\"outlinewidth\":0,\"ticks\":\"\"}},\"type\":\"parcoords\"}],\"pie\":[{\"automargin\":true,\"type\":\"pie\"}],\"scatter3d\":[{\"line\":{\"colorbar\":{\"outlinewidth\":0,\"ticks\":\"\"}},\"marker\":{\"colorbar\":{\"outlinewidth\":0,\"ticks\":\"\"}},\"type\":\"scatter3d\"}],\"scattercarpet\":[{\"marker\":{\"colorbar\":{\"outlinewidth\":0,\"ticks\":\"\"}},\"type\":\"scattercarpet\"}],\"scattergeo\":[{\"marker\":{\"colorbar\":{\"outlinewidth\":0,\"ticks\":\"\"}},\"type\":\"scattergeo\"}],\"scattergl\":[{\"marker\":{\"colorbar\":{\"outlinewidth\":0,\"ticks\":\"\"}},\"type\":\"scattergl\"}],\"scattermapbox\":[{\"marker\":{\"colorbar\":{\"outlinewidth\":0,\"ticks\":\"\"}},\"type\":\"scattermapbox\"}],\"scatterpolargl\":[{\"marker\":{\"colorbar\":{\"outlinewidth\":0,\"ticks\":\"\"}},\"type\":\"scatterpolargl\"}],\"scatterpolar\":[{\"marker\":{\"colorbar\":{\"outlinewidth\":0,\"ticks\":\"\"}},\"type\":\"scatterpolar\"}],\"scatter\":[{\"marker\":{\"colorbar\":{\"outlinewidth\":0,\"ticks\":\"\"}},\"type\":\"scatter\"}],\"scatterternary\":[{\"marker\":{\"colorbar\":{\"outlinewidth\":0,\"ticks\":\"\"}},\"type\":\"scatterternary\"}],\"surface\":[{\"colorbar\":{\"outlinewidth\":0,\"ticks\":\"\"},\"colorscale\":[[0.0,\"#0d0887\"],[0.1111111111111111,\"#46039f\"],[0.2222222222222222,\"#7201a8\"],[0.3333333333333333,\"#9c179e\"],[0.4444444444444444,\"#bd3786\"],[0.5555555555555556,\"#d8576b\"],[0.6666666666666666,\"#ed7953\"],[0.7777777777777778,\"#fb9f3a\"],[0.8888888888888888,\"#fdca26\"],[1.0,\"#f0f921\"]],\"type\":\"surface\"}],\"table\":[{\"cells\":{\"fill\":{\"color\":\"#EBF0F8\"},\"line\":{\"color\":\"white\"}},\"header\":{\"fill\":{\"color\":\"#C8D4E3\"},\"line\":{\"color\":\"white\"}},\"type\":\"table\"}]},\"layout\":{\"annotationdefaults\":{\"arrowcolor\":\"#2a3f5f\",\"arrowhead\":0,\"arrowwidth\":1},\"autotypenumbers\":\"strict\",\"coloraxis\":{\"colorbar\":{\"outlinewidth\":0,\"ticks\":\"\"}},\"colorscale\":{\"diverging\":[[0,\"#8e0152\"],[0.1,\"#c51b7d\"],[0.2,\"#de77ae\"],[0.3,\"#f1b6da\"],[0.4,\"#fde0ef\"],[0.5,\"#f7f7f7\"],[0.6,\"#e6f5d0\"],[0.7,\"#b8e186\"],[0.8,\"#7fbc41\"],[0.9,\"#4d9221\"],[1,\"#276419\"]],\"sequential\":[[0.0,\"#0d0887\"],[0.1111111111111111,\"#46039f\"],[0.2222222222222222,\"#7201a8\"],[0.3333333333333333,\"#9c179e\"],[0.4444444444444444,\"#bd3786\"],[0.5555555555555556,\"#d8576b\"],[0.6666666666666666,\"#ed7953\"],[0.7777777777777778,\"#fb9f3a\"],[0.8888888888888888,\"#fdca26\"],[1.0,\"#f0f921\"]],\"sequentialminus\":[[0.0,\"#0d0887\"],[0.1111111111111111,\"#46039f\"],[0.2222222222222222,\"#7201a8\"],[0.3333333333333333,\"#9c179e\"],[0.4444444444444444,\"#bd3786\"],[0.5555555555555556,\"#d8576b\"],[0.6666666666666666,\"#ed7953\"],[0.7777777777777778,\"#fb9f3a\"],[0.8888888888888888,\"#fdca26\"],[1.0,\"#f0f921\"]]},\"colorway\":[\"#636efa\",\"#EF553B\",\"#00cc96\",\"#ab63fa\",\"#FFA15A\",\"#19d3f3\",\"#FF6692\",\"#B6E880\",\"#FF97FF\",\"#FECB52\"],\"font\":{\"color\":\"#2a3f5f\"},\"geo\":{\"bgcolor\":\"white\",\"lakecolor\":\"white\",\"landcolor\":\"#E5ECF6\",\"showlakes\":true,\"showland\":true,\"subunitcolor\":\"white\"},\"hoverlabel\":{\"align\":\"left\"},\"hovermode\":\"closest\",\"mapbox\":{\"style\":\"light\"},\"paper_bgcolor\":\"white\",\"plot_bgcolor\":\"#E5ECF6\",\"polar\":{\"angularaxis\":{\"gridcolor\":\"white\",\"linecolor\":\"white\",\"ticks\":\"\"},\"bgcolor\":\"#E5ECF6\",\"radialaxis\":{\"gridcolor\":\"white\",\"linecolor\":\"white\",\"ticks\":\"\"}},\"scene\":{\"xaxis\":{\"backgroundcolor\":\"#E5ECF6\",\"gridcolor\":\"white\",\"gridwidth\":2,\"linecolor\":\"white\",\"showbackground\":true,\"ticks\":\"\",\"zerolinecolor\":\"white\"},\"yaxis\":{\"backgroundcolor\":\"#E5ECF6\",\"gridcolor\":\"white\",\"gridwidth\":2,\"linecolor\":\"white\",\"showbackground\":true,\"ticks\":\"\",\"zerolinecolor\":\"white\"},\"zaxis\":{\"backgroundcolor\":\"#E5ECF6\",\"gridcolor\":\"white\",\"gridwidth\":2,\"linecolor\":\"white\",\"showbackground\":true,\"ticks\":\"\",\"zerolinecolor\":\"white\"}},\"shapedefaults\":{\"line\":{\"color\":\"#2a3f5f\"}},\"ternary\":{\"aaxis\":{\"gridcolor\":\"white\",\"linecolor\":\"white\",\"ticks\":\"\"},\"baxis\":{\"gridcolor\":\"white\",\"linecolor\":\"white\",\"ticks\":\"\"},\"bgcolor\":\"#E5ECF6\",\"caxis\":{\"gridcolor\":\"white\",\"linecolor\":\"white\",\"ticks\":\"\"}},\"title\":{\"x\":0.05},\"xaxis\":{\"automargin\":true,\"gridcolor\":\"white\",\"linecolor\":\"white\",\"ticks\":\"\",\"title\":{\"standoff\":15},\"zerolinecolor\":\"white\",\"zerolinewidth\":2},\"yaxis\":{\"automargin\":true,\"gridcolor\":\"white\",\"linecolor\":\"white\",\"ticks\":\"\",\"title\":{\"standoff\":15},\"zerolinecolor\":\"white\",\"zerolinewidth\":2}}},\"title\":{\"font\":{\"color\":\"#4D5663\"}},\"xaxis\":{\"gridcolor\":\"#E1E5ED\",\"showgrid\":true,\"tickfont\":{\"color\":\"#4D5663\"},\"title\":{\"font\":{\"color\":\"#4D5663\"},\"text\":\"\"},\"zerolinecolor\":\"#E1E5ED\"},\"yaxis\":{\"gridcolor\":\"#E1E5ED\",\"showgrid\":true,\"tickfont\":{\"color\":\"#4D5663\"},\"title\":{\"font\":{\"color\":\"#4D5663\"},\"text\":\"\"},\"zerolinecolor\":\"#E1E5ED\"}},                        {\"showLink\": true, \"linkText\": \"Export to plot.ly\", \"plotlyServerURL\": \"https://plot.ly\", \"responsive\": true}                    ).then(function(){\n",
       "                            \n",
       "var gd = document.getElementById('5b8060b6-ec76-475e-8fde-cc273a2323f3');\n",
       "var x = new MutationObserver(function (mutations, observer) {{\n",
       "        var display = window.getComputedStyle(gd).display;\n",
       "        if (!display || display === 'none') {{\n",
       "            console.log([gd, 'removed!']);\n",
       "            Plotly.purge(gd);\n",
       "            observer.disconnect();\n",
       "        }}\n",
       "}});\n",
       "\n",
       "// Listen for the removal of the full notebook cells\n",
       "var notebookContainer = gd.closest('#notebook-container');\n",
       "if (notebookContainer) {{\n",
       "    x.observe(notebookContainer, {childList: true});\n",
       "}}\n",
       "\n",
       "// Listen for the clearing of the current output cell\n",
       "var outputEl = gd.closest('.output');\n",
       "if (outputEl) {{\n",
       "    x.observe(outputEl, {childList: true});\n",
       "}}\n",
       "\n",
       "                        })                };                });            </script>        </div>"
      ]
     },
     "metadata": {},
     "output_type": "display_data"
    },
    {
     "data": {
      "application/vnd.plotly.v1+json": {
       "config": {
        "plotlyServerURL": "https://plot.ly"
       },
       "data": [
        {
         "hovertemplate": "State/UTs=%{x}<br>Total Cases=%{y}<extra></extra>",
         "legendgroup": "",
         "marker": {
          "color": "#636efa",
          "symbol": "circle"
         },
         "mode": "markers",
         "name": "",
         "orientation": "v",
         "showlegend": false,
         "type": "scatter",
         "x": [
          "Andaman and Nicobar",
          "Andhra Pradesh",
          "Arunachal Pradesh",
          "Assam",
          "Bihar",
          "Chandigarh",
          "Chhattisgarh",
          "Dadra and Nagar Haveli and Daman and Diu",
          "Delhi",
          "Goa",
          "Gujarat",
          "Haryana",
          "Himachal Pradesh",
          "Jammu and Kashmir",
          "Jharkhand",
          "Karnataka",
          "Kerala",
          "Ladakh",
          "Lakshadweep",
          "Madhya Pradesh",
          "Maharashtra",
          "Manipur",
          "Meghalaya",
          "Mizoram",
          "Nagaland",
          "Odisha",
          "Puducherry",
          "Punjab",
          "Rajasthan",
          "Sikkim",
          "Tamil Nadu",
          "Telengana",
          "Tripura",
          "Uttar Pradesh",
          "Uttarakhand",
          "West Bengal"
         ],
         "xaxis": "x",
         "y": [
          10502,
          2333710,
          66246,
          741541,
          844997,
          97442,
          1169532,
          11557,
          1970899,
          253162,
          1261922,
          1036795,
          305383,
          470201,
          441010,
          4021106,
          6730762,
          29021,
          11415,
          1051447,
          8060737,
          139377,
          95925,
          234387,
          35838,
          1319527,
          171651,
          777362,
          1297814,
          42784,
          3553670,
          826284,
          107419,
          2108686,
          445106,
          2099433
         ],
         "yaxis": "y"
        }
       ],
       "layout": {
        "legend": {
         "tracegroupgap": 0
        },
        "margin": {
         "t": 60
        },
        "template": {
         "data": {
          "bar": [
           {
            "error_x": {
             "color": "#2a3f5f"
            },
            "error_y": {
             "color": "#2a3f5f"
            },
            "marker": {
             "line": {
              "color": "#E5ECF6",
              "width": 0.5
             },
             "pattern": {
              "fillmode": "overlay",
              "size": 10,
              "solidity": 0.2
             }
            },
            "type": "bar"
           }
          ],
          "barpolar": [
           {
            "marker": {
             "line": {
              "color": "#E5ECF6",
              "width": 0.5
             },
             "pattern": {
              "fillmode": "overlay",
              "size": 10,
              "solidity": 0.2
             }
            },
            "type": "barpolar"
           }
          ],
          "carpet": [
           {
            "aaxis": {
             "endlinecolor": "#2a3f5f",
             "gridcolor": "white",
             "linecolor": "white",
             "minorgridcolor": "white",
             "startlinecolor": "#2a3f5f"
            },
            "baxis": {
             "endlinecolor": "#2a3f5f",
             "gridcolor": "white",
             "linecolor": "white",
             "minorgridcolor": "white",
             "startlinecolor": "#2a3f5f"
            },
            "type": "carpet"
           }
          ],
          "choropleth": [
           {
            "colorbar": {
             "outlinewidth": 0,
             "ticks": ""
            },
            "type": "choropleth"
           }
          ],
          "contour": [
           {
            "colorbar": {
             "outlinewidth": 0,
             "ticks": ""
            },
            "colorscale": [
             [
              0,
              "#0d0887"
             ],
             [
              0.1111111111111111,
              "#46039f"
             ],
             [
              0.2222222222222222,
              "#7201a8"
             ],
             [
              0.3333333333333333,
              "#9c179e"
             ],
             [
              0.4444444444444444,
              "#bd3786"
             ],
             [
              0.5555555555555556,
              "#d8576b"
             ],
             [
              0.6666666666666666,
              "#ed7953"
             ],
             [
              0.7777777777777778,
              "#fb9f3a"
             ],
             [
              0.8888888888888888,
              "#fdca26"
             ],
             [
              1,
              "#f0f921"
             ]
            ],
            "type": "contour"
           }
          ],
          "contourcarpet": [
           {
            "colorbar": {
             "outlinewidth": 0,
             "ticks": ""
            },
            "type": "contourcarpet"
           }
          ],
          "heatmap": [
           {
            "colorbar": {
             "outlinewidth": 0,
             "ticks": ""
            },
            "colorscale": [
             [
              0,
              "#0d0887"
             ],
             [
              0.1111111111111111,
              "#46039f"
             ],
             [
              0.2222222222222222,
              "#7201a8"
             ],
             [
              0.3333333333333333,
              "#9c179e"
             ],
             [
              0.4444444444444444,
              "#bd3786"
             ],
             [
              0.5555555555555556,
              "#d8576b"
             ],
             [
              0.6666666666666666,
              "#ed7953"
             ],
             [
              0.7777777777777778,
              "#fb9f3a"
             ],
             [
              0.8888888888888888,
              "#fdca26"
             ],
             [
              1,
              "#f0f921"
             ]
            ],
            "type": "heatmap"
           }
          ],
          "heatmapgl": [
           {
            "colorbar": {
             "outlinewidth": 0,
             "ticks": ""
            },
            "colorscale": [
             [
              0,
              "#0d0887"
             ],
             [
              0.1111111111111111,
              "#46039f"
             ],
             [
              0.2222222222222222,
              "#7201a8"
             ],
             [
              0.3333333333333333,
              "#9c179e"
             ],
             [
              0.4444444444444444,
              "#bd3786"
             ],
             [
              0.5555555555555556,
              "#d8576b"
             ],
             [
              0.6666666666666666,
              "#ed7953"
             ],
             [
              0.7777777777777778,
              "#fb9f3a"
             ],
             [
              0.8888888888888888,
              "#fdca26"
             ],
             [
              1,
              "#f0f921"
             ]
            ],
            "type": "heatmapgl"
           }
          ],
          "histogram": [
           {
            "marker": {
             "pattern": {
              "fillmode": "overlay",
              "size": 10,
              "solidity": 0.2
             }
            },
            "type": "histogram"
           }
          ],
          "histogram2d": [
           {
            "colorbar": {
             "outlinewidth": 0,
             "ticks": ""
            },
            "colorscale": [
             [
              0,
              "#0d0887"
             ],
             [
              0.1111111111111111,
              "#46039f"
             ],
             [
              0.2222222222222222,
              "#7201a8"
             ],
             [
              0.3333333333333333,
              "#9c179e"
             ],
             [
              0.4444444444444444,
              "#bd3786"
             ],
             [
              0.5555555555555556,
              "#d8576b"
             ],
             [
              0.6666666666666666,
              "#ed7953"
             ],
             [
              0.7777777777777778,
              "#fb9f3a"
             ],
             [
              0.8888888888888888,
              "#fdca26"
             ],
             [
              1,
              "#f0f921"
             ]
            ],
            "type": "histogram2d"
           }
          ],
          "histogram2dcontour": [
           {
            "colorbar": {
             "outlinewidth": 0,
             "ticks": ""
            },
            "colorscale": [
             [
              0,
              "#0d0887"
             ],
             [
              0.1111111111111111,
              "#46039f"
             ],
             [
              0.2222222222222222,
              "#7201a8"
             ],
             [
              0.3333333333333333,
              "#9c179e"
             ],
             [
              0.4444444444444444,
              "#bd3786"
             ],
             [
              0.5555555555555556,
              "#d8576b"
             ],
             [
              0.6666666666666666,
              "#ed7953"
             ],
             [
              0.7777777777777778,
              "#fb9f3a"
             ],
             [
              0.8888888888888888,
              "#fdca26"
             ],
             [
              1,
              "#f0f921"
             ]
            ],
            "type": "histogram2dcontour"
           }
          ],
          "mesh3d": [
           {
            "colorbar": {
             "outlinewidth": 0,
             "ticks": ""
            },
            "type": "mesh3d"
           }
          ],
          "parcoords": [
           {
            "line": {
             "colorbar": {
              "outlinewidth": 0,
              "ticks": ""
             }
            },
            "type": "parcoords"
           }
          ],
          "pie": [
           {
            "automargin": true,
            "type": "pie"
           }
          ],
          "scatter": [
           {
            "marker": {
             "colorbar": {
              "outlinewidth": 0,
              "ticks": ""
             }
            },
            "type": "scatter"
           }
          ],
          "scatter3d": [
           {
            "line": {
             "colorbar": {
              "outlinewidth": 0,
              "ticks": ""
             }
            },
            "marker": {
             "colorbar": {
              "outlinewidth": 0,
              "ticks": ""
             }
            },
            "type": "scatter3d"
           }
          ],
          "scattercarpet": [
           {
            "marker": {
             "colorbar": {
              "outlinewidth": 0,
              "ticks": ""
             }
            },
            "type": "scattercarpet"
           }
          ],
          "scattergeo": [
           {
            "marker": {
             "colorbar": {
              "outlinewidth": 0,
              "ticks": ""
             }
            },
            "type": "scattergeo"
           }
          ],
          "scattergl": [
           {
            "marker": {
             "colorbar": {
              "outlinewidth": 0,
              "ticks": ""
             }
            },
            "type": "scattergl"
           }
          ],
          "scattermapbox": [
           {
            "marker": {
             "colorbar": {
              "outlinewidth": 0,
              "ticks": ""
             }
            },
            "type": "scattermapbox"
           }
          ],
          "scatterpolar": [
           {
            "marker": {
             "colorbar": {
              "outlinewidth": 0,
              "ticks": ""
             }
            },
            "type": "scatterpolar"
           }
          ],
          "scatterpolargl": [
           {
            "marker": {
             "colorbar": {
              "outlinewidth": 0,
              "ticks": ""
             }
            },
            "type": "scatterpolargl"
           }
          ],
          "scatterternary": [
           {
            "marker": {
             "colorbar": {
              "outlinewidth": 0,
              "ticks": ""
             }
            },
            "type": "scatterternary"
           }
          ],
          "surface": [
           {
            "colorbar": {
             "outlinewidth": 0,
             "ticks": ""
            },
            "colorscale": [
             [
              0,
              "#0d0887"
             ],
             [
              0.1111111111111111,
              "#46039f"
             ],
             [
              0.2222222222222222,
              "#7201a8"
             ],
             [
              0.3333333333333333,
              "#9c179e"
             ],
             [
              0.4444444444444444,
              "#bd3786"
             ],
             [
              0.5555555555555556,
              "#d8576b"
             ],
             [
              0.6666666666666666,
              "#ed7953"
             ],
             [
              0.7777777777777778,
              "#fb9f3a"
             ],
             [
              0.8888888888888888,
              "#fdca26"
             ],
             [
              1,
              "#f0f921"
             ]
            ],
            "type": "surface"
           }
          ],
          "table": [
           {
            "cells": {
             "fill": {
              "color": "#EBF0F8"
             },
             "line": {
              "color": "white"
             }
            },
            "header": {
             "fill": {
              "color": "#C8D4E3"
             },
             "line": {
              "color": "white"
             }
            },
            "type": "table"
           }
          ]
         },
         "layout": {
          "annotationdefaults": {
           "arrowcolor": "#2a3f5f",
           "arrowhead": 0,
           "arrowwidth": 1
          },
          "autotypenumbers": "strict",
          "coloraxis": {
           "colorbar": {
            "outlinewidth": 0,
            "ticks": ""
           }
          },
          "colorscale": {
           "diverging": [
            [
             0,
             "#8e0152"
            ],
            [
             0.1,
             "#c51b7d"
            ],
            [
             0.2,
             "#de77ae"
            ],
            [
             0.3,
             "#f1b6da"
            ],
            [
             0.4,
             "#fde0ef"
            ],
            [
             0.5,
             "#f7f7f7"
            ],
            [
             0.6,
             "#e6f5d0"
            ],
            [
             0.7,
             "#b8e186"
            ],
            [
             0.8,
             "#7fbc41"
            ],
            [
             0.9,
             "#4d9221"
            ],
            [
             1,
             "#276419"
            ]
           ],
           "sequential": [
            [
             0,
             "#0d0887"
            ],
            [
             0.1111111111111111,
             "#46039f"
            ],
            [
             0.2222222222222222,
             "#7201a8"
            ],
            [
             0.3333333333333333,
             "#9c179e"
            ],
            [
             0.4444444444444444,
             "#bd3786"
            ],
            [
             0.5555555555555556,
             "#d8576b"
            ],
            [
             0.6666666666666666,
             "#ed7953"
            ],
            [
             0.7777777777777778,
             "#fb9f3a"
            ],
            [
             0.8888888888888888,
             "#fdca26"
            ],
            [
             1,
             "#f0f921"
            ]
           ],
           "sequentialminus": [
            [
             0,
             "#0d0887"
            ],
            [
             0.1111111111111111,
             "#46039f"
            ],
            [
             0.2222222222222222,
             "#7201a8"
            ],
            [
             0.3333333333333333,
             "#9c179e"
            ],
            [
             0.4444444444444444,
             "#bd3786"
            ],
            [
             0.5555555555555556,
             "#d8576b"
            ],
            [
             0.6666666666666666,
             "#ed7953"
            ],
            [
             0.7777777777777778,
             "#fb9f3a"
            ],
            [
             0.8888888888888888,
             "#fdca26"
            ],
            [
             1,
             "#f0f921"
            ]
           ]
          },
          "colorway": [
           "#636efa",
           "#EF553B",
           "#00cc96",
           "#ab63fa",
           "#FFA15A",
           "#19d3f3",
           "#FF6692",
           "#B6E880",
           "#FF97FF",
           "#FECB52"
          ],
          "font": {
           "color": "#2a3f5f"
          },
          "geo": {
           "bgcolor": "white",
           "lakecolor": "white",
           "landcolor": "#E5ECF6",
           "showlakes": true,
           "showland": true,
           "subunitcolor": "white"
          },
          "hoverlabel": {
           "align": "left"
          },
          "hovermode": "closest",
          "mapbox": {
           "style": "light"
          },
          "paper_bgcolor": "white",
          "plot_bgcolor": "#E5ECF6",
          "polar": {
           "angularaxis": {
            "gridcolor": "white",
            "linecolor": "white",
            "ticks": ""
           },
           "bgcolor": "#E5ECF6",
           "radialaxis": {
            "gridcolor": "white",
            "linecolor": "white",
            "ticks": ""
           }
          },
          "scene": {
           "xaxis": {
            "backgroundcolor": "#E5ECF6",
            "gridcolor": "white",
            "gridwidth": 2,
            "linecolor": "white",
            "showbackground": true,
            "ticks": "",
            "zerolinecolor": "white"
           },
           "yaxis": {
            "backgroundcolor": "#E5ECF6",
            "gridcolor": "white",
            "gridwidth": 2,
            "linecolor": "white",
            "showbackground": true,
            "ticks": "",
            "zerolinecolor": "white"
           },
           "zaxis": {
            "backgroundcolor": "#E5ECF6",
            "gridcolor": "white",
            "gridwidth": 2,
            "linecolor": "white",
            "showbackground": true,
            "ticks": "",
            "zerolinecolor": "white"
           }
          },
          "shapedefaults": {
           "line": {
            "color": "#2a3f5f"
           }
          },
          "ternary": {
           "aaxis": {
            "gridcolor": "white",
            "linecolor": "white",
            "ticks": ""
           },
           "baxis": {
            "gridcolor": "white",
            "linecolor": "white",
            "ticks": ""
           },
           "bgcolor": "#E5ECF6",
           "caxis": {
            "gridcolor": "white",
            "linecolor": "white",
            "ticks": ""
           }
          },
          "title": {
           "x": 0.05
          },
          "xaxis": {
           "automargin": true,
           "gridcolor": "white",
           "linecolor": "white",
           "ticks": "",
           "title": {
            "standoff": 15
           },
           "zerolinecolor": "white",
           "zerolinewidth": 2
          },
          "yaxis": {
           "automargin": true,
           "gridcolor": "white",
           "linecolor": "white",
           "ticks": "",
           "title": {
            "standoff": 15
           },
           "zerolinecolor": "white",
           "zerolinewidth": 2
          }
         }
        },
        "xaxis": {
         "anchor": "y",
         "domain": [
          0,
          1
         ],
         "title": {
          "text": "State/UTs"
         }
        },
        "yaxis": {
         "anchor": "x",
         "domain": [
          0,
          1
         ],
         "title": {
          "text": "Total Cases"
         }
        }
       }
      },
      "text/html": [
       "<div>                            <div id=\"93a230b1-f098-4c2d-8317-b22887e6d7ac\" class=\"plotly-graph-div\" style=\"height:525px; width:100%;\"></div>            <script type=\"text/javascript\">                require([\"plotly\"], function(Plotly) {                    window.PLOTLYENV=window.PLOTLYENV || {};                                    if (document.getElementById(\"93a230b1-f098-4c2d-8317-b22887e6d7ac\")) {                    Plotly.newPlot(                        \"93a230b1-f098-4c2d-8317-b22887e6d7ac\",                        [{\"hovertemplate\":\"State/UTs=%{x}<br>Total Cases=%{y}<extra></extra>\",\"legendgroup\":\"\",\"marker\":{\"color\":\"#636efa\",\"symbol\":\"circle\"},\"mode\":\"markers\",\"name\":\"\",\"orientation\":\"v\",\"showlegend\":false,\"x\":[\"Andaman and Nicobar\",\"Andhra Pradesh\",\"Arunachal Pradesh\",\"Assam\",\"Bihar\",\"Chandigarh\",\"Chhattisgarh\",\"Dadra and Nagar Haveli and Daman and Diu\",\"Delhi\",\"Goa\",\"Gujarat\",\"Haryana\",\"Himachal Pradesh\",\"Jammu and Kashmir\",\"Jharkhand\",\"Karnataka\",\"Kerala\",\"Ladakh\",\"Lakshadweep\",\"Madhya Pradesh\",\"Maharashtra\",\"Manipur\",\"Meghalaya\",\"Mizoram\",\"Nagaland\",\"Odisha\",\"Puducherry\",\"Punjab\",\"Rajasthan\",\"Sikkim\",\"Tamil Nadu\",\"Telengana\",\"Tripura\",\"Uttar Pradesh\",\"Uttarakhand\",\"West Bengal\"],\"xaxis\":\"x\",\"y\":[10502,2333710,66246,741541,844997,97442,1169532,11557,1970899,253162,1261922,1036795,305383,470201,441010,4021106,6730762,29021,11415,1051447,8060737,139377,95925,234387,35838,1319527,171651,777362,1297814,42784,3553670,826284,107419,2108686,445106,2099433],\"yaxis\":\"y\",\"type\":\"scatter\"}],                        {\"template\":{\"data\":{\"bar\":[{\"error_x\":{\"color\":\"#2a3f5f\"},\"error_y\":{\"color\":\"#2a3f5f\"},\"marker\":{\"line\":{\"color\":\"#E5ECF6\",\"width\":0.5},\"pattern\":{\"fillmode\":\"overlay\",\"size\":10,\"solidity\":0.2}},\"type\":\"bar\"}],\"barpolar\":[{\"marker\":{\"line\":{\"color\":\"#E5ECF6\",\"width\":0.5},\"pattern\":{\"fillmode\":\"overlay\",\"size\":10,\"solidity\":0.2}},\"type\":\"barpolar\"}],\"carpet\":[{\"aaxis\":{\"endlinecolor\":\"#2a3f5f\",\"gridcolor\":\"white\",\"linecolor\":\"white\",\"minorgridcolor\":\"white\",\"startlinecolor\":\"#2a3f5f\"},\"baxis\":{\"endlinecolor\":\"#2a3f5f\",\"gridcolor\":\"white\",\"linecolor\":\"white\",\"minorgridcolor\":\"white\",\"startlinecolor\":\"#2a3f5f\"},\"type\":\"carpet\"}],\"choropleth\":[{\"colorbar\":{\"outlinewidth\":0,\"ticks\":\"\"},\"type\":\"choropleth\"}],\"contour\":[{\"colorbar\":{\"outlinewidth\":0,\"ticks\":\"\"},\"colorscale\":[[0.0,\"#0d0887\"],[0.1111111111111111,\"#46039f\"],[0.2222222222222222,\"#7201a8\"],[0.3333333333333333,\"#9c179e\"],[0.4444444444444444,\"#bd3786\"],[0.5555555555555556,\"#d8576b\"],[0.6666666666666666,\"#ed7953\"],[0.7777777777777778,\"#fb9f3a\"],[0.8888888888888888,\"#fdca26\"],[1.0,\"#f0f921\"]],\"type\":\"contour\"}],\"contourcarpet\":[{\"colorbar\":{\"outlinewidth\":0,\"ticks\":\"\"},\"type\":\"contourcarpet\"}],\"heatmap\":[{\"colorbar\":{\"outlinewidth\":0,\"ticks\":\"\"},\"colorscale\":[[0.0,\"#0d0887\"],[0.1111111111111111,\"#46039f\"],[0.2222222222222222,\"#7201a8\"],[0.3333333333333333,\"#9c179e\"],[0.4444444444444444,\"#bd3786\"],[0.5555555555555556,\"#d8576b\"],[0.6666666666666666,\"#ed7953\"],[0.7777777777777778,\"#fb9f3a\"],[0.8888888888888888,\"#fdca26\"],[1.0,\"#f0f921\"]],\"type\":\"heatmap\"}],\"heatmapgl\":[{\"colorbar\":{\"outlinewidth\":0,\"ticks\":\"\"},\"colorscale\":[[0.0,\"#0d0887\"],[0.1111111111111111,\"#46039f\"],[0.2222222222222222,\"#7201a8\"],[0.3333333333333333,\"#9c179e\"],[0.4444444444444444,\"#bd3786\"],[0.5555555555555556,\"#d8576b\"],[0.6666666666666666,\"#ed7953\"],[0.7777777777777778,\"#fb9f3a\"],[0.8888888888888888,\"#fdca26\"],[1.0,\"#f0f921\"]],\"type\":\"heatmapgl\"}],\"histogram\":[{\"marker\":{\"pattern\":{\"fillmode\":\"overlay\",\"size\":10,\"solidity\":0.2}},\"type\":\"histogram\"}],\"histogram2d\":[{\"colorbar\":{\"outlinewidth\":0,\"ticks\":\"\"},\"colorscale\":[[0.0,\"#0d0887\"],[0.1111111111111111,\"#46039f\"],[0.2222222222222222,\"#7201a8\"],[0.3333333333333333,\"#9c179e\"],[0.4444444444444444,\"#bd3786\"],[0.5555555555555556,\"#d8576b\"],[0.6666666666666666,\"#ed7953\"],[0.7777777777777778,\"#fb9f3a\"],[0.8888888888888888,\"#fdca26\"],[1.0,\"#f0f921\"]],\"type\":\"histogram2d\"}],\"histogram2dcontour\":[{\"colorbar\":{\"outlinewidth\":0,\"ticks\":\"\"},\"colorscale\":[[0.0,\"#0d0887\"],[0.1111111111111111,\"#46039f\"],[0.2222222222222222,\"#7201a8\"],[0.3333333333333333,\"#9c179e\"],[0.4444444444444444,\"#bd3786\"],[0.5555555555555556,\"#d8576b\"],[0.6666666666666666,\"#ed7953\"],[0.7777777777777778,\"#fb9f3a\"],[0.8888888888888888,\"#fdca26\"],[1.0,\"#f0f921\"]],\"type\":\"histogram2dcontour\"}],\"mesh3d\":[{\"colorbar\":{\"outlinewidth\":0,\"ticks\":\"\"},\"type\":\"mesh3d\"}],\"parcoords\":[{\"line\":{\"colorbar\":{\"outlinewidth\":0,\"ticks\":\"\"}},\"type\":\"parcoords\"}],\"pie\":[{\"automargin\":true,\"type\":\"pie\"}],\"scatter\":[{\"marker\":{\"colorbar\":{\"outlinewidth\":0,\"ticks\":\"\"}},\"type\":\"scatter\"}],\"scatter3d\":[{\"line\":{\"colorbar\":{\"outlinewidth\":0,\"ticks\":\"\"}},\"marker\":{\"colorbar\":{\"outlinewidth\":0,\"ticks\":\"\"}},\"type\":\"scatter3d\"}],\"scattercarpet\":[{\"marker\":{\"colorbar\":{\"outlinewidth\":0,\"ticks\":\"\"}},\"type\":\"scattercarpet\"}],\"scattergeo\":[{\"marker\":{\"colorbar\":{\"outlinewidth\":0,\"ticks\":\"\"}},\"type\":\"scattergeo\"}],\"scattergl\":[{\"marker\":{\"colorbar\":{\"outlinewidth\":0,\"ticks\":\"\"}},\"type\":\"scattergl\"}],\"scattermapbox\":[{\"marker\":{\"colorbar\":{\"outlinewidth\":0,\"ticks\":\"\"}},\"type\":\"scattermapbox\"}],\"scatterpolar\":[{\"marker\":{\"colorbar\":{\"outlinewidth\":0,\"ticks\":\"\"}},\"type\":\"scatterpolar\"}],\"scatterpolargl\":[{\"marker\":{\"colorbar\":{\"outlinewidth\":0,\"ticks\":\"\"}},\"type\":\"scatterpolargl\"}],\"scatterternary\":[{\"marker\":{\"colorbar\":{\"outlinewidth\":0,\"ticks\":\"\"}},\"type\":\"scatterternary\"}],\"surface\":[{\"colorbar\":{\"outlinewidth\":0,\"ticks\":\"\"},\"colorscale\":[[0.0,\"#0d0887\"],[0.1111111111111111,\"#46039f\"],[0.2222222222222222,\"#7201a8\"],[0.3333333333333333,\"#9c179e\"],[0.4444444444444444,\"#bd3786\"],[0.5555555555555556,\"#d8576b\"],[0.6666666666666666,\"#ed7953\"],[0.7777777777777778,\"#fb9f3a\"],[0.8888888888888888,\"#fdca26\"],[1.0,\"#f0f921\"]],\"type\":\"surface\"}],\"table\":[{\"cells\":{\"fill\":{\"color\":\"#EBF0F8\"},\"line\":{\"color\":\"white\"}},\"header\":{\"fill\":{\"color\":\"#C8D4E3\"},\"line\":{\"color\":\"white\"}},\"type\":\"table\"}]},\"layout\":{\"annotationdefaults\":{\"arrowcolor\":\"#2a3f5f\",\"arrowhead\":0,\"arrowwidth\":1},\"autotypenumbers\":\"strict\",\"coloraxis\":{\"colorbar\":{\"outlinewidth\":0,\"ticks\":\"\"}},\"colorscale\":{\"diverging\":[[0,\"#8e0152\"],[0.1,\"#c51b7d\"],[0.2,\"#de77ae\"],[0.3,\"#f1b6da\"],[0.4,\"#fde0ef\"],[0.5,\"#f7f7f7\"],[0.6,\"#e6f5d0\"],[0.7,\"#b8e186\"],[0.8,\"#7fbc41\"],[0.9,\"#4d9221\"],[1,\"#276419\"]],\"sequential\":[[0.0,\"#0d0887\"],[0.1111111111111111,\"#46039f\"],[0.2222222222222222,\"#7201a8\"],[0.3333333333333333,\"#9c179e\"],[0.4444444444444444,\"#bd3786\"],[0.5555555555555556,\"#d8576b\"],[0.6666666666666666,\"#ed7953\"],[0.7777777777777778,\"#fb9f3a\"],[0.8888888888888888,\"#fdca26\"],[1.0,\"#f0f921\"]],\"sequentialminus\":[[0.0,\"#0d0887\"],[0.1111111111111111,\"#46039f\"],[0.2222222222222222,\"#7201a8\"],[0.3333333333333333,\"#9c179e\"],[0.4444444444444444,\"#bd3786\"],[0.5555555555555556,\"#d8576b\"],[0.6666666666666666,\"#ed7953\"],[0.7777777777777778,\"#fb9f3a\"],[0.8888888888888888,\"#fdca26\"],[1.0,\"#f0f921\"]]},\"colorway\":[\"#636efa\",\"#EF553B\",\"#00cc96\",\"#ab63fa\",\"#FFA15A\",\"#19d3f3\",\"#FF6692\",\"#B6E880\",\"#FF97FF\",\"#FECB52\"],\"font\":{\"color\":\"#2a3f5f\"},\"geo\":{\"bgcolor\":\"white\",\"lakecolor\":\"white\",\"landcolor\":\"#E5ECF6\",\"showlakes\":true,\"showland\":true,\"subunitcolor\":\"white\"},\"hoverlabel\":{\"align\":\"left\"},\"hovermode\":\"closest\",\"mapbox\":{\"style\":\"light\"},\"paper_bgcolor\":\"white\",\"plot_bgcolor\":\"#E5ECF6\",\"polar\":{\"angularaxis\":{\"gridcolor\":\"white\",\"linecolor\":\"white\",\"ticks\":\"\"},\"bgcolor\":\"#E5ECF6\",\"radialaxis\":{\"gridcolor\":\"white\",\"linecolor\":\"white\",\"ticks\":\"\"}},\"scene\":{\"xaxis\":{\"backgroundcolor\":\"#E5ECF6\",\"gridcolor\":\"white\",\"gridwidth\":2,\"linecolor\":\"white\",\"showbackground\":true,\"ticks\":\"\",\"zerolinecolor\":\"white\"},\"yaxis\":{\"backgroundcolor\":\"#E5ECF6\",\"gridcolor\":\"white\",\"gridwidth\":2,\"linecolor\":\"white\",\"showbackground\":true,\"ticks\":\"\",\"zerolinecolor\":\"white\"},\"zaxis\":{\"backgroundcolor\":\"#E5ECF6\",\"gridcolor\":\"white\",\"gridwidth\":2,\"linecolor\":\"white\",\"showbackground\":true,\"ticks\":\"\",\"zerolinecolor\":\"white\"}},\"shapedefaults\":{\"line\":{\"color\":\"#2a3f5f\"}},\"ternary\":{\"aaxis\":{\"gridcolor\":\"white\",\"linecolor\":\"white\",\"ticks\":\"\"},\"baxis\":{\"gridcolor\":\"white\",\"linecolor\":\"white\",\"ticks\":\"\"},\"bgcolor\":\"#E5ECF6\",\"caxis\":{\"gridcolor\":\"white\",\"linecolor\":\"white\",\"ticks\":\"\"}},\"title\":{\"x\":0.05},\"xaxis\":{\"automargin\":true,\"gridcolor\":\"white\",\"linecolor\":\"white\",\"ticks\":\"\",\"title\":{\"standoff\":15},\"zerolinecolor\":\"white\",\"zerolinewidth\":2},\"yaxis\":{\"automargin\":true,\"gridcolor\":\"white\",\"linecolor\":\"white\",\"ticks\":\"\",\"title\":{\"standoff\":15},\"zerolinecolor\":\"white\",\"zerolinewidth\":2}}},\"xaxis\":{\"anchor\":\"y\",\"domain\":[0.0,1.0],\"title\":{\"text\":\"State/UTs\"}},\"yaxis\":{\"anchor\":\"x\",\"domain\":[0.0,1.0],\"title\":{\"text\":\"Total Cases\"}},\"legend\":{\"tracegroupgap\":0},\"margin\":{\"t\":60}},                        {\"responsive\": true}                    ).then(function(){\n",
       "                            \n",
       "var gd = document.getElementById('93a230b1-f098-4c2d-8317-b22887e6d7ac');\n",
       "var x = new MutationObserver(function (mutations, observer) {{\n",
       "        var display = window.getComputedStyle(gd).display;\n",
       "        if (!display || display === 'none') {{\n",
       "            console.log([gd, 'removed!']);\n",
       "            Plotly.purge(gd);\n",
       "            observer.disconnect();\n",
       "        }}\n",
       "}});\n",
       "\n",
       "// Listen for the removal of the full notebook cells\n",
       "var notebookContainer = gd.closest('#notebook-container');\n",
       "if (notebookContainer) {{\n",
       "    x.observe(notebookContainer, {childList: true});\n",
       "}}\n",
       "\n",
       "// Listen for the clearing of the current output cell\n",
       "var outputEl = gd.closest('.output');\n",
       "if (outputEl) {{\n",
       "    x.observe(outputEl, {childList: true});\n",
       "}}\n",
       "\n",
       "                        })                };                });            </script>        </div>"
      ]
     },
     "metadata": {},
     "output_type": "display_data"
    }
   ],
   "source": [
    "df.iplot(kind='scatter', x='State/UTs',y='Total Cases',mode='markers+lines')\n",
    "px.scatter(df,x='State/UTs',y='Total Cases')"
   ]
  },
  {
   "cell_type": "code",
   "execution_count": 25,
   "id": "f970ad5b",
   "metadata": {},
   "outputs": [],
   "source": [
    "######### OBJECT ORIENTED FOR PLOTLY AND MATPLOTLIB"
   ]
  },
  {
   "cell_type": "code",
   "execution_count": 26,
   "id": "0ebdbf1c",
   "metadata": {},
   "outputs": [
    {
     "data": {
      "text/plain": [
       "<BarContainer object of 36 artists>"
      ]
     },
     "execution_count": 26,
     "metadata": {},
     "output_type": "execute_result"
    },
    {
     "data": {
      "image/png": "[encoded data removed]",
      "text/plain": [
       "<Figure size 1224x1080 with 1 Axes>"
      ]
     },
     "metadata": {
      "needs_background": "light"
     },
     "output_type": "display_data"
    }
   ],
   "source": [
    "fig=plt.figure()\n",
    "axes=fig.add_axes([0,0,1,1])\n",
    "axes.bar(df['State/UTs'],df['Total Cases'])"
   ]
  },
  {
   "cell_type": "code",
   "execution_count": 27,
   "id": "9565c7e0",
   "metadata": {},
   "outputs": [
    {
     "data": {
      "text/html": [
       "<div>\n",
       "<style scoped>\n",
       "    .dataframe tbody tr th:only-of-type {\n",
       "        vertical-align: middle;\n",
       "    }\n",
       "\n",
       "    .dataframe tbody tr th {\n",
       "        vertical-align: top;\n",
       "    }\n",
       "\n",
       "    .dataframe thead th {\n",
       "        text-align: right;\n",
       "    }\n",
       "</style>\n",
       "<table border=\"1\" class=\"dataframe\">\n",
       "  <thead>\n",
       "    <tr style=\"text-align: right;\">\n",
       "      <th></th>\n",
       "      <th>State/UTs</th>\n",
       "      <th>Total Cases</th>\n",
       "      <th>Active</th>\n",
       "      <th>Discharged</th>\n",
       "      <th>Deaths</th>\n",
       "      <th>Active Ratio</th>\n",
       "      <th>Discharge Ratio</th>\n",
       "      <th>Death Ratio</th>\n",
       "      <th>Population</th>\n",
       "      <th>Total cases</th>\n",
       "    </tr>\n",
       "  </thead>\n",
       "  <tbody>\n",
       "    <tr>\n",
       "      <th>0</th>\n",
       "      <td>Andaman and Nicobar</td>\n",
       "      <td>10502</td>\n",
       "      <td>40</td>\n",
       "      <td>10333</td>\n",
       "      <td>129</td>\n",
       "      <td>0.38</td>\n",
       "      <td>98.39</td>\n",
       "      <td>1.23</td>\n",
       "      <td>100896618</td>\n",
       "      <td>10462</td>\n",
       "    </tr>\n",
       "    <tr>\n",
       "      <th>1</th>\n",
       "      <td>Andhra Pradesh</td>\n",
       "      <td>2333710</td>\n",
       "      <td>1453</td>\n",
       "      <td>2317524</td>\n",
       "      <td>14733</td>\n",
       "      <td>0.06</td>\n",
       "      <td>99.31</td>\n",
       "      <td>0.63</td>\n",
       "      <td>128500364</td>\n",
       "      <td>2332257</td>\n",
       "    </tr>\n",
       "    <tr>\n",
       "      <th>2</th>\n",
       "      <td>Arunachal Pradesh</td>\n",
       "      <td>66246</td>\n",
       "      <td>295</td>\n",
       "      <td>65655</td>\n",
       "      <td>296</td>\n",
       "      <td>0.45</td>\n",
       "      <td>99.11</td>\n",
       "      <td>0.45</td>\n",
       "      <td>658019</td>\n",
       "      <td>65951</td>\n",
       "    </tr>\n",
       "    <tr>\n",
       "      <th>3</th>\n",
       "      <td>Assam</td>\n",
       "      <td>741541</td>\n",
       "      <td>4006</td>\n",
       "      <td>729513</td>\n",
       "      <td>8022</td>\n",
       "      <td>0.54</td>\n",
       "      <td>98.38</td>\n",
       "      <td>1.08</td>\n",
       "      <td>290492</td>\n",
       "      <td>737535</td>\n",
       "    </tr>\n",
       "    <tr>\n",
       "      <th>4</th>\n",
       "      <td>Bihar</td>\n",
       "      <td>844997</td>\n",
       "      <td>1024</td>\n",
       "      <td>831688</td>\n",
       "      <td>12285</td>\n",
       "      <td>0.12</td>\n",
       "      <td>98.42</td>\n",
       "      <td>1.45</td>\n",
       "      <td>40100376</td>\n",
       "      <td>843973</td>\n",
       "    </tr>\n",
       "    <tr>\n",
       "      <th>5</th>\n",
       "      <td>Chandigarh</td>\n",
       "      <td>97442</td>\n",
       "      <td>772</td>\n",
       "      <td>95499</td>\n",
       "      <td>1171</td>\n",
       "      <td>0.79</td>\n",
       "      <td>98.01</td>\n",
       "      <td>1.20</td>\n",
       "      <td>30501026</td>\n",
       "      <td>96670</td>\n",
       "    </tr>\n",
       "    <tr>\n",
       "      <th>6</th>\n",
       "      <td>Chhattisgarh</td>\n",
       "      <td>1169532</td>\n",
       "      <td>3282</td>\n",
       "      <td>1152169</td>\n",
       "      <td>14081</td>\n",
       "      <td>0.28</td>\n",
       "      <td>98.52</td>\n",
       "      <td>1.20</td>\n",
       "      <td>28900667</td>\n",
       "      <td>1166250</td>\n",
       "    </tr>\n",
       "    <tr>\n",
       "      <th>7</th>\n",
       "      <td>Dadra and Nagar Haveli and Daman and Diu</td>\n",
       "      <td>11557</td>\n",
       "      <td>23</td>\n",
       "      <td>11530</td>\n",
       "      <td>4</td>\n",
       "      <td>0.20</td>\n",
       "      <td>99.77</td>\n",
       "      <td>0.03</td>\n",
       "      <td>231502578</td>\n",
       "      <td>11534</td>\n",
       "    </tr>\n",
       "    <tr>\n",
       "      <th>8</th>\n",
       "      <td>Delhi</td>\n",
       "      <td>1970899</td>\n",
       "      <td>7484</td>\n",
       "      <td>1937079</td>\n",
       "      <td>26336</td>\n",
       "      <td>0.38</td>\n",
       "      <td>98.28</td>\n",
       "      <td>1.34</td>\n",
       "      <td>773997</td>\n",
       "      <td>1963415</td>\n",
       "    </tr>\n",
       "    <tr>\n",
       "      <th>9</th>\n",
       "      <td>Goa</td>\n",
       "      <td>253162</td>\n",
       "      <td>1046</td>\n",
       "      <td>248261</td>\n",
       "      <td>3855</td>\n",
       "      <td>0.41</td>\n",
       "      <td>98.06</td>\n",
       "      <td>1.52</td>\n",
       "      <td>3772103</td>\n",
       "      <td>252116</td>\n",
       "    </tr>\n",
       "    <tr>\n",
       "      <th>10</th>\n",
       "      <td>Gujarat</td>\n",
       "      <td>1261922</td>\n",
       "      <td>5862</td>\n",
       "      <td>1245080</td>\n",
       "      <td>10980</td>\n",
       "      <td>0.46</td>\n",
       "      <td>98.67</td>\n",
       "      <td>0.87</td>\n",
       "      <td>70400153</td>\n",
       "      <td>1256060</td>\n",
       "    </tr>\n",
       "    <tr>\n",
       "      <th>11</th>\n",
       "      <td>Haryana</td>\n",
       "      <td>1036795</td>\n",
       "      <td>4598</td>\n",
       "      <td>1021547</td>\n",
       "      <td>10650</td>\n",
       "      <td>0.44</td>\n",
       "      <td>98.53</td>\n",
       "      <td>1.03</td>\n",
       "      <td>14999397</td>\n",
       "      <td>1032197</td>\n",
       "    </tr>\n",
       "    <tr>\n",
       "      <th>12</th>\n",
       "      <td>Himachal Pradesh</td>\n",
       "      <td>305383</td>\n",
       "      <td>4919</td>\n",
       "      <td>296287</td>\n",
       "      <td>4177</td>\n",
       "      <td>1.61</td>\n",
       "      <td>97.02</td>\n",
       "      <td>1.37</td>\n",
       "      <td>3436948</td>\n",
       "      <td>300464</td>\n",
       "    </tr>\n",
       "    <tr>\n",
       "      <th>13</th>\n",
       "      <td>Jammu and Kashmir</td>\n",
       "      <td>470201</td>\n",
       "      <td>5045</td>\n",
       "      <td>460380</td>\n",
       "      <td>4776</td>\n",
       "      <td>1.07</td>\n",
       "      <td>97.91</td>\n",
       "      <td>1.02</td>\n",
       "      <td>66001</td>\n",
       "      <td>465156</td>\n",
       "    </tr>\n",
       "    <tr>\n",
       "      <th>14</th>\n",
       "      <td>Jharkhand</td>\n",
       "      <td>441010</td>\n",
       "      <td>837</td>\n",
       "      <td>434845</td>\n",
       "      <td>5328</td>\n",
       "      <td>0.19</td>\n",
       "      <td>98.60</td>\n",
       "      <td>1.21</td>\n",
       "      <td>124904071</td>\n",
       "      <td>440173</td>\n",
       "    </tr>\n",
       "    <tr>\n",
       "      <th>15</th>\n",
       "      <td>Karnataka</td>\n",
       "      <td>4021106</td>\n",
       "      <td>11252</td>\n",
       "      <td>3969691</td>\n",
       "      <td>40163</td>\n",
       "      <td>0.28</td>\n",
       "      <td>98.72</td>\n",
       "      <td>1.00</td>\n",
       "      <td>1711947</td>\n",
       "      <td>4009854</td>\n",
       "    </tr>\n",
       "    <tr>\n",
       "      <th>16</th>\n",
       "      <td>Kerala</td>\n",
       "      <td>6730762</td>\n",
       "      <td>10179</td>\n",
       "      <td>6650001</td>\n",
       "      <td>70582</td>\n",
       "      <td>0.15</td>\n",
       "      <td>98.80</td>\n",
       "      <td>1.05</td>\n",
       "      <td>91702478</td>\n",
       "      <td>6720583</td>\n",
       "    </tr>\n",
       "    <tr>\n",
       "      <th>17</th>\n",
       "      <td>Ladakh</td>\n",
       "      <td>29021</td>\n",
       "      <td>118</td>\n",
       "      <td>28675</td>\n",
       "      <td>228</td>\n",
       "      <td>0.41</td>\n",
       "      <td>98.81</td>\n",
       "      <td>0.79</td>\n",
       "      <td>4184959</td>\n",
       "      <td>28903</td>\n",
       "    </tr>\n",
       "    <tr>\n",
       "      <th>18</th>\n",
       "      <td>Lakshadweep</td>\n",
       "      <td>11415</td>\n",
       "      <td>0</td>\n",
       "      <td>11363</td>\n",
       "      <td>52</td>\n",
       "      <td>0.00</td>\n",
       "      <td>99.54</td>\n",
       "      <td>0.46</td>\n",
       "      <td>11700099</td>\n",
       "      <td>11415</td>\n",
       "    </tr>\n",
       "    <tr>\n",
       "      <th>19</th>\n",
       "      <td>Madhya Pradesh</td>\n",
       "      <td>1051447</td>\n",
       "      <td>1349</td>\n",
       "      <td>1039336</td>\n",
       "      <td>10762</td>\n",
       "      <td>0.13</td>\n",
       "      <td>98.85</td>\n",
       "      <td>1.02</td>\n",
       "      <td>7503010</td>\n",
       "      <td>1050098</td>\n",
       "    </tr>\n",
       "    <tr>\n",
       "      <th>20</th>\n",
       "      <td>Maharashtra</td>\n",
       "      <td>8060737</td>\n",
       "      <td>11968</td>\n",
       "      <td>7900626</td>\n",
       "      <td>148143</td>\n",
       "      <td>0.15</td>\n",
       "      <td>98.01</td>\n",
       "      <td>1.84</td>\n",
       "      <td>399001</td>\n",
       "      <td>8048769</td>\n",
       "    </tr>\n",
       "    <tr>\n",
       "      <th>21</th>\n",
       "      <td>Manipur</td>\n",
       "      <td>139377</td>\n",
       "      <td>244</td>\n",
       "      <td>136995</td>\n",
       "      <td>2138</td>\n",
       "      <td>0.18</td>\n",
       "      <td>98.29</td>\n",
       "      <td>1.53</td>\n",
       "      <td>47099270</td>\n",
       "      <td>139133</td>\n",
       "    </tr>\n",
       "    <tr>\n",
       "      <th>22</th>\n",
       "      <td>Meghalaya</td>\n",
       "      <td>95925</td>\n",
       "      <td>686</td>\n",
       "      <td>93628</td>\n",
       "      <td>1611</td>\n",
       "      <td>0.72</td>\n",
       "      <td>97.61</td>\n",
       "      <td>1.68</td>\n",
       "      <td>79502477</td>\n",
       "      <td>95239</td>\n",
       "    </tr>\n",
       "    <tr>\n",
       "      <th>23</th>\n",
       "      <td>Mizoram</td>\n",
       "      <td>234387</td>\n",
       "      <td>1214</td>\n",
       "      <td>232461</td>\n",
       "      <td>712</td>\n",
       "      <td>0.52</td>\n",
       "      <td>99.18</td>\n",
       "      <td>0.30</td>\n",
       "      <td>1308967</td>\n",
       "      <td>233173</td>\n",
       "    </tr>\n",
       "    <tr>\n",
       "      <th>24</th>\n",
       "      <td>Nagaland</td>\n",
       "      <td>35838</td>\n",
       "      <td>54</td>\n",
       "      <td>35012</td>\n",
       "      <td>772</td>\n",
       "      <td>0.15</td>\n",
       "      <td>97.70</td>\n",
       "      <td>2.15</td>\n",
       "      <td>38157311</td>\n",
       "      <td>35784</td>\n",
       "    </tr>\n",
       "    <tr>\n",
       "      <th>25</th>\n",
       "      <td>Odisha</td>\n",
       "      <td>1319527</td>\n",
       "      <td>5851</td>\n",
       "      <td>1304527</td>\n",
       "      <td>9149</td>\n",
       "      <td>0.44</td>\n",
       "      <td>98.86</td>\n",
       "      <td>0.69</td>\n",
       "      <td>19301096</td>\n",
       "      <td>1313676</td>\n",
       "    </tr>\n",
       "    <tr>\n",
       "      <th>26</th>\n",
       "      <td>Puducherry</td>\n",
       "      <td>171651</td>\n",
       "      <td>640</td>\n",
       "      <td>169044</td>\n",
       "      <td>1967</td>\n",
       "      <td>0.37</td>\n",
       "      <td>98.48</td>\n",
       "      <td>1.15</td>\n",
       "      <td>2073074</td>\n",
       "      <td>171011</td>\n",
       "    </tr>\n",
       "    <tr>\n",
       "      <th>27</th>\n",
       "      <td>Punjab</td>\n",
       "      <td>777362</td>\n",
       "      <td>12429</td>\n",
       "      <td>747101</td>\n",
       "      <td>17832</td>\n",
       "      <td>1.60</td>\n",
       "      <td>96.11</td>\n",
       "      <td>2.29</td>\n",
       "      <td>34698876</td>\n",
       "      <td>764933</td>\n",
       "    </tr>\n",
       "    <tr>\n",
       "      <th>28</th>\n",
       "      <td>Rajasthan</td>\n",
       "      <td>1297814</td>\n",
       "      <td>3813</td>\n",
       "      <td>1284411</td>\n",
       "      <td>9590</td>\n",
       "      <td>0.29</td>\n",
       "      <td>98.97</td>\n",
       "      <td>0.74</td>\n",
       "      <td>1521992</td>\n",
       "      <td>1294001</td>\n",
       "    </tr>\n",
       "    <tr>\n",
       "      <th>29</th>\n",
       "      <td>Sikkim</td>\n",
       "      <td>42784</td>\n",
       "      <td>476</td>\n",
       "      <td>41834</td>\n",
       "      <td>474</td>\n",
       "      <td>1.11</td>\n",
       "      <td>97.78</td>\n",
       "      <td>1.11</td>\n",
       "      <td>83697770</td>\n",
       "      <td>42308</td>\n",
       "    </tr>\n",
       "    <tr>\n",
       "      <th>30</th>\n",
       "      <td>Tamil Nadu</td>\n",
       "      <td>3553670</td>\n",
       "      <td>9408</td>\n",
       "      <td>3506229</td>\n",
       "      <td>38033</td>\n",
       "      <td>0.26</td>\n",
       "      <td>98.67</td>\n",
       "      <td>1.07</td>\n",
       "      <td>35998752</td>\n",
       "      <td>3544262</td>\n",
       "    </tr>\n",
       "    <tr>\n",
       "      <th>31</th>\n",
       "      <td>Telengana</td>\n",
       "      <td>826284</td>\n",
       "      <td>5667</td>\n",
       "      <td>816506</td>\n",
       "      <td>4111</td>\n",
       "      <td>0.69</td>\n",
       "      <td>98.82</td>\n",
       "      <td>0.50</td>\n",
       "      <td>69599762</td>\n",
       "      <td>820617</td>\n",
       "    </tr>\n",
       "    <tr>\n",
       "      <th>32</th>\n",
       "      <td>Tripura</td>\n",
       "      <td>107419</td>\n",
       "      <td>653</td>\n",
       "      <td>105831</td>\n",
       "      <td>935</td>\n",
       "      <td>0.61</td>\n",
       "      <td>98.52</td>\n",
       "      <td>0.87</td>\n",
       "      <td>1646050</td>\n",
       "      <td>106766</td>\n",
       "    </tr>\n",
       "    <tr>\n",
       "      <th>33</th>\n",
       "      <td>Uttar Pradesh</td>\n",
       "      <td>2108686</td>\n",
       "      <td>5440</td>\n",
       "      <td>2079670</td>\n",
       "      <td>23576</td>\n",
       "      <td>0.26</td>\n",
       "      <td>98.62</td>\n",
       "      <td>1.12</td>\n",
       "      <td>1158040</td>\n",
       "      <td>2103246</td>\n",
       "    </tr>\n",
       "    <tr>\n",
       "      <th>34</th>\n",
       "      <td>Uttarakhand</td>\n",
       "      <td>445106</td>\n",
       "      <td>2378</td>\n",
       "      <td>435009</td>\n",
       "      <td>7719</td>\n",
       "      <td>0.53</td>\n",
       "      <td>97.73</td>\n",
       "      <td>1.73</td>\n",
       "      <td>85002417</td>\n",
       "      <td>442728</td>\n",
       "    </tr>\n",
       "    <tr>\n",
       "      <th>35</th>\n",
       "      <td>West Bengal</td>\n",
       "      <td>2099433</td>\n",
       "      <td>7302</td>\n",
       "      <td>2070731</td>\n",
       "      <td>21400</td>\n",
       "      <td>0.35</td>\n",
       "      <td>98.63</td>\n",
       "      <td>1.02</td>\n",
       "      <td>32199722</td>\n",
       "      <td>2092131</td>\n",
       "    </tr>\n",
       "  </tbody>\n",
       "</table>\n",
       "</div>"
      ],
      "text/plain": [
       "                                   State/UTs  Total Cases  Active  Discharged  \\\n",
       "0                        Andaman and Nicobar        10502      40       10333   \n",
       "1                             Andhra Pradesh      2333710    1453     2317524   \n",
       "2                          Arunachal Pradesh        66246     295       65655   \n",
       "3                                      Assam       741541    4006      729513   \n",
       "4                                      Bihar       844997    1024      831688   \n",
       "5                                 Chandigarh        97442     772       95499   \n",
       "6                               Chhattisgarh      1169532    3282     1152169   \n",
       "7   Dadra and Nagar Haveli and Daman and Diu        11557      23       11530   \n",
       "8                                      Delhi      1970899    7484     1937079   \n",
       "9                                        Goa       253162    1046      248261   \n",
       "10                                   Gujarat      1261922    5862     1245080   \n",
       "11                                   Haryana      1036795    4598     1021547   \n",
       "12                          Himachal Pradesh       305383    4919      296287   \n",
       "13                         Jammu and Kashmir       470201    5045      460380   \n",
       "14                                 Jharkhand       441010     837      434845   \n",
       "15                                 Karnataka      4021106   11252     3969691   \n",
       "16                                    Kerala      6730762   10179     6650001   \n",
       "17                                    Ladakh        29021     118       28675   \n",
       "18                               Lakshadweep        11415       0       11363   \n",
       "19                            Madhya Pradesh      1051447    1349     1039336   \n",
       "20                               Maharashtra      8060737   11968     7900626   \n",
       "21                                   Manipur       139377     244      136995   \n",
       "22                                 Meghalaya        95925     686       93628   \n",
       "23                                   Mizoram       234387    1214      232461   \n",
       "24                                  Nagaland        35838      54       35012   \n",
       "25                                    Odisha      1319527    5851     1304527   \n",
       "26                                Puducherry       171651     640      169044   \n",
       "27                                    Punjab       777362   12429      747101   \n",
       "28                                 Rajasthan      1297814    3813     1284411   \n",
       "29                                    Sikkim        42784     476       41834   \n",
       "30                                Tamil Nadu      3553670    9408     3506229   \n",
       "31                                 Telengana       826284    5667      816506   \n",
       "32                                   Tripura       107419     653      105831   \n",
       "33                             Uttar Pradesh      2108686    5440     2079670   \n",
       "34                               Uttarakhand       445106    2378      435009   \n",
       "35                               West Bengal      2099433    7302     2070731   \n",
       "\n",
       "    Deaths  Active Ratio  Discharge Ratio  Death Ratio  Population  \\\n",
       "0      129          0.38            98.39         1.23   100896618   \n",
       "1    14733          0.06            99.31         0.63   128500364   \n",
       "2      296          0.45            99.11         0.45      658019   \n",
       "3     8022          0.54            98.38         1.08      290492   \n",
       "4    12285          0.12            98.42         1.45    40100376   \n",
       "5     1171          0.79            98.01         1.20    30501026   \n",
       "6    14081          0.28            98.52         1.20    28900667   \n",
       "7        4          0.20            99.77         0.03   231502578   \n",
       "8    26336          0.38            98.28         1.34      773997   \n",
       "9     3855          0.41            98.06         1.52     3772103   \n",
       "10   10980          0.46            98.67         0.87    70400153   \n",
       "11   10650          0.44            98.53         1.03    14999397   \n",
       "12    4177          1.61            97.02         1.37     3436948   \n",
       "13    4776          1.07            97.91         1.02       66001   \n",
       "14    5328          0.19            98.60         1.21   124904071   \n",
       "15   40163          0.28            98.72         1.00     1711947   \n",
       "16   70582          0.15            98.80         1.05    91702478   \n",
       "17     228          0.41            98.81         0.79     4184959   \n",
       "18      52          0.00            99.54         0.46    11700099   \n",
       "19   10762          0.13            98.85         1.02     7503010   \n",
       "20  148143          0.15            98.01         1.84      399001   \n",
       "21    2138          0.18            98.29         1.53    47099270   \n",
       "22    1611          0.72            97.61         1.68    79502477   \n",
       "23     712          0.52            99.18         0.30     1308967   \n",
       "24     772          0.15            97.70         2.15    38157311   \n",
       "25    9149          0.44            98.86         0.69    19301096   \n",
       "26    1967          0.37            98.48         1.15     2073074   \n",
       "27   17832          1.60            96.11         2.29    34698876   \n",
       "28    9590          0.29            98.97         0.74     1521992   \n",
       "29     474          1.11            97.78         1.11    83697770   \n",
       "30   38033          0.26            98.67         1.07    35998752   \n",
       "31    4111          0.69            98.82         0.50    69599762   \n",
       "32     935          0.61            98.52         0.87     1646050   \n",
       "33   23576          0.26            98.62         1.12     1158040   \n",
       "34    7719          0.53            97.73         1.73    85002417   \n",
       "35   21400          0.35            98.63         1.02    32199722   \n",
       "\n",
       "    Total cases  \n",
       "0         10462  \n",
       "1       2332257  \n",
       "2         65951  \n",
       "3        737535  \n",
       "4        843973  \n",
       "5         96670  \n",
       "6       1166250  \n",
       "7         11534  \n",
       "8       1963415  \n",
       "9        252116  \n",
       "10      1256060  \n",
       "11      1032197  \n",
       "12       300464  \n",
       "13       465156  \n",
       "14       440173  \n",
       "15      4009854  \n",
       "16      6720583  \n",
       "17        28903  \n",
       "18        11415  \n",
       "19      1050098  \n",
       "20      8048769  \n",
       "21       139133  \n",
       "22        95239  \n",
       "23       233173  \n",
       "24        35784  \n",
       "25      1313676  \n",
       "26       171011  \n",
       "27       764933  \n",
       "28      1294001  \n",
       "29        42308  \n",
       "30      3544262  \n",
       "31       820617  \n",
       "32       106766  \n",
       "33      2103246  \n",
       "34       442728  \n",
       "35      2092131  "
      ]
     },
     "execution_count": 27,
     "metadata": {},
     "output_type": "execute_result"
    }
   ],
   "source": [
    "df"
   ]
  },
  {
   "cell_type": "code",
   "execution_count": 30,
   "id": "96038f1e",
   "metadata": {},
   "outputs": [],
   "source": [
    "df_Indian_cord=pd.read_excel(r\"C:\\Users\\veruv\\OneDrive\\Desktop\\python folder\\Indian Coordinates.xlsx\")"
   ]
  },
  {
   "cell_type": "code",
   "execution_count": 68,
   "id": "f993c93a",
   "metadata": {},
   "outputs": [
    {
     "data": {
      "text/html": [
       "<div>\n",
       "<style scoped>\n",
       "    .dataframe tbody tr th:only-of-type {\n",
       "        vertical-align: middle;\n",
       "    }\n",
       "\n",
       "    .dataframe tbody tr th {\n",
       "        vertical-align: top;\n",
       "    }\n",
       "\n",
       "    .dataframe thead th {\n",
       "        text-align: right;\n",
       "    }\n",
       "</style>\n",
       "<table border=\"1\" class=\"dataframe\">\n",
       "  <thead>\n",
       "    <tr style=\"text-align: right;\">\n",
       "      <th></th>\n",
       "      <th>State/UTs</th>\n",
       "      <th>Latitude</th>\n",
       "      <th>Longitude</th>\n",
       "    </tr>\n",
       "  </thead>\n",
       "  <tbody>\n",
       "    <tr>\n",
       "      <th>0</th>\n",
       "      <td>Andaman And Nicobar</td>\n",
       "      <td>11.667026</td>\n",
       "      <td>92.735983</td>\n",
       "    </tr>\n",
       "    <tr>\n",
       "      <th>1</th>\n",
       "      <td>Andhra Pradesh</td>\n",
       "      <td>14.750429</td>\n",
       "      <td>78.570026</td>\n",
       "    </tr>\n",
       "    <tr>\n",
       "      <th>2</th>\n",
       "      <td>Arunachal Pradesh</td>\n",
       "      <td>27.100399</td>\n",
       "      <td>93.616601</td>\n",
       "    </tr>\n",
       "    <tr>\n",
       "      <th>3</th>\n",
       "      <td>Assam</td>\n",
       "      <td>26.749981</td>\n",
       "      <td>94.216667</td>\n",
       "    </tr>\n",
       "    <tr>\n",
       "      <th>4</th>\n",
       "      <td>Bihar</td>\n",
       "      <td>25.785414</td>\n",
       "      <td>87.479973</td>\n",
       "    </tr>\n",
       "    <tr>\n",
       "      <th>5</th>\n",
       "      <td>Chandigarh</td>\n",
       "      <td>30.719997</td>\n",
       "      <td>76.780006</td>\n",
       "    </tr>\n",
       "    <tr>\n",
       "      <th>6</th>\n",
       "      <td>Chhattisgarh</td>\n",
       "      <td>22.090420</td>\n",
       "      <td>82.159987</td>\n",
       "    </tr>\n",
       "    <tr>\n",
       "      <th>7</th>\n",
       "      <td>Dadra And Nagar Haveli</td>\n",
       "      <td>20.266578</td>\n",
       "      <td>73.016618</td>\n",
       "    </tr>\n",
       "    <tr>\n",
       "      <th>8</th>\n",
       "      <td>Delhi</td>\n",
       "      <td>28.669993</td>\n",
       "      <td>77.230004</td>\n",
       "    </tr>\n",
       "    <tr>\n",
       "      <th>9</th>\n",
       "      <td>Goa</td>\n",
       "      <td>15.491997</td>\n",
       "      <td>73.818001</td>\n",
       "    </tr>\n",
       "    <tr>\n",
       "      <th>10</th>\n",
       "      <td>Haryana</td>\n",
       "      <td>28.450006</td>\n",
       "      <td>77.019991</td>\n",
       "    </tr>\n",
       "    <tr>\n",
       "      <th>11</th>\n",
       "      <td>Himachal Pradesh</td>\n",
       "      <td>31.100025</td>\n",
       "      <td>77.166597</td>\n",
       "    </tr>\n",
       "    <tr>\n",
       "      <th>12</th>\n",
       "      <td>Jammu and Kashmir</td>\n",
       "      <td>33.450000</td>\n",
       "      <td>76.240000</td>\n",
       "    </tr>\n",
       "    <tr>\n",
       "      <th>13</th>\n",
       "      <td>Jharkhand</td>\n",
       "      <td>23.800393</td>\n",
       "      <td>86.419986</td>\n",
       "    </tr>\n",
       "    <tr>\n",
       "      <th>14</th>\n",
       "      <td>Karnataka</td>\n",
       "      <td>12.570381</td>\n",
       "      <td>76.919997</td>\n",
       "    </tr>\n",
       "    <tr>\n",
       "      <th>15</th>\n",
       "      <td>Kerala</td>\n",
       "      <td>8.900373</td>\n",
       "      <td>76.569993</td>\n",
       "    </tr>\n",
       "    <tr>\n",
       "      <th>16</th>\n",
       "      <td>Lakshadweep</td>\n",
       "      <td>10.562573</td>\n",
       "      <td>72.636867</td>\n",
       "    </tr>\n",
       "    <tr>\n",
       "      <th>17</th>\n",
       "      <td>Madhya Pradesh</td>\n",
       "      <td>21.300391</td>\n",
       "      <td>76.130019</td>\n",
       "    </tr>\n",
       "    <tr>\n",
       "      <th>18</th>\n",
       "      <td>Maharashtra</td>\n",
       "      <td>19.250232</td>\n",
       "      <td>73.160175</td>\n",
       "    </tr>\n",
       "    <tr>\n",
       "      <th>19</th>\n",
       "      <td>Manipur</td>\n",
       "      <td>24.799971</td>\n",
       "      <td>93.950017</td>\n",
       "    </tr>\n",
       "    <tr>\n",
       "      <th>20</th>\n",
       "      <td>Meghalaya</td>\n",
       "      <td>25.570492</td>\n",
       "      <td>91.880014</td>\n",
       "    </tr>\n",
       "    <tr>\n",
       "      <th>21</th>\n",
       "      <td>Mizoram</td>\n",
       "      <td>23.710399</td>\n",
       "      <td>92.720015</td>\n",
       "    </tr>\n",
       "    <tr>\n",
       "      <th>22</th>\n",
       "      <td>Nagaland</td>\n",
       "      <td>25.666998</td>\n",
       "      <td>94.116570</td>\n",
       "    </tr>\n",
       "    <tr>\n",
       "      <th>23</th>\n",
       "      <td>Orissa</td>\n",
       "      <td>19.820430</td>\n",
       "      <td>85.900017</td>\n",
       "    </tr>\n",
       "    <tr>\n",
       "      <th>24</th>\n",
       "      <td>Puducherry</td>\n",
       "      <td>11.934994</td>\n",
       "      <td>79.830000</td>\n",
       "    </tr>\n",
       "    <tr>\n",
       "      <th>25</th>\n",
       "      <td>Punjab</td>\n",
       "      <td>31.519974</td>\n",
       "      <td>75.980003</td>\n",
       "    </tr>\n",
       "    <tr>\n",
       "      <th>26</th>\n",
       "      <td>Rajasthan</td>\n",
       "      <td>26.449999</td>\n",
       "      <td>74.639981</td>\n",
       "    </tr>\n",
       "    <tr>\n",
       "      <th>27</th>\n",
       "      <td>Sikkim</td>\n",
       "      <td>27.333330</td>\n",
       "      <td>88.616647</td>\n",
       "    </tr>\n",
       "    <tr>\n",
       "      <th>28</th>\n",
       "      <td>Telengana</td>\n",
       "      <td>18.112400</td>\n",
       "      <td>79.019300</td>\n",
       "    </tr>\n",
       "    <tr>\n",
       "      <th>29</th>\n",
       "      <td>Tamil Nadu</td>\n",
       "      <td>12.920386</td>\n",
       "      <td>79.150042</td>\n",
       "    </tr>\n",
       "    <tr>\n",
       "      <th>30</th>\n",
       "      <td>Tripura</td>\n",
       "      <td>23.835404</td>\n",
       "      <td>91.279999</td>\n",
       "    </tr>\n",
       "    <tr>\n",
       "      <th>31</th>\n",
       "      <td>Uttar Pradesh</td>\n",
       "      <td>27.599981</td>\n",
       "      <td>78.050006</td>\n",
       "    </tr>\n",
       "    <tr>\n",
       "      <th>32</th>\n",
       "      <td>Uttarakhand</td>\n",
       "      <td>30.320409</td>\n",
       "      <td>78.050006</td>\n",
       "    </tr>\n",
       "    <tr>\n",
       "      <th>33</th>\n",
       "      <td>West Bengal</td>\n",
       "      <td>22.580390</td>\n",
       "      <td>88.329947</td>\n",
       "    </tr>\n",
       "    <tr>\n",
       "      <th>34</th>\n",
       "      <td>Union Territory of Ladakh</td>\n",
       "      <td>34.100000</td>\n",
       "      <td>77.340000</td>\n",
       "    </tr>\n",
       "    <tr>\n",
       "      <th>35</th>\n",
       "      <td>Gujarat</td>\n",
       "      <td>22.258700</td>\n",
       "      <td>71.192400</td>\n",
       "    </tr>\n",
       "  </tbody>\n",
       "</table>\n",
       "</div>"
      ],
      "text/plain": [
       "                   State/UTs    Latitude  Longitude\n",
       "0        Andaman And Nicobar   11.667026  92.735983\n",
       "1              Andhra Pradesh  14.750429  78.570026\n",
       "2          Arunachal Pradesh   27.100399  93.616601\n",
       "3                      Assam   26.749981  94.216667\n",
       "4                      Bihar   25.785414  87.479973\n",
       "5                 Chandigarh   30.719997  76.780006\n",
       "6               Chhattisgarh   22.090420  82.159987\n",
       "7     Dadra And Nagar Haveli   20.266578  73.016618\n",
       "8                       Delhi  28.669993  77.230004\n",
       "9                        Goa   15.491997  73.818001\n",
       "10                    Haryana  28.450006  77.019991\n",
       "11          Himachal Pradesh   31.100025  77.166597\n",
       "12          Jammu and Kashmir  33.450000  76.240000\n",
       "13                 Jharkhand   23.800393  86.419986\n",
       "14                  Karnataka  12.570381  76.919997\n",
       "15                     Kerala   8.900373  76.569993\n",
       "16               Lakshadweep   10.562573  72.636867\n",
       "17            Madhya Pradesh   21.300391  76.130019\n",
       "18                Maharashtra  19.250232  73.160175\n",
       "19                   Manipur   24.799971  93.950017\n",
       "20                 Meghalaya   25.570492  91.880014\n",
       "21                   Mizoram   23.710399  92.720015\n",
       "22                  Nagaland   25.666998  94.116570\n",
       "23                    Orissa   19.820430  85.900017\n",
       "24                Puducherry   11.934994  79.830000\n",
       "25                     Punjab  31.519974  75.980003\n",
       "26                  Rajasthan  26.449999  74.639981\n",
       "27                    Sikkim   27.333330  88.616647\n",
       "28                  Telengana  18.112400  79.019300\n",
       "29                 Tamil Nadu  12.920386  79.150042\n",
       "30                   Tripura   23.835404  91.279999\n",
       "31              Uttar Pradesh  27.599981  78.050006\n",
       "32                Uttarakhand  30.320409  78.050006\n",
       "33               West Bengal   22.580390  88.329947\n",
       "34  Union Territory of Ladakh  34.100000  77.340000\n",
       "35                    Gujarat  22.258700  71.192400"
      ]
     },
     "execution_count": 68,
     "metadata": {},
     "output_type": "execute_result"
    }
   ],
   "source": [
    "df_Indian_cord"
   ]
  },
  {
   "cell_type": "code",
   "execution_count": 38,
   "id": "3d933490",
   "metadata": {},
   "outputs": [
    {
     "data": {
      "text/html": [
       "<div>\n",
       "<style scoped>\n",
       "    .dataframe tbody tr th:only-of-type {\n",
       "        vertical-align: middle;\n",
       "    }\n",
       "\n",
       "    .dataframe tbody tr th {\n",
       "        vertical-align: top;\n",
       "    }\n",
       "\n",
       "    .dataframe thead th {\n",
       "        text-align: right;\n",
       "    }\n",
       "</style>\n",
       "<table border=\"1\" class=\"dataframe\">\n",
       "  <thead>\n",
       "    <tr style=\"text-align: right;\">\n",
       "      <th></th>\n",
       "      <th>State/UTs</th>\n",
       "      <th>Total Cases</th>\n",
       "      <th>Active</th>\n",
       "      <th>Discharged</th>\n",
       "      <th>Deaths</th>\n",
       "      <th>Active Ratio</th>\n",
       "      <th>Discharge Ratio</th>\n",
       "      <th>Death Ratio</th>\n",
       "      <th>Population</th>\n",
       "      <th>Total cases</th>\n",
       "      <th>State/UTs</th>\n",
       "      <th>Latitude</th>\n",
       "      <th>Longitude</th>\n",
       "    </tr>\n",
       "  </thead>\n",
       "  <tbody>\n",
       "    <tr>\n",
       "      <th>0</th>\n",
       "      <td>Andaman and Nicobar</td>\n",
       "      <td>10502.0</td>\n",
       "      <td>40.0</td>\n",
       "      <td>10333.0</td>\n",
       "      <td>129.0</td>\n",
       "      <td>0.38</td>\n",
       "      <td>98.39</td>\n",
       "      <td>1.23</td>\n",
       "      <td>100896618.0</td>\n",
       "      <td>10462.0</td>\n",
       "      <td>NaN</td>\n",
       "      <td>NaN</td>\n",
       "      <td>NaN</td>\n",
       "    </tr>\n",
       "    <tr>\n",
       "      <th>1</th>\n",
       "      <td>Andhra Pradesh</td>\n",
       "      <td>2333710.0</td>\n",
       "      <td>1453.0</td>\n",
       "      <td>2317524.0</td>\n",
       "      <td>14733.0</td>\n",
       "      <td>0.06</td>\n",
       "      <td>99.31</td>\n",
       "      <td>0.63</td>\n",
       "      <td>128500364.0</td>\n",
       "      <td>2332257.0</td>\n",
       "      <td>NaN</td>\n",
       "      <td>NaN</td>\n",
       "      <td>NaN</td>\n",
       "    </tr>\n",
       "    <tr>\n",
       "      <th>2</th>\n",
       "      <td>Arunachal Pradesh</td>\n",
       "      <td>66246.0</td>\n",
       "      <td>295.0</td>\n",
       "      <td>65655.0</td>\n",
       "      <td>296.0</td>\n",
       "      <td>0.45</td>\n",
       "      <td>99.11</td>\n",
       "      <td>0.45</td>\n",
       "      <td>658019.0</td>\n",
       "      <td>65951.0</td>\n",
       "      <td>NaN</td>\n",
       "      <td>NaN</td>\n",
       "      <td>NaN</td>\n",
       "    </tr>\n",
       "    <tr>\n",
       "      <th>3</th>\n",
       "      <td>Assam</td>\n",
       "      <td>741541.0</td>\n",
       "      <td>4006.0</td>\n",
       "      <td>729513.0</td>\n",
       "      <td>8022.0</td>\n",
       "      <td>0.54</td>\n",
       "      <td>98.38</td>\n",
       "      <td>1.08</td>\n",
       "      <td>290492.0</td>\n",
       "      <td>737535.0</td>\n",
       "      <td>NaN</td>\n",
       "      <td>NaN</td>\n",
       "      <td>NaN</td>\n",
       "    </tr>\n",
       "    <tr>\n",
       "      <th>4</th>\n",
       "      <td>Bihar</td>\n",
       "      <td>844997.0</td>\n",
       "      <td>1024.0</td>\n",
       "      <td>831688.0</td>\n",
       "      <td>12285.0</td>\n",
       "      <td>0.12</td>\n",
       "      <td>98.42</td>\n",
       "      <td>1.45</td>\n",
       "      <td>40100376.0</td>\n",
       "      <td>843973.0</td>\n",
       "      <td>NaN</td>\n",
       "      <td>NaN</td>\n",
       "      <td>NaN</td>\n",
       "    </tr>\n",
       "    <tr>\n",
       "      <th>...</th>\n",
       "      <td>...</td>\n",
       "      <td>...</td>\n",
       "      <td>...</td>\n",
       "      <td>...</td>\n",
       "      <td>...</td>\n",
       "      <td>...</td>\n",
       "      <td>...</td>\n",
       "      <td>...</td>\n",
       "      <td>...</td>\n",
       "      <td>...</td>\n",
       "      <td>...</td>\n",
       "      <td>...</td>\n",
       "      <td>...</td>\n",
       "    </tr>\n",
       "    <tr>\n",
       "      <th>31</th>\n",
       "      <td>NaN</td>\n",
       "      <td>NaN</td>\n",
       "      <td>NaN</td>\n",
       "      <td>NaN</td>\n",
       "      <td>NaN</td>\n",
       "      <td>NaN</td>\n",
       "      <td>NaN</td>\n",
       "      <td>NaN</td>\n",
       "      <td>NaN</td>\n",
       "      <td>NaN</td>\n",
       "      <td>Uttar Pradesh</td>\n",
       "      <td>27.599981</td>\n",
       "      <td>78.050006</td>\n",
       "    </tr>\n",
       "    <tr>\n",
       "      <th>32</th>\n",
       "      <td>NaN</td>\n",
       "      <td>NaN</td>\n",
       "      <td>NaN</td>\n",
       "      <td>NaN</td>\n",
       "      <td>NaN</td>\n",
       "      <td>NaN</td>\n",
       "      <td>NaN</td>\n",
       "      <td>NaN</td>\n",
       "      <td>NaN</td>\n",
       "      <td>NaN</td>\n",
       "      <td>Uttarakhand</td>\n",
       "      <td>30.320409</td>\n",
       "      <td>78.050006</td>\n",
       "    </tr>\n",
       "    <tr>\n",
       "      <th>33</th>\n",
       "      <td>NaN</td>\n",
       "      <td>NaN</td>\n",
       "      <td>NaN</td>\n",
       "      <td>NaN</td>\n",
       "      <td>NaN</td>\n",
       "      <td>NaN</td>\n",
       "      <td>NaN</td>\n",
       "      <td>NaN</td>\n",
       "      <td>NaN</td>\n",
       "      <td>NaN</td>\n",
       "      <td>West Bengal</td>\n",
       "      <td>22.580390</td>\n",
       "      <td>88.329947</td>\n",
       "    </tr>\n",
       "    <tr>\n",
       "      <th>34</th>\n",
       "      <td>NaN</td>\n",
       "      <td>NaN</td>\n",
       "      <td>NaN</td>\n",
       "      <td>NaN</td>\n",
       "      <td>NaN</td>\n",
       "      <td>NaN</td>\n",
       "      <td>NaN</td>\n",
       "      <td>NaN</td>\n",
       "      <td>NaN</td>\n",
       "      <td>NaN</td>\n",
       "      <td>Union Territory of Ladakh</td>\n",
       "      <td>34.100000</td>\n",
       "      <td>77.340000</td>\n",
       "    </tr>\n",
       "    <tr>\n",
       "      <th>35</th>\n",
       "      <td>NaN</td>\n",
       "      <td>NaN</td>\n",
       "      <td>NaN</td>\n",
       "      <td>NaN</td>\n",
       "      <td>NaN</td>\n",
       "      <td>NaN</td>\n",
       "      <td>NaN</td>\n",
       "      <td>NaN</td>\n",
       "      <td>NaN</td>\n",
       "      <td>NaN</td>\n",
       "      <td>Gujarat</td>\n",
       "      <td>22.258700</td>\n",
       "      <td>71.192400</td>\n",
       "    </tr>\n",
       "  </tbody>\n",
       "</table>\n",
       "<p>72 rows × 13 columns</p>\n",
       "</div>"
      ],
      "text/plain": [
       "              State/UTs  Total Cases  Active  Discharged   Deaths  \\\n",
       "0   Andaman and Nicobar      10502.0    40.0     10333.0    129.0   \n",
       "1        Andhra Pradesh    2333710.0  1453.0   2317524.0  14733.0   \n",
       "2     Arunachal Pradesh      66246.0   295.0     65655.0    296.0   \n",
       "3                 Assam     741541.0  4006.0    729513.0   8022.0   \n",
       "4                 Bihar     844997.0  1024.0    831688.0  12285.0   \n",
       "..                  ...          ...     ...         ...      ...   \n",
       "31                  NaN          NaN     NaN         NaN      NaN   \n",
       "32                  NaN          NaN     NaN         NaN      NaN   \n",
       "33                  NaN          NaN     NaN         NaN      NaN   \n",
       "34                  NaN          NaN     NaN         NaN      NaN   \n",
       "35                  NaN          NaN     NaN         NaN      NaN   \n",
       "\n",
       "    Active Ratio  Discharge Ratio  Death Ratio   Population  Total cases  \\\n",
       "0           0.38            98.39         1.23  100896618.0      10462.0   \n",
       "1           0.06            99.31         0.63  128500364.0    2332257.0   \n",
       "2           0.45            99.11         0.45     658019.0      65951.0   \n",
       "3           0.54            98.38         1.08     290492.0     737535.0   \n",
       "4           0.12            98.42         1.45   40100376.0     843973.0   \n",
       "..           ...              ...          ...          ...          ...   \n",
       "31           NaN              NaN          NaN          NaN          NaN   \n",
       "32           NaN              NaN          NaN          NaN          NaN   \n",
       "33           NaN              NaN          NaN          NaN          NaN   \n",
       "34           NaN              NaN          NaN          NaN          NaN   \n",
       "35           NaN              NaN          NaN          NaN          NaN   \n",
       "\n",
       "                   State/UTs    Latitude  Longitude  \n",
       "0                         NaN        NaN        NaN  \n",
       "1                         NaN        NaN        NaN  \n",
       "2                         NaN        NaN        NaN  \n",
       "3                         NaN        NaN        NaN  \n",
       "4                         NaN        NaN        NaN  \n",
       "..                        ...        ...        ...  \n",
       "31              Uttar Pradesh  27.599981  78.050006  \n",
       "32                Uttarakhand  30.320409  78.050006  \n",
       "33               West Bengal   22.580390  88.329947  \n",
       "34  Union Territory of Ladakh  34.100000  77.340000  \n",
       "35                    Gujarat  22.258700  71.192400  \n",
       "\n",
       "[72 rows x 13 columns]"
      ]
     },
     "execution_count": 38,
     "metadata": {},
     "output_type": "execute_result"
    }
   ],
   "source": [
    "df2=pd.concat([df,df_Indian_cord])\n",
    "df2"
   ]
  },
  {
   "cell_type": "code",
   "execution_count": 39,
   "id": "e447126f",
   "metadata": {},
   "outputs": [
    {
     "data": {
      "text/html": [
       "<div>\n",
       "<style scoped>\n",
       "    .dataframe tbody tr th:only-of-type {\n",
       "        vertical-align: middle;\n",
       "    }\n",
       "\n",
       "    .dataframe tbody tr th {\n",
       "        vertical-align: top;\n",
       "    }\n",
       "\n",
       "    .dataframe thead th {\n",
       "        text-align: right;\n",
       "    }\n",
       "</style>\n",
       "<table border=\"1\" class=\"dataframe\">\n",
       "  <thead>\n",
       "    <tr style=\"text-align: right;\">\n",
       "      <th></th>\n",
       "      <th>State/UTs</th>\n",
       "      <th>Total Cases</th>\n",
       "      <th>Active</th>\n",
       "      <th>Discharged</th>\n",
       "      <th>Deaths</th>\n",
       "      <th>Active Ratio</th>\n",
       "      <th>Discharge Ratio</th>\n",
       "      <th>Death Ratio</th>\n",
       "      <th>Population</th>\n",
       "      <th>Total cases</th>\n",
       "      <th>State/UTs</th>\n",
       "      <th>Latitude</th>\n",
       "      <th>Longitude</th>\n",
       "    </tr>\n",
       "  </thead>\n",
       "  <tbody>\n",
       "    <tr>\n",
       "      <th>0</th>\n",
       "      <td>Andaman and Nicobar</td>\n",
       "      <td>10502.0</td>\n",
       "      <td>40.0</td>\n",
       "      <td>10333.0</td>\n",
       "      <td>129.0</td>\n",
       "      <td>0.38</td>\n",
       "      <td>98.39</td>\n",
       "      <td>1.23</td>\n",
       "      <td>100896618.0</td>\n",
       "      <td>10462.0</td>\n",
       "      <td>NaN</td>\n",
       "      <td>NaN</td>\n",
       "      <td>NaN</td>\n",
       "    </tr>\n",
       "    <tr>\n",
       "      <th>1</th>\n",
       "      <td>Andhra Pradesh</td>\n",
       "      <td>2333710.0</td>\n",
       "      <td>1453.0</td>\n",
       "      <td>2317524.0</td>\n",
       "      <td>14733.0</td>\n",
       "      <td>0.06</td>\n",
       "      <td>99.31</td>\n",
       "      <td>0.63</td>\n",
       "      <td>128500364.0</td>\n",
       "      <td>2332257.0</td>\n",
       "      <td>NaN</td>\n",
       "      <td>NaN</td>\n",
       "      <td>NaN</td>\n",
       "    </tr>\n",
       "    <tr>\n",
       "      <th>2</th>\n",
       "      <td>Arunachal Pradesh</td>\n",
       "      <td>66246.0</td>\n",
       "      <td>295.0</td>\n",
       "      <td>65655.0</td>\n",
       "      <td>296.0</td>\n",
       "      <td>0.45</td>\n",
       "      <td>99.11</td>\n",
       "      <td>0.45</td>\n",
       "      <td>658019.0</td>\n",
       "      <td>65951.0</td>\n",
       "      <td>NaN</td>\n",
       "      <td>NaN</td>\n",
       "      <td>NaN</td>\n",
       "    </tr>\n",
       "    <tr>\n",
       "      <th>3</th>\n",
       "      <td>Assam</td>\n",
       "      <td>741541.0</td>\n",
       "      <td>4006.0</td>\n",
       "      <td>729513.0</td>\n",
       "      <td>8022.0</td>\n",
       "      <td>0.54</td>\n",
       "      <td>98.38</td>\n",
       "      <td>1.08</td>\n",
       "      <td>290492.0</td>\n",
       "      <td>737535.0</td>\n",
       "      <td>NaN</td>\n",
       "      <td>NaN</td>\n",
       "      <td>NaN</td>\n",
       "    </tr>\n",
       "    <tr>\n",
       "      <th>4</th>\n",
       "      <td>Bihar</td>\n",
       "      <td>844997.0</td>\n",
       "      <td>1024.0</td>\n",
       "      <td>831688.0</td>\n",
       "      <td>12285.0</td>\n",
       "      <td>0.12</td>\n",
       "      <td>98.42</td>\n",
       "      <td>1.45</td>\n",
       "      <td>40100376.0</td>\n",
       "      <td>843973.0</td>\n",
       "      <td>NaN</td>\n",
       "      <td>NaN</td>\n",
       "      <td>NaN</td>\n",
       "    </tr>\n",
       "    <tr>\n",
       "      <th>...</th>\n",
       "      <td>...</td>\n",
       "      <td>...</td>\n",
       "      <td>...</td>\n",
       "      <td>...</td>\n",
       "      <td>...</td>\n",
       "      <td>...</td>\n",
       "      <td>...</td>\n",
       "      <td>...</td>\n",
       "      <td>...</td>\n",
       "      <td>...</td>\n",
       "      <td>...</td>\n",
       "      <td>...</td>\n",
       "      <td>...</td>\n",
       "    </tr>\n",
       "    <tr>\n",
       "      <th>67</th>\n",
       "      <td>NaN</td>\n",
       "      <td>NaN</td>\n",
       "      <td>NaN</td>\n",
       "      <td>NaN</td>\n",
       "      <td>NaN</td>\n",
       "      <td>NaN</td>\n",
       "      <td>NaN</td>\n",
       "      <td>NaN</td>\n",
       "      <td>NaN</td>\n",
       "      <td>NaN</td>\n",
       "      <td>Uttar Pradesh</td>\n",
       "      <td>27.599981</td>\n",
       "      <td>78.050006</td>\n",
       "    </tr>\n",
       "    <tr>\n",
       "      <th>68</th>\n",
       "      <td>NaN</td>\n",
       "      <td>NaN</td>\n",
       "      <td>NaN</td>\n",
       "      <td>NaN</td>\n",
       "      <td>NaN</td>\n",
       "      <td>NaN</td>\n",
       "      <td>NaN</td>\n",
       "      <td>NaN</td>\n",
       "      <td>NaN</td>\n",
       "      <td>NaN</td>\n",
       "      <td>Uttarakhand</td>\n",
       "      <td>30.320409</td>\n",
       "      <td>78.050006</td>\n",
       "    </tr>\n",
       "    <tr>\n",
       "      <th>69</th>\n",
       "      <td>NaN</td>\n",
       "      <td>NaN</td>\n",
       "      <td>NaN</td>\n",
       "      <td>NaN</td>\n",
       "      <td>NaN</td>\n",
       "      <td>NaN</td>\n",
       "      <td>NaN</td>\n",
       "      <td>NaN</td>\n",
       "      <td>NaN</td>\n",
       "      <td>NaN</td>\n",
       "      <td>West Bengal</td>\n",
       "      <td>22.580390</td>\n",
       "      <td>88.329947</td>\n",
       "    </tr>\n",
       "    <tr>\n",
       "      <th>70</th>\n",
       "      <td>NaN</td>\n",
       "      <td>NaN</td>\n",
       "      <td>NaN</td>\n",
       "      <td>NaN</td>\n",
       "      <td>NaN</td>\n",
       "      <td>NaN</td>\n",
       "      <td>NaN</td>\n",
       "      <td>NaN</td>\n",
       "      <td>NaN</td>\n",
       "      <td>NaN</td>\n",
       "      <td>Union Territory of Ladakh</td>\n",
       "      <td>34.100000</td>\n",
       "      <td>77.340000</td>\n",
       "    </tr>\n",
       "    <tr>\n",
       "      <th>71</th>\n",
       "      <td>NaN</td>\n",
       "      <td>NaN</td>\n",
       "      <td>NaN</td>\n",
       "      <td>NaN</td>\n",
       "      <td>NaN</td>\n",
       "      <td>NaN</td>\n",
       "      <td>NaN</td>\n",
       "      <td>NaN</td>\n",
       "      <td>NaN</td>\n",
       "      <td>NaN</td>\n",
       "      <td>Gujarat</td>\n",
       "      <td>22.258700</td>\n",
       "      <td>71.192400</td>\n",
       "    </tr>\n",
       "  </tbody>\n",
       "</table>\n",
       "<p>72 rows × 13 columns</p>\n",
       "</div>"
      ],
      "text/plain": [
       "              State/UTs  Total Cases  Active  Discharged   Deaths  \\\n",
       "0   Andaman and Nicobar      10502.0    40.0     10333.0    129.0   \n",
       "1        Andhra Pradesh    2333710.0  1453.0   2317524.0  14733.0   \n",
       "2     Arunachal Pradesh      66246.0   295.0     65655.0    296.0   \n",
       "3                 Assam     741541.0  4006.0    729513.0   8022.0   \n",
       "4                 Bihar     844997.0  1024.0    831688.0  12285.0   \n",
       "..                  ...          ...     ...         ...      ...   \n",
       "67                  NaN          NaN     NaN         NaN      NaN   \n",
       "68                  NaN          NaN     NaN         NaN      NaN   \n",
       "69                  NaN          NaN     NaN         NaN      NaN   \n",
       "70                  NaN          NaN     NaN         NaN      NaN   \n",
       "71                  NaN          NaN     NaN         NaN      NaN   \n",
       "\n",
       "    Active Ratio  Discharge Ratio  Death Ratio   Population  Total cases  \\\n",
       "0           0.38            98.39         1.23  100896618.0      10462.0   \n",
       "1           0.06            99.31         0.63  128500364.0    2332257.0   \n",
       "2           0.45            99.11         0.45     658019.0      65951.0   \n",
       "3           0.54            98.38         1.08     290492.0     737535.0   \n",
       "4           0.12            98.42         1.45   40100376.0     843973.0   \n",
       "..           ...              ...          ...          ...          ...   \n",
       "67           NaN              NaN          NaN          NaN          NaN   \n",
       "68           NaN              NaN          NaN          NaN          NaN   \n",
       "69           NaN              NaN          NaN          NaN          NaN   \n",
       "70           NaN              NaN          NaN          NaN          NaN   \n",
       "71           NaN              NaN          NaN          NaN          NaN   \n",
       "\n",
       "                   State/UTs    Latitude  Longitude  \n",
       "0                         NaN        NaN        NaN  \n",
       "1                         NaN        NaN        NaN  \n",
       "2                         NaN        NaN        NaN  \n",
       "3                         NaN        NaN        NaN  \n",
       "4                         NaN        NaN        NaN  \n",
       "..                        ...        ...        ...  \n",
       "67              Uttar Pradesh  27.599981  78.050006  \n",
       "68                Uttarakhand  30.320409  78.050006  \n",
       "69               West Bengal   22.580390  88.329947  \n",
       "70  Union Territory of Ladakh  34.100000  77.340000  \n",
       "71                    Gujarat  22.258700  71.192400  \n",
       "\n",
       "[72 rows x 13 columns]"
      ]
     },
     "execution_count": 39,
     "metadata": {},
     "output_type": "execute_result"
    }
   ],
   "source": [
    "df2=pd.concat([df,df_Indian_cord],ignore_index=True)\n",
    "df2"
   ]
  },
  {
   "cell_type": "code",
   "execution_count": null,
   "id": "114f9651",
   "metadata": {},
   "outputs": [],
   "source": []
  }
 ],
 "metadata": {
  "kernelspec": {
   "display_name": "Python 3 (ipykernel)",
   "language": "python",
   "name": "python3"
  },
  "language_info": {
   "codemirror_mode": {
    "name": "ipython",
    "version": 3
   },
   "file_extension": ".py",
   "mimetype": "text/x-python",
   "name": "python",
   "nbconvert_exporter": "python",
   "pygments_lexer": "ipython3",
   "version": "3.9.12"
  }
 },
 "nbformat": 4,
 "nbformat_minor": 5
}
